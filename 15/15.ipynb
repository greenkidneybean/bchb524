{
 "cells": [
  {
   "cell_type": "markdown",
   "metadata": {},
   "source": [
    "# Lect 15"
   ]
  },
  {
   "cell_type": "code",
   "execution_count": 29,
   "metadata": {},
   "outputs": [],
   "source": [
    "import xml.etree.ElementTree as ET"
   ]
  },
  {
   "cell_type": "code",
   "execution_count": 2,
   "metadata": {},
   "outputs": [],
   "source": [
    "document = ET.parse('recipe.xml')"
   ]
  },
  {
   "cell_type": "code",
   "execution_count": 3,
   "metadata": {},
   "outputs": [],
   "source": [
    "root = document.getroot()"
   ]
  },
  {
   "cell_type": "code",
   "execution_count": 4,
   "metadata": {},
   "outputs": [
    {
     "data": {
      "text/plain": [
       "<Element 'recipe' at 0x10749fd18>"
      ]
     },
     "execution_count": 4,
     "metadata": {},
     "output_type": "execute_result"
    }
   ],
   "source": [
    "root"
   ]
  },
  {
   "cell_type": "code",
   "execution_count": 5,
   "metadata": {},
   "outputs": [
    {
     "name": "stdout",
     "output_type": "stream",
     "text": [
      "<?xml version=\"1.0\"?>\n",
      " <!-- Bread recipie description -->\n",
      " <recipe name=\"bread\" prep_time=\"5 mins\" cook_time=\"3 hours\">\n",
      "   <title>Basic bread</title>\n",
      "   <ingredient amount=\"8\" unit=\"dL\">Flour</ingredient>\n",
      "   <ingredient amount=\"10\" unit=\"grams\">Yeast</ingredient>\n",
      "   <ingredient amount=\"4\" unit=\"dL\" state=\"warm\">Water</ingredient>\n",
      "   <ingredient amount=\"1\" unit=\"teaspoon\">Salt</ingredient>\n",
      "   <instructions>\n",
      "     <step>Mix all ingredients together.</step>\n",
      "     <step>Knead thoroughly.</step>\n",
      "     <step>Cover with a cloth, and leave for one hour in warm room.</step>\n",
      "     <step>Knead again.</step>\n",
      "     <step>Place in a bread baking tin.</step>\n",
      "     <step>Cover with a cloth, and leave for one hour in warm room.</step>\n",
      "     <step>Bake in the oven at 180(degrees)C for 30 minutes.</step>\n",
      "   </instructions>\n",
      " </recipe>"
     ]
    }
   ],
   "source": [
    "!cat recipe.xml\n"
   ]
  },
  {
   "cell_type": "code",
   "execution_count": 6,
   "metadata": {},
   "outputs": [
    {
     "name": "stdout",
     "output_type": "stream",
     "text": [
      "recipe\n"
     ]
    }
   ],
   "source": [
    "print(root.tag)"
   ]
  },
  {
   "cell_type": "code",
   "execution_count": 7,
   "metadata": {},
   "outputs": [
    {
     "name": "stdout",
     "output_type": "stream",
     "text": [
      "title {} Basic bread\n"
     ]
    }
   ],
   "source": [
    "ele = root.find('title')\n",
    "print(ele.tag, ele.attrib, ele.text)"
   ]
  },
  {
   "cell_type": "code",
   "execution_count": 8,
   "metadata": {},
   "outputs": [
    {
     "name": "stdout",
     "output_type": "stream",
     "text": [
      "title {} Basic bread\n",
      "ingredient {'amount': '8', 'unit': 'dL'} Flour\n",
      "ingredient {'amount': '10', 'unit': 'grams'} Yeast\n",
      "ingredient {'amount': '4', 'unit': 'dL', 'state': 'warm'} Water\n",
      "ingredient {'amount': '1', 'unit': 'teaspoon'} Salt\n",
      "instructions {} \n",
      "     \n"
     ]
    }
   ],
   "source": [
    "for ele in root:\n",
    "    print(ele.tag, ele.attrib, ele.text)"
   ]
  },
  {
   "cell_type": "code",
   "execution_count": 9,
   "metadata": {},
   "outputs": [
    {
     "name": "stdout",
     "output_type": "stream",
     "text": [
      "title {} Basic bread\n",
      "ingredient {'amount': '8', 'unit': 'dL'} Flour\n",
      "ingredient {'amount': '10', 'unit': 'grams'} Yeast\n",
      "ingredient {'amount': '4', 'unit': 'dL', 'state': 'warm'} Water\n",
      "ingredient {'amount': '1', 'unit': 'teaspoon'} Salt\n",
      "instructions {} \n",
      "     \n"
     ]
    }
   ],
   "source": [
    "for i in root:\n",
    "    print(i.tag, i.attrib, i.text)"
   ]
  },
  {
   "cell_type": "code",
   "execution_count": 12,
   "metadata": {},
   "outputs": [
    {
     "name": "stdout",
     "output_type": "stream",
     "text": [
      "ingredient {'amount': '8', 'unit': 'dL'} Flour\n",
      "ingredient {'amount': '10', 'unit': 'grams'} Yeast\n",
      "ingredient {'amount': '4', 'unit': 'dL', 'state': 'warm'} Water\n",
      "ingredient {'amount': '1', 'unit': 'teaspoon'} Salt\n"
     ]
    }
   ],
   "source": [
    "for ele in root.findall('ingredient'):\n",
    "    print(ele.tag, ele.attrib, ele.text)"
   ]
  },
  {
   "cell_type": "code",
   "execution_count": 13,
   "metadata": {},
   "outputs": [],
   "source": [
    "for ele in root.findall('step'):\n",
    "    print(ele.tag, ele.attrib, ele.text)"
   ]
  },
  {
   "cell_type": "code",
   "execution_count": 16,
   "metadata": {},
   "outputs": [
    {
     "name": "stdout",
     "output_type": "stream",
     "text": [
      "step {} Mix all ingredients together.\n",
      "step {} Knead thoroughly.\n",
      "step {} Cover with a cloth, and leave for one hour in warm room.\n",
      "step {} Knead again.\n",
      "step {} Place in a bread baking tin.\n",
      "step {} Cover with a cloth, and leave for one hour in warm room.\n",
      "step {} Bake in the oven at 180(degrees)C for 30 minutes.\n"
     ]
    }
   ],
   "source": [
    "inst = root.find('instructions')\n",
    "for ele in inst.findall('step'):\n",
    "    print(ele.tag, ele.attrib, ele.text)"
   ]
  },
  {
   "cell_type": "code",
   "execution_count": 17,
   "metadata": {},
   "outputs": [
    {
     "name": "stdout",
     "output_type": "stream",
     "text": [
      "step {} Mix all ingredients together.\n",
      "step {} Knead thoroughly.\n",
      "step {} Cover with a cloth, and leave for one hour in warm room.\n",
      "step {} Knead again.\n",
      "step {} Place in a bread baking tin.\n",
      "step {} Cover with a cloth, and leave for one hour in warm room.\n",
      "step {} Bake in the oven at 180(degrees)C for 30 minutes.\n"
     ]
    }
   ],
   "source": [
    "for ele in root.getiterator('step'):\n",
    "    print(ele.tag, ele.attrib, ele.text)"
   ]
  },
  {
   "cell_type": "code",
   "execution_count": 13,
   "metadata": {},
   "outputs": [
    {
     "name": "stdout",
     "output_type": "stream",
     "text": [
      "Basic bread\n",
      "\n",
      "Ingredients:\n",
      "8 dL  Flour\n",
      "10 grams  Yeast\n",
      "4 dL warm Water\n",
      "1 teaspoon  Salt\n",
      "\n",
      "Instructions:\n",
      "1 Mix all ingredients together.\n",
      "2 Knead thoroughly.\n",
      "3 Cover with a cloth, and leave for one hour in warm room.\n",
      "4 Knead again.\n",
      "5 Place in a bread baking tin.\n",
      "6 Cover with a cloth, and leave for one hour in warm room.\n",
      "7 Bake in the oven at 180(degrees)C for 30 minutes.\n"
     ]
    }
   ],
   "source": [
    "document = ET.parse(\"recipe.xml\")\n",
    "root = document.getroot()\n",
    "\n",
    "ele = root.find('title')\n",
    "print(ele.text)\n",
    "print()\n",
    "\n",
    "print(\"Ingredients:\")\n",
    "for ele in root.findall('ingredient'):\n",
    "    print(ele.attrib['amount'], ele.attrib['unit'], end=\" \")\n",
    "    print(ele.attrib.get('state',''), ele.text)\n",
    "\n",
    "print()\n",
    "print(\"Instructions:\")\n",
    "ele = root.find('instructions')\n",
    "for i,step in enumerate(ele.findall('step')):\n",
    "    print(i+1, step.text)\n",
    "                         \n",
    "                         "
   ]
  },
  {
   "cell_type": "code",
   "execution_count": 17,
   "metadata": {},
   "outputs": [
    {
     "name": "stdout",
     "output_type": "stream",
     "text": [
      "Basic bread\n",
      "\n",
      "Instructions:\n",
      "  1 Mix all ingredients together.\n",
      "  2 Knead thoroughly.\n",
      "  3 Cover with a cloth, and leave for one hour in warm room.\n",
      "  4 Knead again.\n",
      "  5 Place in a bread baking tin.\n",
      "  6 Cover with a cloth, and leave for one hour in warm room.\n",
      "  7 Bake in the oven at 180(degrees)C for 30 minutes.\n",
      "\n",
      "Ingredients:\n",
      "  8 dL Flour\n",
      "  1 teaspoon Salt\n",
      "  4 dL warm Water\n",
      "  10 grams Yeast\n"
     ]
    }
   ],
   "source": [
    "document = ET.parse(\"recipe.xml\")\n",
    "root = document.getroot()\n",
    "ele = root.find('title')\n",
    "title = ele.text\n",
    "\n",
    "ingredients = []\n",
    "for ele in root.findall('ingredient'):\n",
    "    ingredients.append([ele.text, ele.attrib['amount'], ele.attrib['unit']])\n",
    "    if ele.attrib.get('state'):\n",
    "        ingredients[-1].append(ele.attrib['state'])\n",
    "\n",
    "ele = root.find('instructions')\n",
    "steps = []\n",
    "for step in ele.findall('step'):\n",
    "    steps.append(step.text)\n",
    "\n",
    "print(title)\n",
    "print()\n",
    "print(\"Instructions:\")\n",
    "for i, inst in enumerate(steps):\n",
    "    print(\" \", i+1, inst)\n",
    "print()\n",
    "print(\"Ingredients:\")\n",
    "for indg in sorted(ingredients):\n",
    "    print(\" \", \" \".join(indg[1:]+indg[:1]))\n",
    "\n",
    "                         \n",
    "                         "
   ]
  },
  {
   "cell_type": "markdown",
   "metadata": {},
   "source": [
    "# exercise 15.1"
   ]
  },
  {
   "cell_type": "code",
   "execution_count": null,
   "metadata": {},
   "outputs": [],
   "source": [
    "# references will contain all the references in the xml\n",
    "references = {}\n",
    "\n",
    "# will have to check if each of these elements exist\n",
    "ref_dict = {\n",
    "    'type':\n",
    "    'authorList':[], # element in citation, persons\n",
    "    'title': # element in citation\n",
    "    'journal': # citation attribute name\n",
    "    'year': # citation attribute date\n",
    "    'doi': # db reference type DOI ID\n",
    "}"
   ]
  },
  {
   "cell_type": "code",
   "execution_count": null,
   "metadata": {},
   "outputs": [],
   "source": []
  },
  {
   "cell_type": "markdown",
   "metadata": {},
   "source": [
    "construct dictionary\n",
    "data_dict = {1:\n",
    "    [ref_dict:{\n",
    "        ref_attrib\n",
    "            type\n",
    "            date\n",
    "            name\n",
    "            volume\n",
    "            first_p\n",
    "            last_p\n",
    "        title:,authorList:, dbReference:"
   ]
  },
  {
   "cell_type": "code",
   "execution_count": 110,
   "metadata": {},
   "outputs": [
    {
     "name": "stdout",
     "output_type": "stream",
     "text": [
      "1.  Journal Article: Brdickova N., Brdicka T., Angelisova P., Horvath O., Spicka J., Hilgert I., Paces J., Simeoni L., Kliche S., Merten C., Schraven B., Horejsi V.. \"LIME: a new membrane raft-associated adaptor protein involved in CD4 and CD8 coreceptor signaling.\" J. Exp. Med. DOI: 10.1084/jem.20031484\n",
      "\n",
      "2.  Journal Article: Hur E.M., Son M., Lee O.-H., Choi Y.B., Park C., Lee H., Yun Y.. \"LIME, a novel transmembrane adaptor protein, associates with p56lck and mediates T cell activation.\" J. Exp. Med. DOI: 10.1084/jem.20030232\n",
      "\n",
      "3.  Journal Article: Wan D., Gong Y., Qin W., Zhang P., Li J., Wei L., Zhou X., Li H., Qiu X., Zhong F., He L., Yu J., Yao G., Jiang H., Qian L., Yu Y., Shu H., Chen X., Xu H., Guo M., Pan Z., Chen Y., Ge C., Yang S., Gu J.. \"Large-scale cDNA transfection screening for genes related to cancer development and progression.\" Proc. Natl. Acad. Sci. U.S.A. DOI: 10.1073/pnas.0404089101\n",
      "\n",
      "4.  Journal Article: Ota T., Suzuki Y., Nishikawa T., Otsuki T., Sugiyama T., Irie R., Wakamatsu A., Hayashi K., Sato H., Nagai K., Kimura K., Makita H., Sekine M., Obayashi M., Nishi T., Shibahara T., Tanaka T., Ishii S., Yamamoto J., Saito K., Kawai Y., Isono Y., Nakamura Y., Nagahari K., Murakami K., Yasuda T., Iwayanagi T., Wagatsuma M., Shiratori A., Sudo H., Hosoiri T., Kaku Y., Kodaira H., Kondo H., Sugawara M., Takahashi M., Kanda K., Yokoi T., Furuya T., Kikkawa E., Omura Y., Abe K., Kamihara K., Katsuta N., Sato K., Tanikawa M., Yamazaki M., Ninomiya K., Ishibashi T., Yamashita H., Murakawa K., Fujimori K., Tanai H., Kimata M., Watanabe M., Hiraoka S., Chiba Y., Ishida S., Ono Y., Takiguchi S., Watanabe S., Yosida M., Hotuta T., Kusano J., Kanehori K., Takahashi-Fujii A., Hara H., Tanase T.-O., Nomura Y., Togiya S., Komai F., Hara R., Takeuchi K., Arita M., Imose N., Musashino K., Yuuki H., Oshima A., Sasaki N., Aotsuka S., Yoshikawa Y., Matsunawa H., Ichihara T., Shiohata N., Sano S., Moriya S., Momiyama H., Satoh N., Takami S., Terashima Y., Suzuki O., Nakagawa S., Senoh A., Mizoguchi H., Goto Y., Shimizu F., Wakebe H., Hishigaki H., Watanabe T., Sugiyama A., Takemoto M., Kawakami B., Yamazaki M., Watanabe K., Kumagai A., Itakura S., Fukuzumi Y., Fujimori Y., Komiyama M., Tashiro H., Tanigami A., Fujiwara T., Ono T., Yamada K., Fujii Y., Ozaki K., Hirao M., Ohmori Y., Kawabata A., Hikiji T., Kobatake N., Inagaki H., Ikema Y., Okamoto S., Okitani R., Kawakami T., Noguchi S., Itoh T., Shigeta K., Senba T., Matsumura K., Nakajima Y., Mizuno T., Morinaga M., Sasaki M., Togashi T., Oyama M., Hata H., Watanabe M., Komatsu T., Mizushima-Sugano J., Satoh T., Shirai Y., Takahashi Y., Nakagawa K., Okumura K., Nagase T., Nomura N., Kikuchi H., Masuho Y., Yamashita R., Nakai K., Yada T., Nakamura Y., Ohara O., Isogai T., Sugano S.. \"Complete sequencing and characterization of 21,243 full-length human cDNAs.\" Nat. Genet. DOI: 10.1038/ng1285\n",
      "\n",
      "5.  Journal Article: Deloukas P., Matthews L.H., Ashurst J.L., Burton J., Gilbert J.G.R., Jones M., Stavrides G., Almeida J.P., Babbage A.K., Bagguley C.L., Bailey J., Barlow K.F., Bates K.N., Beard L.M., Beare D.M., Beasley O.P., Bird C.P., Blakey S.E., Bridgeman A.M., Brown A.J., Buck D., Burrill W.D., Butler A.P., Carder C., Carter N.P., Chapman J.C., Clamp M., Clark G., Clark L.N., Clark S.Y., Clee C.M., Clegg S., Cobley V.E., Collier R.E., Connor R.E., Corby N.R., Coulson A., Coville G.J., Deadman R., Dhami P.D., Dunn M., Ellington A.G., Frankland J.A., Fraser A., French L., Garner P., Grafham D.V., Griffiths C., Griffiths M.N.D., Gwilliam R., Hall R.E., Hammond S., Harley J.L., Heath P.D., Ho S., Holden J.L., Howden P.J., Huckle E., Hunt A.R., Hunt S.E., Jekosch K., Johnson C.M., Johnson D., Kay M.P., Kimberley A.M., King A., Knights A., Laird G.K., Lawlor S., Lehvaeslaiho M.H., Leversha M.A., Lloyd C., Lloyd D.M., Lovell J.D., Marsh V.L., Martin S.L., McConnachie L.J., McLay K., McMurray A.A., Milne S.A., Mistry D., Moore M.J.F., Mullikin J.C., Nickerson T., Oliver K., Parker A., Patel R., Pearce T.A.V., Peck A.I., Phillimore B.J.C.T., Prathalingam S.R., Plumb R.W., Ramsay H., Rice C.M., Ross M.T., Scott C.E., Sehra H.K., Shownkeen R., Sims S., Skuce C.D., Smith M.L., Soderlund C., Steward C.A., Sulston J.E., Swann R.M., Sycamore N., Taylor R., Tee L., Thomas D.W., Thorpe A., Tracey A., Tromans A.C., Vaudin M., Wall M., Wallis J.M., Whitehead S.L., Whittaker P., Willey D.L., Williams L., Williams S.A., Wilming L., Wray P.W., Hubbard T., Durbin R.M., Bentley D.R., Beck S., Rogers J.. \"The DNA sequence and comparative analysis of human chromosome 20.\" Nature DOI: 10.1038/414865a\n",
      "\n",
      "6.  Submission: Mural R.J., Istrail S., Sutton G.G., Florea L., Halpern A.L., Mobarry C.M., Lippert R., Walenz B., Shatkay H., Dew I., Miller J.R., Flanigan M.J., Edwards N.J., Bolanos R., Fasulo D., Halldorsson B.V., Hannenhalli S., Turner R., Yooseph S., Lu F., Nusskern D.R., Shue B.C., Zheng X.H., Zhong F., Delcher A.L., Huson D.H., Kravitz S.A., Mouchard L., Reinert K., Remington K.A., Clark A.G., Waterman M.S., Eichler E.E., Adams M.D., Hunkapiller M.W., Myers E.W., Venter J.C.. \"The DNA sequence and comparative analysis of human chromosome 20.\" Database Entry: EMBL/GenBank/DDBJ databases\n",
      "\n",
      "7.  Journal Article: The MGC Project Team. \"The status, quality, and expansion of the NIH full-length cDNA project: the Mammalian Gene Collection (MGC).\" Genome Res. DOI: 10.1101/gr.2596504\n",
      "\n",
      "8.  Journal Article: Tedoldi S., Paterson J.C., Hansmann M.-L., Natkunam Y., Rudiger T., Angelisova P., Du M.Q., Roberton H., Roncador G., Sanchez L., Pozzobon M., Masir N., Barry R., Pileri S., Mason D.Y., Marafioti T., Horejsi V.. \"Transmembrane adaptor molecules: a new category of lymphoid-cell markers.\" Blood DOI: 10.1182/blood-2005-06-2273\n",
      "\n",
      "9.  Journal Article: Bian Y., Song C., Cheng K., Dong M., Wang F., Huang J., Sun D., Wang L., Ye M., Zou H.. \"An enzyme assisted RP-RPLC approach for in-depth analysis of human liver phosphoproteome.\" J. Proteomics DOI: 10.1016/j.jprot.2013.11.014\n",
      "\n"
     ]
    }
   ],
   "source": [
    "import xml.etree.ElementTree as ET\n",
    "\n",
    "document = ET.parse(\"Q9H400.xml\")\n",
    "\n",
    "root = document.getroot()\n",
    "ns = '{http://uniprot.org/uniprot}'\n",
    "\n",
    "for item in root.findall(f'./{ns}entry/{ns}reference'):\n",
    "    key = item.attrib['key']\n",
    "    for citation in item.findall(ns+'citation'):\n",
    "        # citation attributes dict\n",
    "        cit_dict = citation.attrib # type, date, name, volume, first, last\n",
    "        # author list\n",
    "        authors = [ele.attrib['name'] for ele in citation.find(ns+'authorList')]\n",
    "        # journal article switch\n",
    "        if cit_dict['type'] == 'journal article':\n",
    "            # title\n",
    "            title = citation.find(ns+'title').text\n",
    "            # doi\n",
    "            for dbReference in citation.findall(ns+'dbReference'):\n",
    "                if dbReference.attrib['type'] == \"DOI\":\n",
    "                    doi = dbReference.attrib['id']\n",
    "            # print journal article\n",
    "            print(f'{key}.  {cit_dict[\"type\"].title()}: {\", \".join(authors)}. \"{title}\" {cit_dict[\"name\"]} DOI: {doi}')\n",
    "            print()\n",
    "        # print all other entry types\n",
    "        else:\n",
    "            print(f'{key}.  {cit_dict[\"type\"].title()}: {\", \".join(authors)}. \"{title}\" Database Entry: {cit_dict[\"db\"]}')\n",
    "            print()   "
   ]
  },
  {
   "cell_type": "markdown",
   "metadata": {},
   "source": [
    "Bernasconi, Nadia L., Elisabetta Traggiai, and Antonio Lanzavecchia. \"Maintenance of serological memory by polyclonal activation of human memory B cells.\" Science 298.5601 (2002): 2199-2202."
   ]
  },
  {
   "cell_type": "code",
   "execution_count": 138,
   "metadata": {},
   "outputs": [
    {
     "name": "stdout",
     "output_type": "stream",
     "text": [
      "1.  Journal Article: Meurs E., Chong K., Galabru J., Thomas N.S.B., Kerr I.M., Williams B.R.G., Hovanessian A.G.. \"Molecular cloning and characterization of the human double-stranded RNA-activated protein kinase induced by interferon.\" Cell 62 (1990): 379-390 DOI: 10.1016/0092-8674(90)90374-n\n",
      "\n",
      "2.  Submission: Meurs E.. Database Entry: EMBL/GenBank/DDBJ databases\n",
      "\n",
      "3.  Journal Article: Thomis D.C., Doohan J.P., Samuel C.E.. \"Mechanism of interferon action: cDNA structure, expression, and regulation of the interferon-induced, RNA-dependent P1/eIF-2 alpha protein kinase from human cells.\" Virology 188 (1992): 33-46 DOI: 10.1016/0042-6822(92)90732-5\n",
      "\n",
      "4.  Journal Article: Kuhen K.L., Shen X., Samuel C.E.. \"Mechanism of interferon action sequence of the human interferon-inducible RNA-dependent protein kinase (PKR) deduced from genomic clones.\" Gene 178 (1996): 191-193 DOI: 10.1016/0378-1119(96)00314-9\n",
      "\n",
      "5.  Journal Article: Kuhen K.L., Shen X., Carlisle E.R., Richardson A.L., Weier H.-U.G., Tanaka H., Samuel C.E.. \"Structural organization of the human gene (PKR) encoding an interferon-inducible RNA-dependent protein kinase (PKR) and differences from its mouse homolog.\" Genomics 36 (1996): 197-201 DOI: 10.1006/geno.1996.0446\n",
      "\n",
      "6.  Journal Article: Xu Z., Williams B.R.. \"Genomic features of human PKR: alternative splicing and a polymorphic CGG repeat in the 5'-untranslated region.\" J. Interferon Cytokine Res. 18 (1998): 609-616 DOI: 10.1089/jir.1998.18.609\n",
      "\n",
      "7.  Submission: Li H., Huang F., Shen C., Zhou G., Zheng G., Ke R., Lin L., Yang S.. Database Entry: EMBL/GenBank/DDBJ databases\n",
      "\n",
      "8.  Journal Article: Ota T., Suzuki Y., Nishikawa T., Otsuki T., Sugiyama T., Irie R., Wakamatsu A., Hayashi K., Sato H., Nagai K., Kimura K., Makita H., Sekine M., Obayashi M., Nishi T., Shibahara T., Tanaka T., Ishii S., Yamamoto J., Saito K., Kawai Y., Isono Y., Nakamura Y., Nagahari K., Murakami K., Yasuda T., Iwayanagi T., Wagatsuma M., Shiratori A., Sudo H., Hosoiri T., Kaku Y., Kodaira H., Kondo H., Sugawara M., Takahashi M., Kanda K., Yokoi T., Furuya T., Kikkawa E., Omura Y., Abe K., Kamihara K., Katsuta N., Sato K., Tanikawa M., Yamazaki M., Ninomiya K., Ishibashi T., Yamashita H., Murakawa K., Fujimori K., Tanai H., Kimata M., Watanabe M., Hiraoka S., Chiba Y., Ishida S., Ono Y., Takiguchi S., Watanabe S., Yosida M., Hotuta T., Kusano J., Kanehori K., Takahashi-Fujii A., Hara H., Tanase T.-O., Nomura Y., Togiya S., Komai F., Hara R., Takeuchi K., Arita M., Imose N., Musashino K., Yuuki H., Oshima A., Sasaki N., Aotsuka S., Yoshikawa Y., Matsunawa H., Ichihara T., Shiohata N., Sano S., Moriya S., Momiyama H., Satoh N., Takami S., Terashima Y., Suzuki O., Nakagawa S., Senoh A., Mizoguchi H., Goto Y., Shimizu F., Wakebe H., Hishigaki H., Watanabe T., Sugiyama A., Takemoto M., Kawakami B., Yamazaki M., Watanabe K., Kumagai A., Itakura S., Fukuzumi Y., Fujimori Y., Komiyama M., Tashiro H., Tanigami A., Fujiwara T., Ono T., Yamada K., Fujii Y., Ozaki K., Hirao M., Ohmori Y., Kawabata A., Hikiji T., Kobatake N., Inagaki H., Ikema Y., Okamoto S., Okitani R., Kawakami T., Noguchi S., Itoh T., Shigeta K., Senba T., Matsumura K., Nakajima Y., Mizuno T., Morinaga M., Sasaki M., Togashi T., Oyama M., Hata H., Watanabe M., Komatsu T., Mizushima-Sugano J., Satoh T., Shirai Y., Takahashi Y., Nakagawa K., Okumura K., Nagase T., Nomura N., Kikuchi H., Masuho Y., Yamashita R., Nakai K., Yada T., Nakamura Y., Ohara O., Isogai T., Sugano S.. \"Complete sequencing and characterization of 21,243 full-length human cDNAs.\" Nat. Genet. 36 (2004): 40-45 DOI: 10.1038/ng1285\n",
      "\n",
      "9.  Submission: NIEHS SNPs program. Database Entry: EMBL/GenBank/DDBJ databases\n",
      "\n",
      "10.  Journal Article: Hillier L.W., Graves T.A., Fulton R.S., Fulton L.A., Pepin K.H., Minx P., Wagner-McPherson C., Layman D., Wylie K., Sekhon M., Becker M.C., Fewell G.A., Delehaunty K.D., Miner T.L., Nash W.E., Kremitzki C., Oddy L., Du H., Sun H., Bradshaw-Cordum H., Ali J., Carter J., Cordes M., Harris A., Isak A., van Brunt A., Nguyen C., Du F., Courtney L., Kalicki J., Ozersky P., Abbott S., Armstrong J., Belter E.A., Caruso L., Cedroni M., Cotton M., Davidson T., Desai A., Elliott G., Erb T., Fronick C., Gaige T., Haakenson W., Haglund K., Holmes A., Harkins R., Kim K., Kruchowski S.S., Strong C.M., Grewal N., Goyea E., Hou S., Levy A., Martinka S., Mead K., McLellan M.D., Meyer R., Randall-Maher J., Tomlinson C., Dauphin-Kohlberg S., Kozlowicz-Reilly A., Shah N., Swearengen-Shahid S., Snider J., Strong J.T., Thompson J., Yoakum M., Leonard S., Pearman C., Trani L., Radionenko M., Waligorski J.E., Wang C., Rock S.M., Tin-Wollam A.-M., Maupin R., Latreille P., Wendl M.C., Yang S.-P., Pohl C., Wallis J.W., Spieth J., Bieri T.A., Berkowicz N., Nelson J.O., Osborne J., Ding L., Meyer R., Sabo A., Shotland Y., Sinha P., Wohldmann P.E., Cook L.L., Hickenbotham M.T., Eldred J., Williams D., Jones T.A., She X., Ciccarelli F.D., Izaurralde E., Taylor J., Schmutz J., Myers R.M., Cox D.R., Huang X., McPherson J.D., Mardis E.R., Clifton S.W., Warren W.C., Chinwalla A.T., Eddy S.R., Marra M.A., Ovcharenko I., Furey T.S., Miller W., Eichler E.E., Bork P., Suyama M., Torrents D., Waterston R.H., Wilson R.K.. \"Generation and annotation of the DNA sequences of human chromosomes 2 and 4.\" Nature 434 (2005): 724-731 DOI: 10.1038/nature03466\n",
      "\n",
      "11.  Submission: Mural R.J., Istrail S., Sutton G.G., Florea L., Halpern A.L., Mobarry C.M., Lippert R., Walenz B., Shatkay H., Dew I., Miller J.R., Flanigan M.J., Edwards N.J., Bolanos R., Fasulo D., Halldorsson B.V., Hannenhalli S., Turner R., Yooseph S., Lu F., Nusskern D.R., Shue B.C., Zheng X.H., Zhong F., Delcher A.L., Huson D.H., Kravitz S.A., Mouchard L., Reinert K., Remington K.A., Clark A.G., Waterman M.S., Eichler E.E., Adams M.D., Hunkapiller M.W., Myers E.W., Venter J.C.. Database Entry: EMBL/GenBank/DDBJ databases\n",
      "\n",
      "12.  Journal Article: The MGC Project Team. \"The status, quality, and expansion of the NIH full-length cDNA project: the Mammalian Gene Collection (MGC).\" Genome Res. 14 (2004): 2121-2127 DOI: 10.1101/gr.2596504\n",
      "\n",
      "13.  Submission: Bienvenut W.V., Gao M., Leug H.. Database Entry: UniProtKB\n",
      "\n",
      "14.  Journal Article: Polyak S.J., Tang N., Wambach M., Barber G.N., Katze M.G.. \"The P58 cellular inhibitor complexes with the interferon-induced, double-stranded RNA-dependent protein kinase, PKR, to regulate its autophosphorylation and activity.\" J. Biol. Chem. 271 (1996): 1702-1707 DOI: 10.1074/jbc.271.3.1702\n",
      "\n",
      "15.  Journal Article: Brand S.R., Kobayashi R., Mathews M.B.. \"The Tat protein of human immunodeficiency virus type 1 is a substrate and inhibitor of the interferon-induced, virally activated protein kinase, PKR.\" J. Biol. Chem. 272 (1997): 8388-8395 DOI: 10.1074/jbc.272.13.8388\n",
      "\n",
      "16.  Journal Article: Gale M.J. Jr., Korth M.J., Tang N.M., Tan S.-L., Hopkins D.A., Dever T.E., Polyak S.J., Gretch D.R., Katze M.G.. \"Evidence that hepatitis C virus resistance to interferon is mediated through repression of the PKR protein kinase by the nonstructural 5A protein.\" Virology 230 (1997): 217-227 DOI: 10.1006/viro.1997.8493\n",
      "\n",
      "17.  Journal Article: Tan S.L., Katze M.G.. \"Biochemical and genetic evidence for complex formation between the influenza A virus NS1 protein and the interferon-induced PKR protein kinase.\" J. Interferon Cytokine Res. 18 (1998): 757-766 DOI: 10.1089/jir.1998.18.757\n",
      "\n",
      "18.  Journal Article: Taylor D.R., Shi S.T., Romano P.R., Barber G.N., Lai M.M.C.. \"Inhibition of the interferon-inducible protein kinase PKR by HCV E2 protein.\" Science 285 (1999): 107-110 DOI: 10.1126/science.285.5424.107\n",
      "\n",
      "19.  Journal Article: Bonnet M.C., Weil R., Dam E., Hovanessian A.G., Meurs E.F.. \"PKR stimulates NF-kappaB irrespective of its kinase function by interacting with the IkappaB kinase complex.\" Mol. Cell. Biol. 20 (2000): 4532-4542 DOI: 10.1128/mcb.20.13.4532-4542.2000\n",
      "\n",
      "20.  Journal Article: Daher A., Longuet M., Dorin D., Bois F., Segeral E., Bannwarth S., Battisti P.-L., Purcell D.F., Benarous R., Vaquero C., Meurs E.F., Gatignol A.. \"Two dimerization domains in the trans-activation response RNA-binding protein (TRBP) individually reverse the protein kinase R inhibition of HIV-1 long terminal repeat expression.\" J. Biol. Chem. 276 (2001): 33899-33905 DOI: 10.1074/jbc.m103584200\n",
      "\n",
      "21.  Journal Article: Taylor D.R., Tian B., Romano P.R., Hinnebusch A.G., Lai M.M.C., Mathews M.B.. \"Hepatitis C virus envelope protein E2 does not inhibit PKR by simple competition with autophosphorylation sites in the RNA-binding domain.\" J. Virol. 75 (2001): 1265-1273 DOI: 10.1128/jvi.75.3.1265-1273.2001\n",
      "\n",
      "22.  Journal Article: Zhang F., Romano P.R., Nagamura-Inoue T., Tian B., Dever T.E., Mathews M.B., Ozato K., Hinnebusch A.G.. \"Binding of double-stranded RNA to protein kinase PKR is required for dimerization and promotes critical autophosphorylation events in the activation loop.\" J. Biol. Chem. 276 (2001): 24946-24958 DOI: 10.1074/jbc.m102108200\n",
      "\n",
      "23.  Journal Article: Burysek L., Pitha P.M.. \"Latently expressed human herpesvirus 8-encoded interferon regulatory factor 2 inhibits double-stranded RNA-activated protein kinase.\" J. Virol. 75 (2001): 2345-2352 DOI: 10.1128/jvi.75.5.2345-2352.2001\n",
      "\n",
      "24.  Journal Article: Cassady K.A., Gross M.. \"The herpes simplex virus type 1 U(S)11 protein interacts with protein kinase R in infected cells and requires a 30-amino-acid sequence adjacent to a kinase substrate domain.\" J. Virol. 76 (2002): 2029-2035 DOI: 10.1128/jvi.76.5.2029-2035.2002\n",
      "\n",
      "25.  Journal Article: Pang Q., Christianson T.A., Koretsky T., Carlson H., David L., Keeble W., Faulkner G.R., Speckhart A., Bagby G.C.. \"Nucleophosmin interacts with and inhibits the catalytic function of eukaryotic initiation factor 2 kinase PKR.\" J. Biol. Chem. 278 (2003): 41709-41717 DOI: 10.1074/jbc.m301392200\n",
      "\n",
      "26.  Journal Article: Silva A.M., Whitmore M., Xu Z., Jiang Z., Li X., Williams B.R.. \"Protein kinase R (PKR) interacts with and activates mitogen-activated protein kinase kinase 6 (MKK6) in response to double-stranded RNA stimulation.\" J. Biol. Chem. 279 (2004): 37670-37676 DOI: 10.1074/jbc.m406554200\n",
      "\n",
      "27.  Journal Article: Zhang X., Li J., Sejas D.P., Rathbun K.R., Bagby G.C., Pang Q.. \"The Fanconi anemia proteins functionally interact with the protein kinase regulated by RNA (PKR).\" J. Biol. Chem. 279 (2004): 43910-43919 DOI: 10.1074/jbc.m403884200\n",
      "\n",
      "28.  Journal Article: Gil J., Garcia M.A., Gomez-Puertas P., Guerra S., Rullas J., Nakano H., Alcami J., Esteban M.. \"TRAF family proteins link PKR with NF-kappa B activation.\" Mol. Cell. Biol. 24 (2004): 4502-4512 DOI: 10.1128/mcb.24.10.4502-4512.2004\n",
      "\n",
      "29.  Journal Article: Langland J.O., Jacobs B.L.. \"Inhibition of PKR by vaccinia virus: role of the N- and C-terminal domains of E3L.\" Virology 324 (2004): 419-429 DOI: 10.1016/j.virol.2004.03.012\n",
      "\n",
      "30.  Journal Article: Garcia M.A., Gil J., Ventoso I., Guerra S., Domingo E., Rivas C., Esteban M.. \"Impact of protein kinase PKR in cell biology: from antiviral to antiproliferative action.\" Microbiol. Mol. Biol. Rev. 70 (2006): 1032-1060 DOI: 10.1128/mmbr.00027-06\n",
      "\n",
      "31.  Journal Article: Su Q., Wang S., Baltzis D., Qu L.K., Wong A.H., Koromilas A.E.. \"Tyrosine phosphorylation acts as a molecular switch to full-scale activation of the eIF2alpha RNA-dependent protein kinase.\" Proc. Natl. Acad. Sci. U.S.A. 103 (2006): 63-68 DOI: 10.1073/pnas.0508207103\n",
      "\n",
      "32.  Journal Article: Nie Y., Hammond G.L., Yang J.H.. \"Double-stranded RNA deaminase ADAR1 increases host susceptibility to virus infection.\" J. Virol. 81 (2007): 917-923 DOI: 10.1128/jvi.01527-06\n",
      "\n",
      "33.  Journal Article: Cole J.L.. \"Activation of PKR: an open and shut case?\" Trends Biochem. Sci. 32 (2007): 57-62 DOI: 10.1016/j.tibs.2006.12.003\n",
      "\n",
      "34.  Journal Article: Cardin E., Larose L.. \"Nck-1 interacts with PKR and modulates its activation by dsRNA.\" Biochem. Biophys. Res. Commun. 377 (2008): 231-235 DOI: 10.1016/j.bbrc.2008.09.112\n",
      "\n",
      "35.  Journal Article: Mittelstadt M., Frump A., Khuu T., Fowlkes V., Handy I., Patel C.V., Patel R.C.. \"Interaction of human tRNA-dihydrouridine synthase-2 with interferon-induced protein kinase PKR.\" Nucleic Acids Res. 36 (2008): 998-1008 DOI: 10.1093/nar/gkm1129\n",
      "\n",
      "36.  Journal Article: Dephoure N., Zhou C., Villen J., Beausoleil S.A., Bakalarski C.E., Elledge S.J., Gygi S.P.. \"A quantitative atlas of mitotic phosphorylation.\" Proc. Natl. Acad. Sci. U.S.A. 105 (2008): 10762-10767 DOI: 10.1073/pnas.0805139105\n",
      "\n",
      "37.  Journal Article: Blalock W.L., Grimaldi C., Fala F., Follo M., Horn S., Basecke J., Martinelli G., Cocco L., Martelli A.M.. \"PKR activity is required for acute leukemic cell maintenance and growth: a role for PKR-mediated phosphatase activity to regulate GSK-3 phosphorylation.\" J. Cell. Physiol. 221 (2009): 232-241 DOI: 10.1002/jcp.21848\n",
      "\n",
      "38.  Journal Article: Sadler A.J., Latchoumanin O., Hawkes D., Mak J., Williams B.R.. \"An antiviral response directed by PKR phosphorylation of the RNA helicase A.\" PLoS Pathog. 5 (2009): E1000311-E1000311 DOI: 10.1371/journal.ppat.1000311\n",
      "\n",
      "39.  Journal Article: Mayya V., Lundgren D.H., Hwang S.-I., Rezaul K., Wu L., Eng J.K., Rodionov V., Han D.K.. \"Quantitative phosphoproteomic analysis of T cell receptor signaling reveals system-wide modulation of protein-protein interactions.\" Sci. Signal. 2 (2009): RA46-RA46 DOI: 10.1126/scisignal.2000007\n",
      "\n",
      "40.  Journal Article: Kang J.I., Kwon S.N., Park S.H., Kim Y.K., Choi S.Y., Kim J.P., Ahn B.Y.. \"PKR protein kinase is activated by hepatitis C virus and inhibits viral replication through translational control.\" Virus Res. 142 (2009): 51-56 DOI: 10.1016/j.virusres.2009.01.007\n",
      "\n",
      "41.  Journal Article: Lin S.S., Lee D.C., Law A.H., Fang J.W., Chua D.T., Lau A.S.. \"A role for protein kinase PKR in the mediation of Epstein-Barr virus latent membrane protein-1-induced IL-6 and IL-10 expression.\" Cytokine 50 (2010): 210-219 DOI: 10.1016/j.cyto.2010.01.008\n",
      "\n",
      "42.  Journal Article: Yoon C.-H., Miah M.A., Kim K.P., Bae Y.-S.. \"New Cdc2 Tyr 4 phosphorylation by dsRNA-activated protein kinase triggers Cdc2 polyubiquitination and G2 arrest under genotoxic stresses.\" EMBO Rep. 11 (2010): 393-399 DOI: 10.1038/embor.2010.45\n",
      "\n",
      "43.  Journal Article: Harashima A., Guettouche T., Barber G.N.. \"Phosphorylation of the NFAR proteins by the dsRNA-dependent protein kinase PKR constitutes a novel mechanism of translational regulation and cellular defense.\" Genes Dev. 24 (2010): 2640-2653 DOI: 10.1101/gad.1965010\n",
      "\n",
      "44.  Journal Article: Chang J.H., Kato N., Muroyama R., Taniguchi H., Guleng B., Dharel N., Shao R.X., Tateishi K., Jazag A., Kawabe T., Omata M.. \"Double-stranded RNA-activated protein kinase inhibits hepatitis C virus replication but may be not essential in interferon treatment.\" Liver Int. 30 (2010): 311-318 DOI: 10.1111/j.1478-3231.2009.02144.x\n",
      "\n",
      "45.  Journal Article: Yang X., Nath A., Opperman M.J., Chan C.. \"The double-stranded RNA-dependent protein kinase differentially regulates insulin receptor substrates 1 and 2 in HepG2 cells.\" Mol. Biol. Cell 21 (2010): 3449-3458 DOI: 10.1091/mbc.e10-06-0481\n",
      "\n",
      "46.  Journal Article: Olsen J.V., Vermeulen M., Santamaria A., Kumar C., Miller M.L., Jensen L.J., Gnad F., Cox J., Jensen T.S., Nigg E.A., Brunak S., Mann M.. \"Quantitative phosphoproteomics reveals widespread full phosphorylation site occupancy during mitosis.\" Sci. Signal. 3 (2010): RA3-RA3 DOI: 10.1126/scisignal.2000475\n",
      "\n",
      "47.  Journal Article: Burkard T.R., Planyavsky M., Kaupe I., Breitwieser F.P., Buerckstuemmer T., Bennett K.L., Superti-Furga G., Colinge J.. \"Initial characterization of the human central proteome.\" BMC Syst. Biol. 5 (2011): 17-17 DOI: 10.1186/1752-0509-5-17\n",
      "\n",
      "48.  Journal Article: Bose A., Mouton-Liger F., Paquet C., Mazot P., Vigny M., Gray F., Hugon J.. \"Modulation of tau phosphorylation by the kinase PKR: implications in Alzheimer's disease.\" Brain Pathol. 21 (2011): 189-200 DOI: 10.1111/j.1750-3639.2010.00437.x\n",
      "\n",
      "49.  Journal Article: Pfaller C.K., Li Z., George C.X., Samuel C.E.. \"Protein kinase PKR and RNA adenosine deaminase ADAR1: new roles for old players as modulators of the interferon response.\" Curr. Opin. Immunol. 23 (2011): 573-582 DOI: 10.1016/j.coi.2011.08.009\n",
      "\n",
      "50.  Journal Article: Pindel A., Sadler A.. \"The role of protein kinase R in the interferon response.\" J. Interferon Cytokine Res. 31 (2011): 59-70 DOI: 10.1089/jir.2010.0099\n",
      "\n",
      "51.  Journal Article: Blalock W.L., Bavelloni A., Piazzi M., Tagliavini F., Faenza I., Martelli A.M., Follo M.Y., Cocco L.. \"Multiple forms of PKR present in the nuclei of acute leukemia cells represent an active kinase that is responsive to stress.\" Leukemia 25 (2011): 236-245 DOI: 10.1038/leu.2010.264\n",
      "\n",
      "52.  Journal Article: Park I.H., Baek K.W., Cho E.Y., Ahn B.Y.. \"PKR-dependent mechanisms of interferon-? for inhibiting hepatitis B virus replication.\" Mol. Cells 32 (2011): 167-172 DOI: 10.1007/s10059-011-1059-6\n",
      "\n",
      "53.  Journal Article: Bennett R.L., Pan Y., Christian J., Hui T., May W.S. Jr.. \"The RAX/PACT-PKR stress response pathway promotes p53 sumoylation and activation, leading to G(1) arrest.\" Cell Cycle 11 (2012): 407-417 DOI: 10.4161/cc.11.2.18999\n",
      "\n",
      "54.  Journal Article: Lacy-Hulbert A., Stuart L.M.. \"Penetration resistance: PKR's other talent.\" Immunity 36 (2012): 695-696 DOI: 10.1016/j.immuni.2012.05.010\n",
      "\n",
      "55.  Journal Article: McAllister C.S., Taghavi N., Samuel C.E.. \"Protein kinase PKR amplification of interferon beta induction occurs through initiation factor eIF-2alpha-mediated translational control.\" J. Biol. Chem. 287 (2012): 36384-36392 DOI: 10.1074/jbc.m112.390039\n",
      "\n",
      "56.  Journal Article: Shen S., Niso-Santano M., Adjemian S., Takehara T., Malik S.A., Minoux H., Souquere S., Marino G., Lachkar S., Senovilla L., Galluzzi L., Kepp O., Pierron G., Maiuri M.C., Hikita H., Kroemer R., Kroemer G.. \"Cytoplasmic STAT3 represses autophagy by inhibiting PKR activity.\" Mol. Cell 48 (2012): 667-680 DOI: 10.1016/j.molcel.2012.09.013\n",
      "\n",
      "57.  Journal Article: Bienvenut W.V., Sumpton D., Martinez A., Lilla S., Espagne C., Meinnel T., Giglione C.. \"Comparative large-scale characterisation of plant vs. mammal proteins reveals similar and idiosyncratic N-alpha acetylation features.\" Mol. Cell. Proteomics 11 (2012): M111.015131-M111.015131 DOI: 10.1074/mcp.m111.015131\n",
      "\n",
      "58.  Journal Article: Lu B., Nakamura T., Inouye K., Li J., Tang Y., Lundbaeck P., Valdes-Ferrer S.I., Olofsson P.S., Kalb T., Roth J., Zou Y., Erlandsson-Harris H., Yang H., Ting J.P., Wang H., Andersson U., Antoine D.J., Chavan S.S., Hotamisligil G.S., Tracey K.J.. \"Novel role of PKR in inflammasome activation and HMGB1 release.\" Nature 488 (2012): 670-674 DOI: 10.1038/nature11290\n",
      "\n",
      "59.  Journal Article: Van Damme P., Lasa M., Polevoda B., Gazquez C., Elosegui-Artola A., Kim D.S., De Juan-Pardo E., Demeyer K., Hole K., Larrea E., Timmerman E., Prieto J., Arnesen T., Sherman F., Gevaert K., Aldabe R.. \"N-terminal acetylome analyses and functional insights of the N-terminal acetyltransferase NatB.\" Proc. Natl. Acad. Sci. U.S.A. 109 (2012): 12449-12454 DOI: 10.1073/pnas.1210303109\n",
      "\n",
      "60.  Journal Article: Kang R., Tang D.. \"PKR-dependent inflammatory signals.\" Sci. Signal. 5 (2012): PE47-PE47 DOI: 10.1126/scisignal.2003511\n",
      "\n",
      "61.  Journal Article: Taghavi N., Samuel C.E.. \"Protein kinase PKR catalytic activity is required for the PKR-dependent activation of mitogen-activated protein kinases and amplification of interferon beta induction following virus infection.\" Virology 427 (2012): 208-216 DOI: 10.1016/j.virol.2012.01.029\n",
      "\n",
      "62.  Journal Article: Dabo S., Meurs E.F.. \"dsRNA-dependent protein kinase PKR and its role in stress, signaling and HCV infection.\" Viruses 4 (2012): 2598-2635 DOI: 10.3390/v4112598\n",
      "\n",
      "63.  Journal Article: Liu X., Bennett R.L., Cheng X., Byrne M., Reinhard M.K., May W.S. Jr.. \"PKR regulates proliferation, differentiation and survival of murine hematopoietic stem/progenitor cells.\" Blood 121 (2013): 3364-3374 DOI: 10.1182/blood-2012-09-456400\n",
      "\n",
      "64.  Journal Article: Donnelly N., Gorman A.M., Gupta S., Samali A.. \"The eIF2alpha kinases: their structures and functions.\" Cell. Mol. Life Sci. 70 (2013): 3493-3511 DOI: 10.1007/s00018-012-1252-6\n",
      "\n",
      "65.  Journal Article: Okumura F., Okumura A.J., Uematsu K., Hatakeyama S., Zhang D.E., Kamura T.. \"Activation of double-stranded RNA-activated protein kinase (PKR) by interferon-stimulated gene 15 (ISG15) modification down-regulates protein translation.\" J. Biol. Chem. 288 (2013): 2839-2847 DOI: 10.1074/jbc.m112.401851\n",
      "\n",
      "66.  Journal Article: Zhou H., Di Palma S., Preisinger C., Peng M., Polat A.N., Heck A.J., Mohammed S.. \"Toward a comprehensive characterization of a human cancer cell phosphoproteome.\" J. Proteome Res. 12 (2013): 260-271 DOI: 10.1021/pr300630k\n",
      "\n",
      "67.  Journal Article: Kalveram B., Ikegami T.. \"Toscana virus NSs protein promoftes degradation of double-stranded RNA-dependent protein kinase.\" J. Virol. 87 (2013): 3710-3718 DOI: 10.1128/jvi.02506-12\n",
      "\n",
      "68.  Journal Article: Okonski K.M., Samuel C.E.. \"Stress granule formation induced by measles virus is protein kinase PKR dependent and impaired by RNA adenosine deaminase ADAR1.\" J. Virol. 87 (2013): 756-766 DOI: 10.1128/jvi.02270-12\n",
      "\n",
      "69.  Journal Article: Li Y., Xie J., Wu S., Xia J., Zhang P., Liu C., Zhang P., Huang X.. \"Protein kinase regulated by dsRNA downregulates the interferon production in dengue virus- and dsrna-stimulated human lung epithelial cells.\" PLoS ONE 8 (2013): E55108-E55108 DOI: 10.1371/journal.pone.0055108\n",
      "\n",
      "70.  Journal Article: Zhang L., Alter H.J., Wang H., Jia S., Wang E., Marincola F.M., Shih J.W., Wang R.Y.. \"The modulation of hepatitis C virus 1a replication by PKR is dependent on NF-kB mediated interferon beta response in Huh7.5.1 cells.\" Virology 438 (2013): 28-36 DOI: 10.1016/j.virol.2013.01.015\n",
      "\n",
      "71.  Journal Article: Bian Y., Song C., Cheng K., Dong M., Wang F., Huang J., Sun D., Wang L., Ye M., Zou H.. \"An enzyme assisted RP-RPLC approach for in-depth analysis of human liver phosphoproteome.\" J. Proteomics 96 (2014): 253-262 DOI: 10.1016/j.jprot.2013.11.014\n",
      "\n",
      "72.  Journal Article: Dueck K.J., Hu Y.S., Chen P., Deschambault Y., Lee J., Varga J., Cao J.. \"Mutational analysis of vaccinia virus E3 protein: the biological functions do not correlate with its biochemical capacity to bind double-stranded RNA.\" J. Virol. 89 (2015): 5382-5394 DOI: 10.1128/jvi.03288-14\n",
      "\n",
      "73.  Journal Article: Nanduri S., Carpick B.W., Yang Y., Williams B.R.G., Qin J.. \"Structure of the double-stranded RNA-binding domain of the protein kinase PKR reveals the molecular basis of its dsRNA-mediated activation.\" EMBO J. 17 (1998): 5458-5465 DOI: 10.1093/emboj/17.18.5458\n",
      "\n",
      "74.  Journal Article: Dar A.C., Dever T.E., Sicheri F.. \"Higher-order substrate recognition of eIF2alpha by the RNA-dependent protein kinase PKR.\" Cell 122 (2005): 887-900 DOI: 10.1016/j.cell.2005.06.044\n",
      "\n",
      "75.  Journal Article: Greenman C., Stephens P., Smith R., Dalgliesh G.L., Hunter C., Bignell G., Davies H., Teague J., Butler A., Stevens C., Edkins S., O'Meara S., Vastrik I., Schmidt E.E., Avis T., Barthorpe S., Bhamra G., Buck G., Choudhury B., Clements J., Cole J., Dicks E., Forbes S., Gray K., Halliday K., Harrison R., Hills K., Hinton J., Jenkinson A., Jones D., Menzies A., Mironenko T., Perry J., Raine K., Richardson D., Shepherd R., Small A., Tofts C., Varian J., Webb T., West S., Widaa S., Yates A., Cahill D.P., Louis D.N., Goldstraw P., Nicholson A.G., Brasseur F., Looijenga L., Weber B.L., Chiew Y.-E., DeFazio A., Greaves M.F., Green A.R., Campbell P., Birney E., Easton D.F., Chenevix-Trench G., Tan M.-H., Khoo S.K., Teh B.T., Yuen S.T., Leung S.Y., Wooster R., Futreal P.A., Stratton M.R.. \"Patterns of somatic mutation in human cancer genomes.\" Nature 446 (2007): 153-158 DOI: 10.1038/nature05610\n",
      "\n"
     ]
    }
   ],
   "source": [
    "import xml.etree.ElementTree as ET\n",
    "\n",
    "document = ET.parse(\"P19525.xml\")\n",
    "\n",
    "root = document.getroot()\n",
    "ns = '{http://uniprot.org/uniprot}'\n",
    "\n",
    "for item in root.findall(f'./{ns}entry/{ns}reference'):\n",
    "    key = item.attrib['key']\n",
    "    for citation in item.findall(ns+'citation'):\n",
    "        cit_dict = citation.attrib\n",
    "        authors = \", \".join([ele.attrib['name'] for ele in citation.find(ns+'authorList')])\n",
    "        if cit_dict['type'] == 'journal article':\n",
    "            title = citation.find(ns+'title').text\n",
    "            entry_type = cit_dict[\"type\"].title()\n",
    "            journal = f'{cit_dict[\"name\"]} {cit_dict[\"volume\"]} ({cit_dict[\"date\"][:4]}): {cit_dict[\"first\"]}-{cit_dict[\"last\"]}'\n",
    "            apa = f'{key}.  {entry_type}: {authors}. \"{title}\" {journal}'\n",
    "            \n",
    "            dbReference = citation.find(f'{ns}dbReference[@type=\"DOI\"]')\n",
    "            if dbReference is None:\n",
    "                print(apa)\n",
    "                print()\n",
    "            else:\n",
    "                doi = citation.find(f'{ns}dbReference[@type=\"DOI\"]').attrib['id']\n",
    "                print(apa, \"DOI:\", doi)\n",
    "                print()\n",
    "        else:\n",
    "            print(f'{key}.  {cit_dict[\"type\"].title()}: {authors}. Database Entry: {cit_dict[\"db\"]}')\n",
    "            print() "
   ]
  },
  {
   "cell_type": "code",
   "execution_count": 2,
   "metadata": {},
   "outputs": [
    {
     "name": "stdout",
     "output_type": "stream",
     "text": [
      "1. journal article: Brdickova N., Brdicka T., Angelisova P., Horvath O., Spicka J., Hilgert I., Paces J., Simeoni L., Kliche S., Merten C., Schraven B., Horejsi V., \"LIME: a new membrane raft-associated adaptor protein involved in CD4 and CD8 coreceptor signaling.\", J. Exp. Med., 2003, DOI: 10.1084/jem.20031484\n",
      "\n",
      "2. journal article: Hur E.M., Son M., Lee O.-H., Choi Y.B., Park C., Lee H., Yun Y., \"LIME, a novel transmembrane adaptor protein, associates with p56lck and mediates T cell activation.\", J. Exp. Med., 2003, DOI: 10.1084/jem.20030232\n",
      "\n",
      "3. journal article: Wan D., Gong Y., Qin W., Zhang P., Li J., Wei L., Zhou X., Li H., Qiu X., Zhong F., He L., Yu J., Yao G., Jiang H., Qian L., Yu Y., Shu H., Chen X., Xu H., Guo M., Pan Z., Chen Y., Ge C., Yang S., Gu J., \"Large-scale cDNA transfection screening for genes related to cancer development and progression.\", Proc. Natl. Acad. Sci. U.S.A., 2004, DOI: 10.1073/pnas.0404089101\n",
      "\n",
      "4. journal article: Ota T., Suzuki Y., Nishikawa T., Otsuki T., Sugiyama T., Irie R., Wakamatsu A., Hayashi K., Sato H., Nagai K., Kimura K., Makita H., Sekine M., Obayashi M., Nishi T., Shibahara T., Tanaka T., Ishii S., Yamamoto J., Saito K., Kawai Y., Isono Y., Nakamura Y., Nagahari K., Murakami K., Yasuda T., Iwayanagi T., Wagatsuma M., Shiratori A., Sudo H., Hosoiri T., Kaku Y., Kodaira H., Kondo H., Sugawara M., Takahashi M., Kanda K., Yokoi T., Furuya T., Kikkawa E., Omura Y., Abe K., Kamihara K., Katsuta N., Sato K., Tanikawa M., Yamazaki M., Ninomiya K., Ishibashi T., Yamashita H., Murakawa K., Fujimori K., Tanai H., Kimata M., Watanabe M., Hiraoka S., Chiba Y., Ishida S., Ono Y., Takiguchi S., Watanabe S., Yosida M., Hotuta T., Kusano J., Kanehori K., Takahashi-Fujii A., Hara H., Tanase T.-O., Nomura Y., Togiya S., Komai F., Hara R., Takeuchi K., Arita M., Imose N., Musashino K., Yuuki H., Oshima A., Sasaki N., Aotsuka S., Yoshikawa Y., Matsunawa H., Ichihara T., Shiohata N., Sano S., Moriya S., Momiyama H., Satoh N., Takami S., Terashima Y., Suzuki O., Nakagawa S., Senoh A., Mizoguchi H., Goto Y., Shimizu F., Wakebe H., Hishigaki H., Watanabe T., Sugiyama A., Takemoto M., Kawakami B., Yamazaki M., Watanabe K., Kumagai A., Itakura S., Fukuzumi Y., Fujimori Y., Komiyama M., Tashiro H., Tanigami A., Fujiwara T., Ono T., Yamada K., Fujii Y., Ozaki K., Hirao M., Ohmori Y., Kawabata A., Hikiji T., Kobatake N., Inagaki H., Ikema Y., Okamoto S., Okitani R., Kawakami T., Noguchi S., Itoh T., Shigeta K., Senba T., Matsumura K., Nakajima Y., Mizuno T., Morinaga M., Sasaki M., Togashi T., Oyama M., Hata H., Watanabe M., Komatsu T., Mizushima-Sugano J., Satoh T., Shirai Y., Takahashi Y., Nakagawa K., Okumura K., Nagase T., Nomura N., Kikuchi H., Masuho Y., Yamashita R., Nakai K., Yada T., Nakamura Y., Ohara O., Isogai T., Sugano S., \"Complete sequencing and characterization of 21,243 full-length human cDNAs.\", Nat. Genet., 2004, DOI: 10.1038/ng1285\n",
      "\n",
      "5. journal article: Deloukas P., Matthews L.H., Ashurst J.L., Burton J., Gilbert J.G.R., Jones M., Stavrides G., Almeida J.P., Babbage A.K., Bagguley C.L., Bailey J., Barlow K.F., Bates K.N., Beard L.M., Beare D.M., Beasley O.P., Bird C.P., Blakey S.E., Bridgeman A.M., Brown A.J., Buck D., Burrill W.D., Butler A.P., Carder C., Carter N.P., Chapman J.C., Clamp M., Clark G., Clark L.N., Clark S.Y., Clee C.M., Clegg S., Cobley V.E., Collier R.E., Connor R.E., Corby N.R., Coulson A., Coville G.J., Deadman R., Dhami P.D., Dunn M., Ellington A.G., Frankland J.A., Fraser A., French L., Garner P., Grafham D.V., Griffiths C., Griffiths M.N.D., Gwilliam R., Hall R.E., Hammond S., Harley J.L., Heath P.D., Ho S., Holden J.L., Howden P.J., Huckle E., Hunt A.R., Hunt S.E., Jekosch K., Johnson C.M., Johnson D., Kay M.P., Kimberley A.M., King A., Knights A., Laird G.K., Lawlor S., Lehvaeslaiho M.H., Leversha M.A., Lloyd C., Lloyd D.M., Lovell J.D., Marsh V.L., Martin S.L., McConnachie L.J., McLay K., McMurray A.A., Milne S.A., Mistry D., Moore M.J.F., Mullikin J.C., Nickerson T., Oliver K., Parker A., Patel R., Pearce T.A.V., Peck A.I., Phillimore B.J.C.T., Prathalingam S.R., Plumb R.W., Ramsay H., Rice C.M., Ross M.T., Scott C.E., Sehra H.K., Shownkeen R., Sims S., Skuce C.D., Smith M.L., Soderlund C., Steward C.A., Sulston J.E., Swann R.M., Sycamore N., Taylor R., Tee L., Thomas D.W., Thorpe A., Tracey A., Tromans A.C., Vaudin M., Wall M., Wallis J.M., Whitehead S.L., Whittaker P., Willey D.L., Williams L., Williams S.A., Wilming L., Wray P.W., Hubbard T., Durbin R.M., Bentley D.R., Beck S., Rogers J., \"The DNA sequence and comparative analysis of human chromosome 20.\", Nature, 2001, DOI: 10.1038/414865a\n",
      "\n",
      "6. submission: Mural R.J., Istrail S., Sutton G.G., Florea L., Halpern A.L., Mobarry C.M., Lippert R., Walenz B., Shatkay H., Dew I., Miller J.R., Flanigan M.J., Edwards N.J., Bolanos R., Fasulo D., Halldorsson B.V., Hannenhalli S., Turner R., Yooseph S., Lu F., Nusskern D.R., Shue B.C., Zheng X.H., Zhong F., Delcher A.L., Huson D.H., Kravitz S.A., Mouchard L., Reinert K., Remington K.A., Clark A.G., Waterman M.S., Eichler E.E., Adams M.D., Hunkapiller M.W., Myers E.W., Venter J.C., \"NO TITLE PROVIDED\", EMBL/GenBank/DDBJ databases, 2005-09, DOI: 10.1038/414865a\n",
      "\n",
      "7. journal article: The MGC Project Team, \"The status, quality, and expansion of the NIH full-length cDNA project: the Mammalian Gene Collection (MGC).\", Genome Res., 2004, DOI: 10.1101/gr.2596504\n",
      "\n",
      "8. journal article: Tedoldi S., Paterson J.C., Hansmann M.-L., Natkunam Y., Rudiger T., Angelisova P., Du M.Q., Roberton H., Roncador G., Sanchez L., Pozzobon M., Masir N., Barry R., Pileri S., Mason D.Y., Marafioti T., Horejsi V., \"Transmembrane adaptor molecules: a new category of lymphoid-cell markers.\", Blood, 2006, DOI: 10.1182/blood-2005-06-2273\n",
      "\n",
      "9. journal article: Bian Y., Song C., Cheng K., Dong M., Wang F., Huang J., Sun D., Wang L., Ye M., Zou H., \"An enzyme assisted RP-RPLC approach for in-depth analysis of human liver phosphoproteome.\", J. Proteomics, 2014, DOI: 10.1016/j.jprot.2013.11.014\n",
      "\n"
     ]
    }
   ],
   "source": [
    "# submission 6 is the tricky one\n",
    "# there's a bug with the DOI for 6, being repeated\n",
    "document = ET.parse(\"Q9H400.xml\")\n",
    "\n",
    "root = document.getroot()\n",
    "ns = '{http://uniprot.org/uniprot}'\n",
    "entry = root.find(ns+'entry')\n",
    "\n",
    "# there are multiple references, will use findall\n",
    "refs = entry.findall(ns+'reference')\n",
    "\n",
    "for ele in refs:\n",
    "    num = ele.attrib['key']\n",
    "    cit = ele.find(ns+'citation')\n",
    "    entry_type = cit.attrib['type']\n",
    "    \n",
    "    if entry_type == 'journal article':\n",
    "        journal = cit.attrib['name']\n",
    "    else:\n",
    "        journal = cit.attrib['db']\n",
    "    \n",
    "    date = cit.attrib['date']\n",
    "    cit.find(ns+'title')\n",
    "    if cit.find(ns+'title') is None:\n",
    "        title = 'NO TITLE PROVIDED'\n",
    "    else: \n",
    "        title = cit.find(ns+'title').text\n",
    "    #else:\n",
    "        #title = \"NO TITLE PROVIDED\"\n",
    "    authors = []\n",
    "    authorList = cit.find(ns+'authorList')\n",
    "    for ele in authorList:\n",
    "        authors.append(ele.attrib['name'])\n",
    "    refDB = cit.findall(ns+'dbReference')\n",
    "    for ele in refDB:\n",
    "        if ele.attrib['type'] == 'DOI':\n",
    "            doi = ele.attrib['id']\n",
    "        else:\n",
    "            doi = \"NOT PROVIDED\"\n",
    "    print(f'{num}. {entry_type}: {\", \".join(authors)}, \"{title}\", {journal}, {date}, DOI: {doi}')\n",
    "    print()"
   ]
  },
  {
   "cell_type": "code",
   "execution_count": null,
   "metadata": {},
   "outputs": [],
   "source": [
    "# references will contain all the references in the xml\n",
    "references = {}\n",
    "\n",
    "# will have to check if each of these elements exist\n",
    "ref_dict = {\n",
    "    'type':\n",
    "    'authorList':[], # element in citation, persons\n",
    "    'title': # element in citation\n",
    "    'journal': # citation attribute name\n",
    "    'year': # citation attribute date\n",
    "    'doi': # db reference type DOI ID\n",
    "}"
   ]
  },
  {
   "cell_type": "code",
   "execution_count": 70,
   "metadata": {},
   "outputs": [
    {
     "name": "stdout",
     "output_type": "stream",
     "text": [
      "LIME: a new membrane raft-associated adaptor protein involved in CD4 and CD8 coreceptor signaling.\n"
     ]
    }
   ],
   "source": [
    "# title\n",
    "# need some way to check for a title name\n",
    "title = cit.find(ns+'title')\n",
    "print(title.text)"
   ]
  },
  {
   "cell_type": "code",
   "execution_count": null,
   "metadata": {},
   "outputs": [],
   "source": [
    "ingredients = []\n",
    "for ele in root.findall('ingredient'):\n",
    "    ingredients.append([ele.text, ele.attrib['amount'], ele.attrib['unit']])\n",
    "    if ele.attrib.get('state'):\n",
    "        ingredients[-1].append(ele.attrib['state'])"
   ]
  },
  {
   "cell_type": "code",
   "execution_count": 73,
   "metadata": {},
   "outputs": [],
   "source": [
    "# authors\n",
    "authors = []\n",
    "authorList = cit.find(ns+'authorList')\n",
    "for ele in authorList:\n",
    "    authors.append(ele.attrib['name'])\n",
    "authors"
   ]
  },
  {
   "cell_type": "code",
   "execution_count": 75,
   "metadata": {},
   "outputs": [
    {
     "data": {
      "text/plain": [
       "'J. Exp. Med.'"
      ]
     },
     "execution_count": 75,
     "metadata": {},
     "output_type": "execute_result"
    }
   ],
   "source": [
    "# title\n",
    "cit.attrib['name']"
   ]
  },
  {
   "cell_type": "code",
   "execution_count": 77,
   "metadata": {},
   "outputs": [
    {
     "name": "stdout",
     "output_type": "stream",
     "text": [
      "2003\n"
     ]
    }
   ],
   "source": [
    "# year\n",
    "cit.attrib['date']"
   ]
  },
  {
   "cell_type": "code",
   "execution_count": 78,
   "metadata": {},
   "outputs": [],
   "source": [
    "refDB = cit.findall(ns+'dbReference')\n",
    "\n",
    "for ele in refDB:\n",
    "    if ele.attrib['type'] == 'DOI':\n",
    "        print(ele.attrib['id'])"
   ]
  },
  {
   "cell_type": "code",
   "execution_count": null,
   "metadata": {},
   "outputs": [],
   "source": [
    "# how to penetrate directly to the citation level\n",
    "# print title, authors\n",
    "# check if each element is a none before printing"
   ]
  },
  {
   "cell_type": "code",
   "execution_count": null,
   "metadata": {},
   "outputs": [],
   "source": []
  },
  {
   "cell_type": "code",
   "execution_count": null,
   "metadata": {},
   "outputs": [],
   "source": []
  }
 ],
 "metadata": {
  "kernelspec": {
   "display_name": "524_env",
   "language": "python",
   "name": "524_env"
  },
  "language_info": {
   "codemirror_mode": {
    "name": "ipython",
    "version": 3
   },
   "file_extension": ".py",
   "mimetype": "text/x-python",
   "name": "python",
   "nbconvert_exporter": "python",
   "pygments_lexer": "ipython3",
   "version": "3.7.3"
  }
 },
 "nbformat": 4,
 "nbformat_minor": 4
}
