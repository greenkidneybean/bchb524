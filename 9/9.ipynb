{
 "cells": [
  {
   "cell_type": "code",
   "execution_count": 1,
   "metadata": {},
   "outputs": [],
   "source": [
    "import sys"
   ]
  },
  {
   "cell_type": "code",
   "execution_count": 83,
   "metadata": {},
   "outputs": [],
   "source": [
    "#codon_file = sys.argv[1]\n",
    "#seq_file = sys.argv[2]\n",
    "\n",
    "codon_file = 'standard.code'\n",
    "seq_file = 'test.txt'\n",
    "\n",
    "# convert codon table file to data dictionary\n",
    "file = open(codon_file)\n",
    "data = {}\n",
    "for line in file:\n",
    "    split_line = line.split()\n",
    "    key = split_line[0]\n",
    "    value = split_line[2]\n",
    "    data[key] = value\n",
    "file.close()\n",
    "\n",
    "b1 = data['Base1']\n",
    "b2 = data['Base2']\n",
    "b3 = data['Base3']\n",
    "aa = data['AAs']\n",
    "st = data['Starts']\n",
    "\n",
    "codons = {}\n",
    "init = {}\n",
    "n = len(aa)\n",
    "\n",
    "for i in range(n):\n",
    "    codon = b1[i] + b2[i] + b3[i]\n",
    "    codons[codon] = aa[i]\n",
    "    init[codon] = (st[i] == 'M')\n",
    "\n",
    "file = open(seq_file)\n",
    "seq = \"\".join(file.read().split())\n",
    "file.close()\n",
    "\n",
    "def check_wiggle(cod): \n",
    "    check_aa = {}\n",
    "    nuc_list = ['A','C','T','G']\n",
    "    for i in nuc_list:\n",
    "        check_aa[cod[:2]+i] = codons[cod[:2]+i]\n",
    "    set_aa = set(check_aa.values())   \n",
    "    if len(set_aa) == 1:\n",
    "        return list(set_aa)[0]\n",
    "    else:\n",
    "        return 'X'\n",
    "\n",
    "def check_codon(cod):\n",
    "    if 'N' in cod.upper():\n",
    "        return \"X\"\n",
    "    else:\n",
    "        return codons[cod.upper()]\n",
    "\n",
    "def translate_seq(seq):\n",
    "    aaseq = []\n",
    "    codon_seq_len = (len(seq) // 3)*3\n",
    "    print(codon_seq_len)\n",
    "    print(list(range(0,codon_seq_len, 3)))\n",
    "    for i in range(0,codon_seq_len, 3):\n",
    "        codon = seq[i:i+3].upper()\n",
    "        print(codon)\n",
    "        if codon[2].upper() == 'N':\n",
    "            aa = check_wiggle(codon)\n",
    "            print('wiggle')\n",
    "            print(aa)\n",
    "        else:\n",
    "            aa = check_codon(codon)\n",
    "            print('in table')\n",
    "            print(aa)\n",
    "        aaseq.append(aa)\n",
    "    return \"\".join(aaseq)\n"
   ]
  },
  {
   "cell_type": "code",
   "execution_count": 78,
   "metadata": {},
   "outputs": [
    {
     "data": {
      "text/plain": [
       "12"
      ]
     },
     "execution_count": 78,
     "metadata": {},
     "output_type": "execute_result"
    }
   ],
   "source": [
    "(len(seq) // 3 )*3"
   ]
  },
  {
   "cell_type": "code",
   "execution_count": 79,
   "metadata": {},
   "outputs": [
    {
     "data": {
      "text/plain": [
       "'TTGAGTAGAACNT'"
      ]
     },
     "execution_count": 79,
     "metadata": {},
     "output_type": "execute_result"
    }
   ],
   "source": [
    "seq"
   ]
  },
  {
   "cell_type": "code",
   "execution_count": 86,
   "metadata": {},
   "outputs": [
    {
     "name": "stdout",
     "output_type": "stream",
     "text": [
      "12\n",
      "[0, 3, 6, 9]\n",
      "TTG\n",
      "in table\n",
      "L\n",
      "AGT\n",
      "in table\n",
      "S\n",
      "AGA\n",
      "in table\n",
      "R\n",
      "TTN\n",
      "wiggle\n",
      "X\n"
     ]
    },
    {
     "data": {
      "text/plain": [
       "'LSRX'"
      ]
     },
     "execution_count": 86,
     "metadata": {},
     "output_type": "execute_result"
    }
   ],
   "source": [
    "translate_seq(seq)"
   ]
  },
  {
   "cell_type": "code",
   "execution_count": 85,
   "metadata": {},
   "outputs": [
    {
     "data": {
      "text/plain": [
       "[0, 3, 6, 9, 12]"
      ]
     },
     "execution_count": 85,
     "metadata": {},
     "output_type": "execute_result"
    }
   ],
   "source": [
    "seq = \"TTGAGTAGAttNT\"\n",
    "a = range(0,len(seq), 3)\n",
    "list(a)"
   ]
  },
  {
   "cell_type": "code",
   "execution_count": 64,
   "metadata": {},
   "outputs": [
    {
     "data": {
      "text/plain": [
       "13"
      ]
     },
     "execution_count": 64,
     "metadata": {},
     "output_type": "execute_result"
    }
   ],
   "source": [
    "len(seq)"
   ]
  },
  {
   "cell_type": "code",
   "execution_count": 63,
   "metadata": {},
   "outputs": [
    {
     "data": {
      "text/plain": [
       "4"
      ]
     },
     "execution_count": 63,
     "metadata": {},
     "output_type": "execute_result"
    }
   ],
   "source": [
    "len(seq) // 3"
   ]
  },
  {
   "cell_type": "code",
   "execution_count": null,
   "metadata": {},
   "outputs": [],
   "source": []
  },
  {
   "cell_type": "code",
   "execution_count": 66,
   "metadata": {},
   "outputs": [
    {
     "data": {
      "text/plain": [
       "[0, 3, 6, 9]"
      ]
     },
     "execution_count": 66,
     "metadata": {},
     "output_type": "execute_result"
    }
   ],
   "source": [
    "b = len(seq) // 3\n",
    "a = range(0,b*3, 3)\n",
    "list(a)"
   ]
  },
  {
   "cell_type": "code",
   "execution_count": 41,
   "metadata": {},
   "outputs": [
    {
     "data": {
      "text/plain": [
       "'TTGAGTAGACGAAGAGGTGTCATGTCAAATCAATTTAAAGAAGAGCTTGCAAAAGAGCTAGGCTTTTATGATGTTGTTCAGAAAGAAGGATGGGGCGGAATTCGTGCGAAAGATGCTGGTAACATGGTGAAACGTGCTATAGAAATTGCAGAACAGCAATTAATGAAACAAAACCAGTAG'"
      ]
     },
     "execution_count": 41,
     "metadata": {},
     "output_type": "execute_result"
    }
   ],
   "source": [
    "# try checking for N\n",
    "# would be better if built dictionary of lists\n",
    "check = 'ACN'\n",
    "nuc_list = ['A','C','T','G']\n",
    "if check[2].upper() == \"N\":\n",
    "    check_aa = {}\n",
    "    for i in nuc_list:\n",
    "        check_aa[check[:2]+i] = codons[check[:2]+i]\n",
    "    print(set(check_aa.values()))\n",
    "    if len(set(check_aa.values())) == 1:\n",
    "        print(list(myset)[0]set(check_aa.values()))\n",
    "        print('cheese')"
   ]
  },
  {
   "cell_type": "code",
   "execution_count": 43,
   "metadata": {},
   "outputs": [
    {
     "data": {
      "text/plain": [
       "'L'"
      ]
     },
     "execution_count": 43,
     "metadata": {},
     "output_type": "execute_result"
    }
   ],
   "source": [
    "codons['TTG']"
   ]
  },
  {
   "cell_type": "code",
   "execution_count": null,
   "metadata": {},
   "outputs": [],
   "source": [
    "# read all reading frames: ORF 1-3, 4-6"
   ]
  },
  {
   "cell_type": "code",
   "execution_count": null,
   "metadata": {},
   "outputs": [],
   "source": [
    "# if: check if third character is N\n",
    "    # if so but not in dict, return X\n",
    "# else: check if codon in codon dict\n",
    "    # if not return x"
   ]
  }
 ],
 "metadata": {
  "kernelspec": {
   "display_name": "Python 3",
   "language": "python",
   "name": "python3"
  },
  "language_info": {
   "codemirror_mode": {
    "name": "ipython",
    "version": 3
   },
   "file_extension": ".py",
   "mimetype": "text/x-python",
   "name": "python",
   "nbconvert_exporter": "python",
   "pygments_lexer": "ipython3",
   "version": "3.7.3"
  }
 },
 "nbformat": 4,
 "nbformat_minor": 2
}
