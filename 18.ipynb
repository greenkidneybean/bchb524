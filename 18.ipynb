{
 "cells": [
  {
   "cell_type": "code",
   "execution_count": 4,
   "metadata": {},
   "outputs": [
    {
     "data": {
      "text/plain": [
       "'AACTCATCTGCTTCTCCACAGTACA'"
      ]
     },
     "execution_count": 4,
     "metadata": {},
     "output_type": "execute_result"
    }
   ],
   "source": [
    "seq = \"TTGAGTAGACGAAGAGGTGTCATGT\"\n",
    "\n",
    "def complement(seq):\n",
    "        d = {'A':'T', 'T':'A', 'G':'C', 'C':'G', 'N':'N'}\n",
    "        return ''.join(map(d.get, seq))\n",
    "    \n",
    "complement(seq)"
   ]
  },
  {
   "cell_type": "code",
   "execution_count": 57,
   "metadata": {},
   "outputs": [],
   "source": [
    "class DNASeq:\n",
    "    def __init__(self,seq=\"\",name=\"\"):\n",
    "        self.seq = seq.upper()\n",
    "        self.name = name\n",
    "    def read(self, filename):\n",
    "        self.seq = ''.join(open(filename).read().split())\n",
    "    def rev(self):\n",
    "        return self.seq[::-1]\n",
    "    def comp(self):\n",
    "        d = {'A':'T', 'T':'A', 'G':'C', 'C':'G', 'N':'N'}\n",
    "        self =  ''.join(map(d.get, self.seq))\n",
    "        return self\n",
    "    def rev_comp(self):\n",
    "        return self.rev().comp()\n",
    "    def length(self):\n",
    "        return len(self.seq)\n",
    "    def freq(self, nuc):\n",
    "        return self.seq.count(nuc)\n",
    "    def gc(self):\n",
    "        gc_sum = self.freq('C') + self.freq('G')\n",
    "        return 100 * float(gc_sum)/self.length()\n",
    "    \n",
    "new = DNASeq(seq,'my_seq')"
   ]
  },
  {
   "cell_type": "code",
   "execution_count": null,
   "metadata": {},
   "outputs": [],
   "source": []
  },
  {
   "cell_type": "code",
   "execution_count": 129,
   "metadata": {},
   "outputs": [
    {
     "name": "stdout",
     "output_type": "stream",
     "text": [
      "TGTACTGTGGAGAAGCAGATGAGTT\n"
     ]
    }
   ],
   "source": [
    "class DNASeq:\n",
    "    def __init__(self,seq=\"\",name=\"\"):\n",
    "        self.seq = seq.upper()\n",
    "        self.name = name\n",
    "    def read(self, filename):\n",
    "        self.seq = ''.join(open(filename).read().split())\n",
    "        return self\n",
    "    def rev(self):\n",
    "        self.rev = self.seq[::-1]\n",
    "        return self.rev\n",
    "    def comp(self):\n",
    "        d = {'A':'T', 'T':'A', 'G':'C', 'C':'G', 'N':'N'}\n",
    "        self.seq = ''.join(map(d.get, self.seq))\n",
    "        return self\n",
    "    def rev_comp(self): \n",
    "        self.seq = self.rev().comp()\n",
    "        return self\n",
    "    \n",
    "seq = \"TTGAGTAGACGAAGAGGTGTCATGT\"\n",
    "name = 'my_seq'\n",
    "seq = DNASeq(seq,name)\n",
    "print(seq.rev())\n"
   ]
  },
  {
   "cell_type": "code",
   "execution_count": 130,
   "metadata": {},
   "outputs": [
    {
     "data": {
      "text/plain": [
       "'TGTACTGTGGAGAAGCAGATGAGTT'"
      ]
     },
     "execution_count": 130,
     "metadata": {},
     "output_type": "execute_result"
    }
   ],
   "source": [
    "seq.rev"
   ]
  },
  {
   "cell_type": "code",
   "execution_count": 117,
   "metadata": {},
   "outputs": [
    {
     "data": {
      "text/plain": [
       "'line'"
      ]
     },
     "execution_count": 117,
     "metadata": {},
     "output_type": "execute_result"
    }
   ],
   "source": [
    "class foo():\n",
    "    def __init__(self, kind=None):\n",
    "        self.kind = kind\n",
    "    def line(self):\n",
    "        self.kind = 'line'\n",
    "        return self\n",
    "    def bar(self):\n",
    "        self.kind='bar'\n",
    "        return self\n",
    "a = foo()\n",
    "a.bar().line().bar().bar().line().kind"
   ]
  },
  {
   "cell_type": "code",
   "execution_count": 109,
   "metadata": {},
   "outputs": [
    {
     "ename": "AttributeError",
     "evalue": "'str' object has no attribute 'add_man'",
     "output_type": "error",
     "traceback": [
      "\u001b[0;31m---------------------------------------------------------------\u001b[0m",
      "\u001b[0;31mAttributeError\u001b[0m                Traceback (most recent call last)",
      "\u001b[0;32m<ipython-input-109-6db9041ea576>\u001b[0m in \u001b[0;36m<module>\u001b[0;34m\u001b[0m\n\u001b[1;32m      1\u001b[0m \u001b[0ma\u001b[0m \u001b[0;34m=\u001b[0m \u001b[0mmyclass\u001b[0m\u001b[0;34m(\u001b[0m\u001b[0;34m'cheese'\u001b[0m\u001b[0;34m)\u001b[0m\u001b[0;34m\u001b[0m\u001b[0;34m\u001b[0m\u001b[0m\n\u001b[0;32m----> 2\u001b[0;31m \u001b[0ma\u001b[0m\u001b[0;34m.\u001b[0m\u001b[0mseq\u001b[0m\u001b[0;34m.\u001b[0m\u001b[0madd_man\u001b[0m\u001b[0;34m(\u001b[0m\u001b[0;34m)\u001b[0m\u001b[0;34m\u001b[0m\u001b[0;34m\u001b[0m\u001b[0m\n\u001b[0m",
      "\u001b[0;31mAttributeError\u001b[0m: 'str' object has no attribute 'add_man'"
     ]
    }
   ],
   "source": [
    "a = myclass('cheese')\n",
    "a.seq.add_man()"
   ]
  },
  {
   "cell_type": "code",
   "execution_count": null,
   "metadata": {},
   "outputs": [],
   "source": []
  },
  {
   "cell_type": "code",
   "execution_count": 73,
   "metadata": {},
   "outputs": [
    {
     "name": "stdout",
     "output_type": "stream",
     "text": [
      "line\n",
      "bar\n"
     ]
    },
    {
     "ename": "AssertionError",
     "evalue": "",
     "output_type": "error",
     "traceback": [
      "\u001b[0;31m---------------------------------------------------------------\u001b[0m",
      "\u001b[0;31mAssertionError\u001b[0m                Traceback (most recent call last)",
      "\u001b[0;32m<ipython-input-73-fcc8415d2ed2>\u001b[0m in \u001b[0;36m<module>\u001b[0;34m\u001b[0m\n\u001b[1;32m     18\u001b[0m \u001b[0ma\u001b[0m\u001b[0;34m.\u001b[0m\u001b[0mmy_print\u001b[0m\u001b[0;34m(\u001b[0m\u001b[0;34m)\u001b[0m\u001b[0;34m\u001b[0m\u001b[0;34m\u001b[0m\u001b[0m\n\u001b[1;32m     19\u001b[0m \u001b[0;34m\u001b[0m\u001b[0m\n\u001b[0;32m---> 20\u001b[0;31m \u001b[0;32massert\u001b[0m \u001b[0ma\u001b[0m\u001b[0;34m.\u001b[0m\u001b[0mkind\u001b[0m \u001b[0;34m==\u001b[0m \u001b[0;34m'line'\u001b[0m\u001b[0;34m\u001b[0m\u001b[0;34m\u001b[0m\u001b[0m\n\u001b[0m",
      "\u001b[0;31mAssertionError\u001b[0m: "
     ]
    }
   ],
   "source": [
    "class foo():\n",
    "    def __init__(self, kind=None):\n",
    "        self.kind = kind\n",
    "    def my_print(self):\n",
    "        print (self.kind)\n",
    "        return self\n",
    "    def line(self):\n",
    "        self.kind = 'line'\n",
    "        return self\n",
    "    def bar(self):\n",
    "        self.kind='bar'\n",
    "        return self\n",
    "    \n",
    "a = foo()\n",
    "a.line()\n",
    "a.my_print()\n",
    "a.bar()\n",
    "a.my_print()\n",
    "\n",
    "assert a.kind == 'line'"
   ]
  },
  {
   "cell_type": "code",
   "execution_count": 33,
   "metadata": {},
   "outputs": [
    {
     "data": {
      "text/plain": [
       "'TTGAGTAGACGAAGAGGTGTCATGT'"
      ]
     },
     "execution_count": 33,
     "metadata": {},
     "output_type": "execute_result"
    }
   ],
   "source": [
    "new.seq"
   ]
  },
  {
   "cell_type": "code",
   "execution_count": 45,
   "metadata": {},
   "outputs": [
    {
     "data": {
      "text/plain": [
       "44.0"
      ]
     },
     "execution_count": 45,
     "metadata": {},
     "output_type": "execute_result"
    }
   ],
   "source": [
    "new.gc()\n"
   ]
  },
  {
   "cell_type": "code",
   "execution_count": 35,
   "metadata": {},
   "outputs": [
    {
     "data": {
      "text/plain": [
       "'AACTCATCTGCTTCTCCACAGTACA'"
      ]
     },
     "execution_count": 35,
     "metadata": {},
     "output_type": "execute_result"
    }
   ],
   "source": [
    "new.comp()"
   ]
  },
  {
   "cell_type": "code",
   "execution_count": 43,
   "metadata": {},
   "outputs": [
    {
     "ename": "AttributeError",
     "evalue": "'function' object has no attribute 'comp'",
     "output_type": "error",
     "traceback": [
      "\u001b[0;31m---------------------------------------------------------------\u001b[0m",
      "\u001b[0;31mAttributeError\u001b[0m                Traceback (most recent call last)",
      "\u001b[0;32m<ipython-input-43-3666b93f7116>\u001b[0m in \u001b[0;36m<module>\u001b[0;34m\u001b[0m\n\u001b[0;32m----> 1\u001b[0;31m \u001b[0mnew\u001b[0m\u001b[0;34m.\u001b[0m\u001b[0mrev_comp\u001b[0m\u001b[0;34m(\u001b[0m\u001b[0;34m)\u001b[0m\u001b[0;34m\u001b[0m\u001b[0;34m\u001b[0m\u001b[0m\n\u001b[0m",
      "\u001b[0;32m<ipython-input-31-3cf58e876bcc>\u001b[0m in \u001b[0;36mrev_comp\u001b[0;34m(self)\u001b[0m\n\u001b[1;32m     11\u001b[0m         \u001b[0;32mreturn\u001b[0m \u001b[0;34m''\u001b[0m\u001b[0;34m.\u001b[0m\u001b[0mjoin\u001b[0m\u001b[0;34m(\u001b[0m\u001b[0mmap\u001b[0m\u001b[0;34m(\u001b[0m\u001b[0md\u001b[0m\u001b[0;34m.\u001b[0m\u001b[0mget\u001b[0m\u001b[0;34m,\u001b[0m \u001b[0mself\u001b[0m\u001b[0;34m.\u001b[0m\u001b[0mseq\u001b[0m\u001b[0;34m)\u001b[0m\u001b[0;34m)\u001b[0m\u001b[0;34m\u001b[0m\u001b[0;34m\u001b[0m\u001b[0m\n\u001b[1;32m     12\u001b[0m     \u001b[0;32mdef\u001b[0m \u001b[0mrev_comp\u001b[0m\u001b[0;34m(\u001b[0m\u001b[0mself\u001b[0m\u001b[0;34m)\u001b[0m\u001b[0;34m:\u001b[0m\u001b[0;34m\u001b[0m\u001b[0;34m\u001b[0m\u001b[0m\n\u001b[0;32m---> 13\u001b[0;31m         \u001b[0;32mreturn\u001b[0m \u001b[0mself\u001b[0m\u001b[0;34m.\u001b[0m\u001b[0mrev\u001b[0m\u001b[0;34m.\u001b[0m\u001b[0mcomp\u001b[0m\u001b[0;34m(\u001b[0m\u001b[0;34m)\u001b[0m\u001b[0;34m\u001b[0m\u001b[0;34m\u001b[0m\u001b[0m\n\u001b[0m\u001b[1;32m     14\u001b[0m     \u001b[0;32mdef\u001b[0m \u001b[0mlength\u001b[0m\u001b[0;34m(\u001b[0m\u001b[0mself\u001b[0m\u001b[0;34m)\u001b[0m\u001b[0;34m:\u001b[0m\u001b[0;34m\u001b[0m\u001b[0;34m\u001b[0m\u001b[0m\n\u001b[1;32m     15\u001b[0m         \u001b[0;32mreturn\u001b[0m \u001b[0mlen\u001b[0m\u001b[0;34m(\u001b[0m\u001b[0mself\u001b[0m\u001b[0;34m.\u001b[0m\u001b[0mseq\u001b[0m\u001b[0;34m)\u001b[0m\u001b[0;34m\u001b[0m\u001b[0;34m\u001b[0m\u001b[0m\n",
      "\u001b[0;31mAttributeError\u001b[0m: 'function' object has no attribute 'comp'"
     ]
    }
   ],
   "source": [
    "new.rev_comp()"
   ]
  },
  {
   "cell_type": "code",
   "execution_count": null,
   "metadata": {},
   "outputs": [],
   "source": []
  }
 ],
 "metadata": {
  "kernelspec": {
   "display_name": "524_env",
   "language": "python",
   "name": "524_env"
  },
  "language_info": {
   "codemirror_mode": {
    "name": "ipython",
    "version": 3
   },
   "file_extension": ".py",
   "mimetype": "text/x-python",
   "name": "python",
   "nbconvert_exporter": "python",
   "pygments_lexer": "ipython3",
   "version": "3.7.3"
  }
 },
 "nbformat": 4,
 "nbformat_minor": 4
}
