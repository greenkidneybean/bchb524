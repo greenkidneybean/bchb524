{
 "cells": [
  {
   "cell_type": "markdown",
   "metadata": {},
   "source": [
    "# Scratch for HW 12.1\n",
    "\n",
    "[RefSeq human proteins](https://www.ncbi.nlm.nih.gov/projects/genome/guide/human/index.shtml)"
   ]
  },
  {
   "cell_type": "code",
   "execution_count": 19,
   "metadata": {},
   "outputs": [],
   "source": [
    "# note: index writes to hard disk, slow\n",
    "\n",
    "# key is to not dump all these guys into memory\n",
    "import sys\n",
    "import gzip\n",
    "from Bio import SeqIO\n",
    "from Bio.SeqUtils.ProtParam import ProteinAnalysis"
   ]
  },
  {
   "cell_type": "code",
   "execution_count": 20,
   "metadata": {},
   "outputs": [],
   "source": [
    "# Check the input\n",
    "if len(sys.argv) < 2:\n",
    "    print(\"Please provide a sequence file\", file=sys.stderr)\n",
    "    sys.exit(1)\n",
    "\n",
    "#seq_file = sys.argv[1]\n",
    "seq_file = 'human.protein.fasta'"
   ]
  },
  {
   "cell_type": "code",
   "execution_count": 24,
   "metadata": {},
   "outputs": [],
   "source": [
    "def aa_count(filename, filetype):\n",
    "    res_dict = {}\n",
    "    f = open(filename)\n",
    "    for record in SeqIO.parse(f, filetype):\n",
    "        temp_dict = ProteinAnalysis(str(record.seq)).count_amino_acids()\n",
    "        for key, val in temp_dict.items():\n",
    "            if key in res_dict:\n",
    "                res_dict[key] = res_dict[key] + val\n",
    "            else:\n",
    "                res_dict[key] = val\n",
    "    return res_dict"
   ]
  },
  {
   "cell_type": "code",
   "execution_count": 28,
   "metadata": {},
   "outputs": [],
   "source": [
    "refseq = aa_count('human.protein.fasta', \"fasta\")"
   ]
  },
  {
   "cell_type": "code",
   "execution_count": 29,
   "metadata": {},
   "outputs": [],
   "source": [
    "swissprot = aa_count('uniprot_sprot_human.dat', \"swiss\")"
   ]
  },
  {
   "cell_type": "code",
   "execution_count": 31,
   "metadata": {},
   "outputs": [
    {
     "data": {
      "text/plain": [
       "{'A': 4483022,\n",
       " 'C': 1415928,\n",
       " 'D': 3126834,\n",
       " 'E': 4777624,\n",
       " 'F': 2266714,\n",
       " 'G': 4165441,\n",
       " 'H': 1737711,\n",
       " 'I': 2801647,\n",
       " 'K': 3844605,\n",
       " 'L': 6425942,\n",
       " 'M': 1382974,\n",
       " 'N': 2366382,\n",
       " 'P': 4177524,\n",
       " 'Q': 3240476,\n",
       " 'R': 3691190,\n",
       " 'S': 5604342,\n",
       " 'T': 3527664,\n",
       " 'V': 3844408,\n",
       " 'W': 771259,\n",
       " 'Y': 1658945}"
      ]
     },
     "execution_count": 31,
     "metadata": {},
     "output_type": "execute_result"
    }
   ],
   "source": [
    "refseq"
   ]
  },
  {
   "cell_type": "code",
   "execution_count": 30,
   "metadata": {},
   "outputs": [
    {
     "data": {
      "text/plain": [
       "'L'"
      ]
     },
     "execution_count": 30,
     "metadata": {},
     "output_type": "execute_result"
    }
   ],
   "source": [
    "max(refseq, key=refseq.get)"
   ]
  },
  {
   "cell_type": "code",
   "execution_count": 32,
   "metadata": {},
   "outputs": [
    {
     "data": {
      "text/plain": [
       "'W'"
      ]
     },
     "execution_count": 32,
     "metadata": {},
     "output_type": "execute_result"
    }
   ],
   "source": [
    "min(refseq, key=refseq.get)"
   ]
  },
  {
   "cell_type": "code",
   "execution_count": null,
   "metadata": {},
   "outputs": [],
   "source": []
  },
  {
   "cell_type": "code",
   "execution_count": 21,
   "metadata": {},
   "outputs": [
    {
     "name": "stdout",
     "output_type": "stream",
     "text": [
      "12.9 s ± 143 ms per loop (mean ± std. dev. of 7 runs, 1 loop each)\n"
     ]
    }
   ],
   "source": [
    "#%%timeit\n",
    "# use index - slow (13 sec)\n",
    "index = SeqIO.index(seq_file, \"fasta\")\n",
    "\n",
    "res_dict = {}\n",
    "for i in index:\n",
    "    temp_dict = ProteinAnalysis(str(index[i].seq)).count_amino_acids()\n",
    "\n",
    "    for key, val in temp_dict.items():\n",
    "        if key in res_dict:\n",
    "            res_dict[key] = res_dict[key] + val\n",
    "        else:\n",
    "            res_dict[key] = val\n",
    "\n",
    "res_dict"
   ]
  },
  {
   "cell_type": "code",
   "execution_count": 22,
   "metadata": {},
   "outputs": [
    {
     "name": "stdout",
     "output_type": "stream",
     "text": [
      "7.01 s ± 295 ms per loop (mean ± std. dev. of 7 runs, 1 loop each)\n"
     ]
    }
   ],
   "source": [
    "#%%timeit\n",
    "# use dictionary - bit faster (7 sec)\n",
    "f = open(seq_file)\n",
    "seq_dict = SeqIO.to_dict(SeqIO.parse(f, 'fasta'))\n",
    "\n",
    "res_dict = {}\n",
    "for i in seq_dict.keys():\n",
    "    temp_dict = ProteinAnalysis(str(seq_dict[i].seq)).count_amino_acids()\n",
    "    for key, val in temp_dict.items():\n",
    "        if key in res_dict:\n",
    "            res_dict[key] = res_dict[key] + val\n",
    "        else:\n",
    "            res_dict[key] = val\n",
    "\n",
    "res_dict"
   ]
  },
  {
   "cell_type": "code",
   "execution_count": 24,
   "metadata": {},
   "outputs": [
    {
     "name": "stdout",
     "output_type": "stream",
     "text": [
      "36.2 s ± 2.09 s per loop (mean ± std. dev. of 7 runs, 1 loop each)\n"
     ]
    }
   ],
   "source": [
    "#%%timeit\n",
    "# repeat count for uniprot\n",
    "\n",
    "# useing dictionary method - 36 sec\n",
    "seq_file  = 'uniprot_sprot_human.dat'\n",
    "\n",
    "f = open(seq_file)\n",
    "seq_dict = SeqIO.to_dict(SeqIO.parse(f, 'swiss'))\n",
    "\n",
    "res_dict = {}\n",
    "for i in seq_dict.keys():\n",
    "    temp_dict = ProteinAnalysis(str(seq_dict[i].seq)).count_amino_acids()\n",
    "    for key, val in temp_dict.items():\n",
    "        if key in res_dict:\n",
    "            res_dict[key] = res_dict[key] + val\n",
    "        else:\n",
    "            res_dict[key] = val\n",
    "\n",
    "res_dict"
   ]
  },
  {
   "cell_type": "code",
   "execution_count": 25,
   "metadata": {},
   "outputs": [
    {
     "name": "stdout",
     "output_type": "stream",
     "text": [
      "1min 4s ± 703 ms per loop (mean ± std. dev. of 7 runs, 1 loop each)\n"
     ]
    }
   ],
   "source": [
    "%%timeit\n",
    "# use index - slow (1 min)\n",
    "seq_file  = 'uniprot_sprot_human.dat'\n",
    "index = SeqIO.index(seq_file, \"swiss\")\n",
    "\n",
    "res_dict = {}\n",
    "for i in index:\n",
    "    temp_dict = ProteinAnalysis(str(index[i].seq)).count_amino_acids()\n",
    "\n",
    "    for key, val in temp_dict.items():\n",
    "        if key in res_dict:\n",
    "            res_dict[key] = res_dict[key] + val\n",
    "        else:\n",
    "            res_dict[key] = val\n",
    "\n",
    "res_dict"
   ]
  },
  {
   "cell_type": "code",
   "execution_count": 27,
   "metadata": {},
   "outputs": [],
   "source": [
    "seq = str(seq_dict['gi|767999332|ref|XP_011524511.1|'].seq)"
   ]
  },
  {
   "cell_type": "code",
   "execution_count": 30,
   "metadata": {},
   "outputs": [
    {
     "data": {
      "text/plain": [
       "{'A': 153,\n",
       " 'C': 44,\n",
       " 'D': 75,\n",
       " 'E': 181,\n",
       " 'F': 50,\n",
       " 'G': 111,\n",
       " 'H': 50,\n",
       " 'I': 94,\n",
       " 'K': 138,\n",
       " 'L': 175,\n",
       " 'M': 50,\n",
       " 'N': 98,\n",
       " 'P': 194,\n",
       " 'Q': 115,\n",
       " 'R': 73,\n",
       " 'S': 303,\n",
       " 'T': 152,\n",
       " 'V': 113,\n",
       " 'W': 6,\n",
       " 'Y': 17}"
      ]
     },
     "execution_count": 30,
     "metadata": {},
     "output_type": "execute_result"
    }
   ],
   "source": [
    "a = ProteinAnalysis(seq)\n",
    "d = a.count_amino_acids()\n",
    "d"
   ]
  },
  {
   "cell_type": "code",
   "execution_count": 21,
   "metadata": {},
   "outputs": [
    {
     "data": {
      "text/plain": [
       "<dict_keyiterator at 0x107bb3048>"
      ]
     },
     "execution_count": 21,
     "metadata": {},
     "output_type": "execute_result"
    }
   ],
   "source": [
    "res_dict = {}\n",
    "for i in index:\n",
    "    coun\n",
    "    "
   ]
  },
  {
   "cell_type": "code",
   "execution_count": null,
   "metadata": {},
   "outputs": [],
   "source": []
  }
 ],
 "metadata": {
  "kernelspec": {
   "display_name": "524_env",
   "language": "python",
   "name": "524_env"
  },
  "language_info": {
   "codemirror_mode": {
    "name": "ipython",
    "version": 3
   },
   "file_extension": ".py",
   "mimetype": "text/x-python",
   "name": "python",
   "nbconvert_exporter": "python",
   "pygments_lexer": "ipython3",
   "version": "3.7.3"
  }
 },
 "nbformat": 4,
 "nbformat_minor": 4
}
