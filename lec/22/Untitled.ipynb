{
 "cells": [
  {
   "cell_type": "code",
   "execution_count": 1,
   "metadata": {},
   "outputs": [],
   "source": [
    "from Bio.Blast import NCBIXML"
   ]
  },
  {
   "cell_type": "code",
   "execution_count": 3,
   "metadata": {},
   "outputs": [
    {
     "name": "stdout",
     "output_type": "stream",
     "text": [
      "***Alignment***\n",
      "seq: gnl|BL_ORD_ID|48 gi|6319267|ref|NP_009350.1| Yal049cp\n",
      "len: 246\n",
      "evalue: 0.0\n",
      "\n",
      "***Alignment***\n",
      "seq: gnl|BL_ORD_ID|49 gi|6319268|ref|NP_009351.1| Yal048cp\n",
      "len: 662\n",
      "evalue: 0.0\n",
      "\n"
     ]
    }
   ],
   "source": [
    "result_handle = open('results.xml')\n",
    "for blast_result in NCBIXML.parse(result_handle):\n",
    "    for alignment in blast_result.alignments:\n",
    "        for hsp in alignment.hsps:\n",
    "            if hsp.expect < 1e-5:\n",
    "                print('***Alignment***')\n",
    "                print('seq:',alignment.title)\n",
    "                print('len:',alignment.length)\n",
    "                print('evalue:', hsp.expect)\n",
    "                print()"
   ]
  },
  {
   "cell_type": "code",
   "execution_count": null,
   "metadata": {},
   "outputs": [],
   "source": []
  }
 ],
 "metadata": {
  "kernelspec": {
   "display_name": "524_env",
   "language": "python",
   "name": "524_env"
  },
  "language_info": {
   "codemirror_mode": {
    "name": "ipython",
    "version": 3
   },
   "file_extension": ".py",
   "mimetype": "text/x-python",
   "name": "python",
   "nbconvert_exporter": "python",
   "pygments_lexer": "ipython3",
   "version": "3.7.3"
  }
 },
 "nbformat": 4,
 "nbformat_minor": 4
}
