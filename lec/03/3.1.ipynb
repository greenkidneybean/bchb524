{
 "cells": [
  {
   "cell_type": "markdown",
   "metadata": {},
   "source": [
    "# HW 3.1\n",
    "- Does gene start with Met (\"ATG\") codon: bool\n",
    "- Does gene have a frame-1 Met codon: bool\n",
    "- Length of gene: int\n",
    "- Amino-acid length of gene: int\n",
    "- GC content (%): float"
   ]
  },
  {
   "cell_type": "code",
   "execution_count": 28,
   "metadata": {},
   "outputs": [],
   "source": [
    "#args.seq_file = 'anthrax_sasp.nuc'\n",
    "\n",
    "file_1 = 'anthrax_sasp.nuc'\n",
    "\n",
    "with open(file_1) as f:\n",
    "    seq = \"\".join(line.strip() for line in f)\n",
    "\n",
    "if seq == \"\":\n",
    "    print(f\"Error: {file_2} is empty\")\n",
    "\n",
    "# Does gene start with Met (\"ATG\") codon: bool\n",
    "start_index = seq.lower().find(\"agt\")\n",
    "start_index\n",
    "\n",
    "\n",
    "# reading frame\n",
    "frame = start_index % 3 + 1\n",
    "frame\n",
    "\n",
    "# length of gene\n",
    "# need to incorporate stop codons\n",
    "\n",
    "# does NOT account for stop codons\n",
    "#stop_codons = ['tag','taa','tga']\n",
    "#stop_index = start_index\n",
    "#stop_list = [seq.lower().find(i) for i in stop_codons]\n",
    "#stop_list\n",
    "\n",
    "# would be worth implementation to find stop codons\n",
    "gene_seq = seq[start_index:]\n",
    "gene_length = len(gene_seq)\n",
    "gene_length\n",
    "\n",
    "# amino acid length\n",
    "aa_length = gene_length // 3\n",
    "aa_length\n",
    "\n",
    "gene_seq\n",
    "\n",
    "# gc content\n",
    "g_cnt = gene_seq.lower().count(\"g\")\n",
    "c_cnt = gene_seq.lower().count(\"c\")\n",
    "percent_gc = ((g_cnt + c_cnt) / gene_length) * 100\n",
    "percent_gc"
   ]
  }
 ],
 "metadata": {
  "kernelspec": {
   "display_name": "Python 3",
   "language": "python",
   "name": "python3"
  },
  "language_info": {
   "codemirror_mode": {
    "name": "ipython",
    "version": 3
   },
   "file_extension": ".py",
   "mimetype": "text/x-python",
   "name": "python",
   "nbconvert_exporter": "python",
   "pygments_lexer": "ipython3",
   "version": "3.7.3"
  }
 },
 "nbformat": 4,
 "nbformat_minor": 2
}
