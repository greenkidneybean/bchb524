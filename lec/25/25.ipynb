{
 "cells": [
  {
   "cell_type": "code",
   "execution_count": 5,
   "metadata": {},
   "outputs": [],
   "source": [
    "#\n",
    "# use the previous project code\n",
    "# use max instead of a set to filter the taxids\n",
    "# move up another parent of \"no rank\"\n",
    "# "
   ]
  },
  {
   "cell_type": "code",
   "execution_count": null,
   "metadata": {},
   "outputs": [],
   "source": [
    "# create new model.py file\n",
    "# take user organism search\n",
    "    # have an exception if organism not found\n",
    "    # if no argument, ask for argument\n",
    "# pair down to a single taxid\n",
    "# work back through parents with while loop\n",
    "# append to list, then print list in reverse\n",
    "    # also print the children of the query?\n",
    "# go all the way back to the root of taxid == 1"
   ]
  },
  {
   "cell_type": "code",
   "execution_count": 1,
   "metadata": {},
   "outputs": [],
   "source": [
    "# 25.py\n",
    "import sys\n",
    "\n",
    "from model import *\n",
    "\n",
    "if len(sys.argv) < 2:\n",
    "    print(\"Input organism name\")\n",
    "    sys.exit(1)\n",
    "\n",
    "init()\n",
    "\n",
    "#query = sys.argv[1]\n",
    "query = 'gorilla'\n",
    "\n",
    "# search Name table\n",
    "condition = Name.q.name.contains(query)\n",
    "\n",
    "id_list = []\n",
    "for n in Name.select(condition):\n",
    "    id_list.append(n.taxonomy.taxid)\n",
    "\n",
    "def most_frequent(List): \n",
    "    return max(set(List), key = List.count) \n",
    "\n",
    "#id_list = []\n",
    "try:\n",
    "    child = most_frequent(id_list)\n",
    "    print(f'Best match taxID for query: {child}')\n",
    "except ValueError:\n",
    "    print(f\"Organism name query {query} not found in database\", file=sys.stderr)\n",
    "    sys.exit(1)\n",
    "\n",
    "#Get taxonomy row\n",
    "t = Taxonomy.byTaxid(child)\n",
    "\n",
    "r = t\n",
    "lineage = []\n",
    "while r.scientific_name != 'root':\n",
    "    lineage.append(r)\n",
    "    r = r.parent\n",
    "\n",
    "print(f'Ascending lineage for: {lineage[0].scientific_name}')\n",
    "print()\n",
    "\n",
    "for i in lineage:\n",
    "    print(f'{i.scientific_name} (TaxID: {i.taxid}) Rank: {i.rank}')"
   ]
  },
  {
   "cell_type": "code",
   "execution_count": 6,
   "metadata": {},
   "outputs": [
    {
     "name": "stdout",
     "output_type": "stream",
     "text": [
      "<Taxonomy 634 taxid=499232 scientific_name='Gorilla beringei' rank='species' parentID=128>\n",
      "<Taxonomy 128 taxid=9592 scientific_name='Gorilla' rank='genus' parentID=462>\n",
      "<Taxonomy 462 taxid=207598 scientific_name=\"'Homo/Pan/Gorilla...'\" rank='no rank' parentID=139>\n",
      "<Taxonomy 139 taxid=9604 scientific_name='Hominidae' rank='family' parentID=542>\n",
      "<Taxonomy 542 taxid=314295 scientific_name='Hominoidea' rank='superfamily' parentID=75>\n",
      "<Taxonomy 75 taxid=9526 scientific_name='Catarrhini' rank='parvorder' parentID=540>\n",
      "<Taxonomy 540 taxid=314293 scientific_name='Simiiformes' rank='infraorder' parentID=581>\n",
      "<Taxonomy 581 taxid=376913 scientific_name='Haplorrhini' rank='suborder' parentID=9>\n",
      "<Taxonomy 9 taxid=9443 scientific_name='Primates' rank='order' parentID=539>\n",
      "<Taxonomy 539 taxid=314146 scientific_name='Euarchontoglires' rank='superorder' parentID=8>\n",
      "<Taxonomy 8 taxid=9347 scientific_name='Eutheria' rank='no rank' parentID=181>\n",
      "<Taxonomy 181 taxid=32525 scientific_name='Theria' rank='no rank' parentID=230>\n",
      "<Taxonomy 230 taxid=40674 scientific_name='Mammalia' rank='class' parentID=180>\n",
      "<Taxonomy 180 taxid=32524 scientific_name='Amniota' rank='no rank' parentID=179>\n",
      "<Taxonomy 179 taxid=32523 scientific_name='Tetrapoda' rank='no rank' parentID=7>\n",
      "<Taxonomy 7 taxid=8287 scientific_name='Sarcopterygii' rank='no rank' parentID=351>\n",
      "<Taxonomy 351 taxid=117571 scientific_name='Euteleostomi' rank='no rank' parentID=350>\n",
      "<Taxonomy 350 taxid=117570 scientific_name='Teleostomi' rank='no rank' parentID=6>\n",
      "<Taxonomy 6 taxid=7776 scientific_name='Gnathostomata' rank='superclass' parentID=5>\n",
      "<Taxonomy 5 taxid=7742 scientific_name='Vertebrata' rank='no rank' parentID=319>\n",
      "<Taxonomy 319 taxid=89593 scientific_name='Craniata' rank='subphylum' parentID=4>\n",
      "<Taxonomy 4 taxid=7711 scientific_name='Chordata' rank='phylum' parentID=186>\n",
      "<Taxonomy 186 taxid=33511 scientific_name='Deuterostomia' rank='no rank' parentID=185>\n",
      "<Taxonomy 185 taxid=33316 scientific_name='Coelomata' rank='no rank' parentID=184>\n",
      "<Taxonomy 184 taxid=33213 scientific_name='Bilateria' rank='no rank' parentID=3>\n",
      "<Taxonomy 3 taxid=6072 scientific_name='Eumetazoa' rank='no rank' parentID=183>\n",
      "<Taxonomy 183 taxid=33208 scientific_name='Metazoa' rank='kingdom' parentID=182>\n",
      "<Taxonomy 182 taxid=33154 scientific_name=\"'Fungi/Metazoa gr...'\" rank='no rank' parentID=2>\n",
      "<Taxonomy 2 taxid=2759 scientific_name='Eukaryota' rank='superkingdom' parentID=393>\n",
      "<Taxonomy 393 taxid=131567 scientific_name='cellular organisms' rank='no rank' parentID=1>\n",
      "Organism Gorilla beringei has no genus\n"
     ]
    }
   ],
   "source": [
    "if g == None:\n",
    "    print(\"Organism\",t.scientific_name,\"has no genus\")\n",
    "else:\n",
    "    print(\"Organism\",t.scientific_name,\"has genus\",g.scientific_name)"
   ]
  },
  {
   "cell_type": "code",
   "execution_count": null,
   "metadata": {},
   "outputs": [],
   "source": [
    "# 24.py\n",
    "from model import *\n",
    "import sys\n",
    "\n",
    "query = str(sys.argv[1])\n",
    "\n",
    "condition = Name.q.name.contains(query)\n",
    "\n",
    "id_set = set()\n",
    "for n in Name.select(condition):\n",
    "    id_set.add(n.taxID)\n",
    "\n",
    "if len(id_set) == 0:\n",
    "    print(f\"Can't find query: {query}\")\n",
    "    sys.exit(1)\n",
    "\n",
    "for i in id_set:\n",
    "    sci_name = Taxonomy.get(i)\n",
    "    print(f'{sci_name.scientificName} (taxid: {sci_name.id})')"
   ]
  },
  {
   "cell_type": "code",
   "execution_count": 1,
   "metadata": {},
   "outputs": [],
   "source": [
    "import pandas as pd\n",
    "import sqlite3\n",
    "conn = sqlite3.connect(\"small_taxa.db3\")\n",
    "df1 = pd.read_sql_query(\"select * from name;\", conn)"
   ]
  },
  {
   "cell_type": "code",
   "execution_count": 6,
   "metadata": {},
   "outputs": [
    {
     "data": {
      "text/html": [
       "<div>\n",
       "<style scoped>\n",
       "    .dataframe tbody tr th:only-of-type {\n",
       "        vertical-align: middle;\n",
       "    }\n",
       "\n",
       "    .dataframe tbody tr th {\n",
       "        vertical-align: top;\n",
       "    }\n",
       "\n",
       "    .dataframe thead th {\n",
       "        text-align: right;\n",
       "    }\n",
       "</style>\n",
       "<table border=\"1\" class=\"dataframe\">\n",
       "  <thead>\n",
       "    <tr style=\"text-align: right;\">\n",
       "      <th></th>\n",
       "      <th>id</th>\n",
       "      <th>taxonomy_id</th>\n",
       "      <th>name</th>\n",
       "      <th>name_class</th>\n",
       "    </tr>\n",
       "  </thead>\n",
       "  <tbody>\n",
       "    <tr>\n",
       "      <td>0</td>\n",
       "      <td>1</td>\n",
       "      <td>1</td>\n",
       "      <td>all</td>\n",
       "      <td>synonym</td>\n",
       "    </tr>\n",
       "    <tr>\n",
       "      <td>1</td>\n",
       "      <td>2</td>\n",
       "      <td>1</td>\n",
       "      <td>root</td>\n",
       "      <td>scientific name</td>\n",
       "    </tr>\n",
       "    <tr>\n",
       "      <td>2</td>\n",
       "      <td>3</td>\n",
       "      <td>2</td>\n",
       "      <td>Eucarya</td>\n",
       "      <td>synonym</td>\n",
       "    </tr>\n",
       "    <tr>\n",
       "      <td>3</td>\n",
       "      <td>4</td>\n",
       "      <td>2</td>\n",
       "      <td>Eucaryotae</td>\n",
       "      <td>synonym</td>\n",
       "    </tr>\n",
       "    <tr>\n",
       "      <td>4</td>\n",
       "      <td>5</td>\n",
       "      <td>2</td>\n",
       "      <td>Eukarya</td>\n",
       "      <td>synonym</td>\n",
       "    </tr>\n",
       "  </tbody>\n",
       "</table>\n",
       "</div>"
      ],
      "text/plain": [
       "   id  taxonomy_id        name       name_class\n",
       "0   1            1         all          synonym\n",
       "1   2            1        root  scientific name\n",
       "2   3            2     Eucarya          synonym\n",
       "3   4            2  Eucaryotae          synonym\n",
       "4   5            2     Eukarya          synonym"
      ]
     },
     "execution_count": 6,
     "metadata": {},
     "output_type": "execute_result"
    }
   ],
   "source": [
    "df1.head()"
   ]
  },
  {
   "cell_type": "code",
   "execution_count": 8,
   "metadata": {},
   "outputs": [
    {
     "data": {
      "text/plain": [
       "(1251, 4)"
      ]
     },
     "execution_count": 8,
     "metadata": {},
     "output_type": "execute_result"
    }
   ],
   "source": [
    "df1.shape"
   ]
  },
  {
   "cell_type": "code",
   "execution_count": 3,
   "metadata": {},
   "outputs": [],
   "source": [
    "df2 = pd.read_sql_query(\"select * from taxonomy;\", conn)"
   ]
  },
  {
   "cell_type": "code",
   "execution_count": 4,
   "metadata": {},
   "outputs": [
    {
     "data": {
      "text/html": [
       "<div>\n",
       "<style scoped>\n",
       "    .dataframe tbody tr th:only-of-type {\n",
       "        vertical-align: middle;\n",
       "    }\n",
       "\n",
       "    .dataframe tbody tr th {\n",
       "        vertical-align: top;\n",
       "    }\n",
       "\n",
       "    .dataframe thead th {\n",
       "        text-align: right;\n",
       "    }\n",
       "</style>\n",
       "<table border=\"1\" class=\"dataframe\">\n",
       "  <thead>\n",
       "    <tr style=\"text-align: right;\">\n",
       "      <th></th>\n",
       "      <th>id</th>\n",
       "      <th>taxid</th>\n",
       "      <th>scientific_name</th>\n",
       "      <th>rank</th>\n",
       "      <th>parent_id</th>\n",
       "    </tr>\n",
       "  </thead>\n",
       "  <tbody>\n",
       "    <tr>\n",
       "      <td>0</td>\n",
       "      <td>1</td>\n",
       "      <td>1</td>\n",
       "      <td>root</td>\n",
       "      <td>no rank</td>\n",
       "      <td>1</td>\n",
       "    </tr>\n",
       "    <tr>\n",
       "      <td>1</td>\n",
       "      <td>2</td>\n",
       "      <td>2759</td>\n",
       "      <td>Eukaryota</td>\n",
       "      <td>superkingdom</td>\n",
       "      <td>393</td>\n",
       "    </tr>\n",
       "    <tr>\n",
       "      <td>2</td>\n",
       "      <td>3</td>\n",
       "      <td>6072</td>\n",
       "      <td>Eumetazoa</td>\n",
       "      <td>no rank</td>\n",
       "      <td>183</td>\n",
       "    </tr>\n",
       "    <tr>\n",
       "      <td>3</td>\n",
       "      <td>4</td>\n",
       "      <td>7711</td>\n",
       "      <td>Chordata</td>\n",
       "      <td>phylum</td>\n",
       "      <td>186</td>\n",
       "    </tr>\n",
       "    <tr>\n",
       "      <td>4</td>\n",
       "      <td>5</td>\n",
       "      <td>7742</td>\n",
       "      <td>Vertebrata</td>\n",
       "      <td>no rank</td>\n",
       "      <td>319</td>\n",
       "    </tr>\n",
       "  </tbody>\n",
       "</table>\n",
       "</div>"
      ],
      "text/plain": [
       "   id  taxid scientific_name          rank  parent_id\n",
       "0   1      1            root       no rank          1\n",
       "1   2   2759       Eukaryota  superkingdom        393\n",
       "2   3   6072       Eumetazoa       no rank        183\n",
       "3   4   7711        Chordata        phylum        186\n",
       "4   5   7742      Vertebrata       no rank        319"
      ]
     },
     "execution_count": 4,
     "metadata": {},
     "output_type": "execute_result"
    }
   ],
   "source": [
    "df2.head()"
   ]
  },
  {
   "cell_type": "code",
   "execution_count": 9,
   "metadata": {},
   "outputs": [
    {
     "data": {
      "text/plain": [
       "(659, 5)"
      ]
     },
     "execution_count": 9,
     "metadata": {},
     "output_type": "execute_result"
    }
   ],
   "source": [
    "df2.shape"
   ]
  },
  {
   "cell_type": "code",
   "execution_count": null,
   "metadata": {},
   "outputs": [],
   "source": []
  }
 ],
 "metadata": {
  "kernelspec": {
   "display_name": "524_env",
   "language": "python",
   "name": "524_env"
  },
  "language_info": {
   "codemirror_mode": {
    "name": "ipython",
    "version": 3
   },
   "file_extension": ".py",
   "mimetype": "text/x-python",
   "name": "python",
   "nbconvert_exporter": "python",
   "pygments_lexer": "ipython3",
   "version": "3.7.3"
  }
 },
 "nbformat": 4,
 "nbformat_minor": 4
}
