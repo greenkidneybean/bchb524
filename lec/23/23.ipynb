{
 "cells": [
  {
   "cell_type": "code",
   "execution_count": null,
   "metadata": {},
   "outputs": [],
   "source": [
    "# query the name table\n",
    "# output from the taxonomy table"
   ]
  },
  {
   "cell_type": "code",
   "execution_count": 2,
   "metadata": {},
   "outputs": [],
   "source": [
    "import sqlite3\n",
    "\n",
    "#organism = '%' + str(sys.argv[1]) + '%'\n",
    "query = '%' +'Cheese'+'%'\n",
    "\n",
    "conn = sqlite3.connect('taxa.db3')\n",
    "params = [query]\n",
    "c = conn.cursor()\n",
    "c.execute(\"\"\"\n",
    "    select * from name\n",
    "    where name like ?\n",
    "\"\"\", params)\n",
    "\n",
    "id_set = {row[1] for row in c}\n",
    "\n",
    "hits = []\n",
    "for i in id_set:\n",
    "    params = [i]\n",
    "    c.execute(\"\"\"\n",
    "        select * from taxonomy\n",
    "        where tax_id = ?\n",
    "    \"\"\", params)\n",
    "    for row in c:\n",
    "        print(f'{row[1]} (taxid: {row[0]})')"
   ]
  },
  {
   "cell_type": "code",
   "execution_count": 39,
   "metadata": {},
   "outputs": [
    {
     "data": {
      "text/plain": [
       "[(59492, 'Rubus ellipticus', 'species', 23216),\n",
       " (155754, 'Pachycladon latisiliqua', 'species', 106787),\n",
       " (155755, 'Pachycladon radicata', 'species', 106787),\n",
       " (106773, 'Pachycladon cheesemanii', 'species', 106787),\n",
       " (106774, 'Pachycladon fastigiata', 'species', 106787),\n",
       " (106775, 'Pachycladon wallii', 'species', 106787)]"
      ]
     },
     "execution_count": 39,
     "metadata": {},
     "output_type": "execute_result"
    }
   ],
   "source": [
    "hits\n"
   ]
  },
  {
   "cell_type": "code",
   "execution_count": 21,
   "metadata": {},
   "outputs": [
    {
     "data": {
      "text/plain": [
       "{59492, 106773, 106774, 106775, 155754, 155755}"
      ]
     },
     "execution_count": 21,
     "metadata": {},
     "output_type": "execute_result"
    }
   ],
   "source": [
    "id_set"
   ]
  },
  {
   "cell_type": "code",
   "execution_count": 49,
   "metadata": {},
   "outputs": [
    {
     "name": "stdout",
     "output_type": "stream",
     "text": [
      "Dictyoglomus\n",
      "Dictyoglomus Saiki et al. 1985\n",
      "Dictyoglomus thermophilum\n",
      "Dictyoglomus thermophilum Saiki et al. 1985\n",
      "Detoniella\n",
      "Diplobacillus\n",
      "Diplobacille de la conjonctivite subaigue\n",
      "Diplobacillus moraxenfeld\n",
      "Diplococcus gonorrhoeae\n",
      "Diplokokkus intracellularis meningitidis\n"
     ]
    }
   ],
   "source": [
    "conn = sqlite3.connect('taxa.db3')\n",
    "c = conn.cursor()\n",
    "c.execute(\"\"\"\n",
    "    select * from name\n",
    "    where name like 'D%'\n",
    "    limit 10;\n",
    "\"\"\")\n",
    "for row in c:\n",
    "    print(row[2])"
   ]
  },
  {
   "cell_type": "code",
   "execution_count": 51,
   "metadata": {},
   "outputs": [
    {
     "name": "stdout",
     "output_type": "stream",
     "text": [
      "Dictyoglomus\n",
      "Dictyoglomus thermophilum\n",
      "Dichelobacter\n",
      "Dichelobacter nodosus\n",
      "Desulfovibrio\n",
      "Desulfovibrio africanus\n",
      "Desulfovibrio desulfuricans\n",
      "Desulfovibrio fructosovorans\n",
      "Desulfovibrio gigas\n",
      "Desulfovibrio salexigens\n"
     ]
    }
   ],
   "source": [
    "import sys\n",
    "import sqlite3\n",
    "\n",
    "#organism = str(sys.argv[1])\n",
    "organism = 'D%'\n",
    "\n",
    "conn = sqlite3.connect('taxa.db3')\n",
    "params = [organism]\n",
    "c = conn.cursor()\n",
    "c.execute(\"\"\"\n",
    "    select name from name\n",
    "    where name like ? and name_class = 'scientific name'\n",
    "    limit 10;\n",
    "\"\"\", params)\n",
    "for row in c:\n",
    "    print(row[0])"
   ]
  },
  {
   "cell_type": "code",
   "execution_count": 43,
   "metadata": {},
   "outputs": [
    {
     "data": {
      "text/plain": [
       "(('id', None, None, None, None, None, None),\n",
       " ('tax_id', None, None, None, None, None, None),\n",
       " ('name', None, None, None, None, None, None),\n",
       " ('name_class', None, None, None, None, None, None))"
      ]
     },
     "execution_count": 43,
     "metadata": {},
     "output_type": "execute_result"
    }
   ],
   "source": [
    "conn = sqlite3.connect('taxa.db3')\n",
    "c = conn.cursor()\n",
    "c.execute('select * from name')\n",
    "c.description"
   ]
  },
  {
   "cell_type": "code",
   "execution_count": 35,
   "metadata": {},
   "outputs": [
    {
     "name": "stdout",
     "output_type": "stream",
     "text": [
      "taxonomy\n",
      "name\n"
     ]
    }
   ],
   "source": [
    "conn = sqlite3.connect('taxa.db3')\n",
    "#c = conn.cursor()\n",
    "res = conn.execute(\"SELECT name FROM sqlite_master WHERE type='table';\")\n",
    "for name in res:\n",
    "    print(name[0])"
   ]
  },
  {
   "cell_type": "code",
   "execution_count": 11,
   "metadata": {},
   "outputs": [],
   "source": [
    "for i in c:\n",
    "    print(i)"
   ]
  },
  {
   "cell_type": "code",
   "execution_count": null,
   "metadata": {},
   "outputs": [],
   "source": [
    "\n",
    "\n",
    "select column_name from information_schema.columns where table_name='table'\n",
    "\n"
   ]
  }
 ],
 "metadata": {
  "kernelspec": {
   "display_name": "524_env",
   "language": "python",
   "name": "524_env"
  },
  "language_info": {
   "codemirror_mode": {
    "name": "ipython",
    "version": 3
   },
   "file_extension": ".py",
   "mimetype": "text/x-python",
   "name": "python",
   "nbconvert_exporter": "python",
   "pygments_lexer": "ipython3",
   "version": "3.7.5"
  }
 },
 "nbformat": 4,
 "nbformat_minor": 4
}
