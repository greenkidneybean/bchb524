{
 "cells": [
  {
   "cell_type": "markdown",
   "metadata": {},
   "source": [
    "# Putative Human – Mouse BRCA1 Orthologs  \n",
    "Write a program using NCBI's E-Utilities to retrieve the ids of RefSeq human BRCA1 proteins from NCBI. \n",
    "* Use the query: \"Homo sapiens\"[Organism] AND BRCA1[Gene Name] AND REFSEQ\n",
    "* Extend your program to search these protein ids (one at a time) vs RefSeq proteins (refseq_protein) using the NCBI blast web-service.\n",
    "* Further extend your program to filter the results for significance (E-value < 1.0e-5) and to extract mouse sequences (match \"Mus musculus\" in the description).\u000b",
    "Note: you may need to \n",
    "* Request at least 200 alignments from qblast to see the first mouse protein (keyword parameter hitlist_size, default is 50), or __Restrict the qblast search to mouse refseq proteins (keyword parameter entrez_query)__\n",
    "\n",
    "Need to use the [Biopython guide](http://biopython.org/DIST/docs/tutorial/Tutorial.html#htoc91)\n",
    "\n",
    "Questions\n",
    "* extend to refseq: search both gb and refseq? or search genes then proteins all in refseq?"
   ]
  },
  {
   "cell_type": "code",
   "execution_count": 6,
   "metadata": {},
   "outputs": [],
   "source": [
    "from Bio import Entrez, SeqIO\n",
    "from Bio.Blast import NCBIWWW, NCBIXML\n",
    "import os.path\n",
    "\n",
    "Entrez.email = 'michael.chambers2@nih.gov'"
   ]
  },
  {
   "cell_type": "code",
   "execution_count": null,
   "metadata": {},
   "outputs": [
    {
     "name": "stdout",
     "output_type": "stream",
     "text": [
      "\n",
      "*** START: 6552299 ***\n",
      "\n",
      "GI: 6552299\n",
      "Accession: NP_009225.1\n",
      "Description: breast cancer type 1 susceptibility protein isoform 1 [Homo sapiens]\n"
     ]
    }
   ],
   "source": [
    "handle = Entrez.esearch(\n",
    "    db='protein',\n",
    "    term = '\"Homo sapiens\"[Organism] AND BRCA1[Gene Name] AND REFSEQ',\n",
    "    usehistory='y'    \n",
    ")\n",
    "\n",
    "result = Entrez.read(handle)\n",
    "handle.close()\n",
    "\n",
    "id_list = ','.join(result['IdList'])\n",
    "handle = Entrez.efetch(\n",
    "    db='protein',\n",
    "    id=id_list,\n",
    "    rettype='gb'\n",
    ")\n",
    "\n",
    "for gi,r in zip(result['IdList'], SeqIO.parse(handle, 'genbank')):\n",
    "    print(f'\\n*** START: {gi} ***\\n')\n",
    "    print('GI:', gi)\n",
    "    print('Accession:', r.id)\n",
    "    print('Description:', r.description)\n",
    "\n",
    "    print(f\"\\nBLAST for GI {gi}...\\n\")\n",
    "    result_handle = NCBIWWW.qblast(\n",
    "        'blastp',\n",
    "        'refseq_protein',\n",
    "        gi,\n",
    "        expect=1e-5,\n",
    "        entrez_query='\"Mus musculus\"[Organism]'\n",
    "    )\n",
    "    \n",
    "    blast_results = result_handle.read()\n",
    "    result_handle.close()\n",
    "    \n",
    "    # parse the file (was 38)\n",
    "    for blast_result in NCBIXML.parse(blast_results):\n",
    "        for desc in blast_results.descriptions:\n",
    "            print('***Alignment***')\n",
    "            print('Sequence:',desc.title)\n",
    "            print('Evalue:', desc.e)\n",
    "            print()\n",
    "    \n",
    "    file = f'blastp-np-{gi}.xml'    \n",
    "    save_file = open(file, 'w')\n",
    "    save_file.write(blast_results)\n",
    "    \n",
    "    print(f'\\n*** END {gi} ***')"
   ]
  },
  {
   "cell_type": "code",
   "execution_count": 15,
   "metadata": {},
   "outputs": [
    {
     "name": "stdout",
     "output_type": "stream",
     "text": [
      "GI: 6552299\n",
      "Accession: NP_009225.1\n",
      "Description breast cancer type 1 susceptibility protein isoform 1 [Homo sapiens]\n",
      "GI: 237681125\n",
      "Accession: NP_009230.2\n",
      "Description breast cancer type 1 susceptibility protein isoform 5 [Homo sapiens]\n",
      "GI: 237681123\n",
      "Accession: NP_009229.2\n",
      "Description breast cancer type 1 susceptibility protein isoform 4 [Homo sapiens]\n",
      "GI: 237681121\n",
      "Accession: NP_009228.2\n",
      "Description breast cancer type 1 susceptibility protein isoform 3 [Homo sapiens]\n",
      "GI: 237681119\n",
      "Accession: NP_009231.2\n",
      "Description breast cancer type 1 susceptibility protein isoform 2 [Homo sapiens]\n"
     ]
    }
   ],
   "source": [
    "# use Esearch history\n",
    "handle = Entrez.esearch(\n",
    "    db='protein',\n",
    "    term = '\"Homo sapiens\"[Organism] AND BRCA1[Gene Name] AND REFSEQ',\n",
    "    usehistory='y'\n",
    ")\n",
    "result = Entrez.read(handle)\n",
    "handle.close()\n",
    "\n",
    "id_list = ','.join(result['IdList'])\n",
    "handle = Entrez.efetch(\n",
    "    db='protein',\n",
    "    id=id_list,\n",
    "    rettype='gb'\n",
    ")\n",
    "for gi,r in zip(result['IdList'], SeqIO.parse(handle, 'genbank')):\n",
    "    print('GI:', gi)\n",
    "    print('Accession:', r.id)\n",
    "    print('Description', r.description)\n",
    "    print()\n",
    "\n",
    "# now blast for the results and save to file\n",
    "\n",
    "    file = f'blastp-np-{gi}.xml'\n",
    "\n",
    "    result_handle = NCBIWWW.qblast(\n",
    "        'blastp',\n",
    "        'refseq_protein',\n",
    "        gi,\n",
    "        expect=1e-5, # filter \n",
    "        entrez_query='\"Mus musculus\"[Organism]'\n",
    "    )\n",
    "    blast_results = result_handle.read()\n",
    "    result_handle.close()\n",
    "\n",
    "    save_file = open(file, 'w')\n",
    "    save_file.write(blast_results)"
   ]
  },
  {
   "cell_type": "code",
   "execution_count": null,
   "metadata": {},
   "outputs": [],
   "source": []
  },
  {
   "cell_type": "code",
   "execution_count": null,
   "metadata": {},
   "outputs": [],
   "source": []
  },
  {
   "cell_type": "code",
   "execution_count": null,
   "metadata": {},
   "outputs": [],
   "source": []
  },
  {
   "cell_type": "code",
   "execution_count": null,
   "metadata": {},
   "outputs": [],
   "source": []
  },
  {
   "cell_type": "code",
   "execution_count": null,
   "metadata": {},
   "outputs": [],
   "source": []
  },
  {
   "cell_type": "code",
   "execution_count": null,
   "metadata": {},
   "outputs": [],
   "source": [
    "# need to get a genbank record"
   ]
  },
  {
   "cell_type": "code",
   "execution_count": 1,
   "metadata": {},
   "outputs": [],
   "source": [
    "import os.path\n",
    "from Bio import Entrez, SeqIO\n",
    "from Bio.Blast import NCBIWWW\n",
    "from Bio.GenBank.Record import Record\n",
    "\n",
    "Entrez.email = 'michael.chambers2@nih.gov'"
   ]
  },
  {
   "cell_type": "code",
   "execution_count": 23,
   "metadata": {},
   "outputs": [
    {
     "name": "stdout",
     "output_type": "stream",
     "text": [
      "<class 'Bio.SeqRecord.SeqRecord'>\n",
      "<class 'Bio.SeqRecord.SeqRecord'>\n",
      "<class 'Bio.SeqRecord.SeqRecord'>\n",
      "<class 'Bio.SeqRecord.SeqRecord'>\n",
      "<class 'Bio.SeqRecord.SeqRecord'>\n"
     ]
    }
   ],
   "source": [
    "handle = Entrez.esearch(db=\"protein\", term='\"Homo sapiens\"[Orgn] AND BRCA1[Gene Name] AND REFSEQ', usehistory=\"y\")\n",
    "\n",
    "result = Entrez.read(handle)\n",
    "handle.close()\n",
    "count = int(result[\"Count\"])\n",
    "session_cookie = result[\"WebEnv\"]\n",
    "query_key = result[\"QueryKey\"]\n",
    "\n",
    "#print(count, session_cookie, query_key)\n",
    "\n",
    "# Get the results in chunks of 100\n",
    "chunk_size = 100\n",
    "\n",
    "query_dict = {}\n",
    "\n",
    "#print(\"Search Protein DB\")\n",
    "for chunk_start in range(0,count,chunk_size) :\n",
    "    handle = Entrez.efetch(db=\"protein\", rettype=\"gb\", retstart=chunk_start, retmax=chunk_size, webenv=session_cookie, query_key=query_key)\n",
    "    for r in SeqIO.parse(handle,\"genbank\"):\n",
    "        print(type(r))\n",
    "\n",
    "        \n",
    "        query_dict[r.id] = r.seq\n",
    "    handle.close()"
   ]
  },
  {
   "cell_type": "code",
   "execution_count": 2,
   "metadata": {},
   "outputs": [
    {
     "data": {
      "text/plain": [
       "{'NP_009225.1': Seq('MDLSALRVEEVQNVINAMQKILECPICLELIKEPVSTKCDHIFCKFCMLKLLNQ...SHY', IUPACProtein()),\n",
       " 'NP_009230.2': Seq('MDLSALRVEEVQNVINAMQKILECPICLELIKEPVSTKCDHIFCKFCMLKLLNQ...ADV', IUPACProtein()),\n",
       " 'NP_009229.2': Seq('MDLSALRVEEVQNVINAMQKILECPICLELIKEPVSTKCDHIFCKFCMLKLLNQ...SHY', IUPACProtein()),\n",
       " 'NP_009228.2': Seq('MLKLLNQKKGPSQCPLCKNDITKRSLQESTRFSQLVEELLKIICAFQLDTGLEY...SHY', IUPACProtein()),\n",
       " 'NP_009231.2': Seq('MDLSALRVEEVQNVINAMQKILECPICLELIKEPVSTKCDHIFCKFCMLKLLNQ...SHY', IUPACProtein())}"
      ]
     },
     "execution_count": 2,
     "metadata": {},
     "output_type": "execute_result"
    }
   ],
   "source": [
    "query_dict"
   ]
  },
  {
   "cell_type": "code",
   "execution_count": 29,
   "metadata": {},
   "outputs": [
    {
     "name": "stdout",
     "output_type": "stream",
     "text": [
      "np\n",
      "009225.1\n"
     ]
    },
    {
     "ename": "AttributeError",
     "evalue": "'_io.StringIO' object has no attribute 'colse'",
     "output_type": "error",
     "traceback": [
      "\u001b[0;31m---------------------------------------------------------------------------\u001b[0m",
      "\u001b[0;31mAttributeError\u001b[0m                            Traceback (most recent call last)",
      "\u001b[0;32m<ipython-input-29-7ea3fb4d9813>\u001b[0m in \u001b[0;36m<module>\u001b[0;34m\u001b[0m\n\u001b[1;32m      8\u001b[0m         \u001b[0mresult_handle\u001b[0m \u001b[0;34m=\u001b[0m \u001b[0mNCBIWWW\u001b[0m\u001b[0;34m.\u001b[0m\u001b[0mqblast\u001b[0m\u001b[0;34m(\u001b[0m\u001b[0;34m\"blastp\"\u001b[0m\u001b[0;34m,\u001b[0m \u001b[0mprefix\u001b[0m\u001b[0;34m.\u001b[0m\u001b[0mlower\u001b[0m\u001b[0;34m(\u001b[0m\u001b[0;34m)\u001b[0m\u001b[0;34m,\u001b[0m \u001b[0mval\u001b[0m\u001b[0;34m)\u001b[0m\u001b[0;34m\u001b[0m\u001b[0;34m\u001b[0m\u001b[0m\n\u001b[1;32m      9\u001b[0m         \u001b[0mblast_results\u001b[0m \u001b[0;34m=\u001b[0m \u001b[0mresult_handle\u001b[0m\u001b[0;34m.\u001b[0m\u001b[0mread\u001b[0m\u001b[0;34m(\u001b[0m\u001b[0;34m)\u001b[0m\u001b[0;34m\u001b[0m\u001b[0;34m\u001b[0m\u001b[0m\n\u001b[0;32m---> 10\u001b[0;31m         \u001b[0mresult_handle\u001b[0m\u001b[0;34m.\u001b[0m\u001b[0mcolse\u001b[0m\u001b[0;34m(\u001b[0m\u001b[0;34m)\u001b[0m\u001b[0;34m\u001b[0m\u001b[0;34m\u001b[0m\u001b[0m\n\u001b[0m\u001b[1;32m     11\u001b[0m \u001b[0;34m\u001b[0m\u001b[0m\n\u001b[1;32m     12\u001b[0m         \u001b[0msave_file\u001b[0m \u001b[0;34m=\u001b[0m \u001b[0mopen\u001b[0m\u001b[0;34m(\u001b[0m\u001b[0mfile_name\u001b[0m\u001b[0;34m,\u001b[0m \u001b[0;34m'w'\u001b[0m\u001b[0;34m)\u001b[0m\u001b[0;34m\u001b[0m\u001b[0;34m\u001b[0m\u001b[0m\n",
      "\u001b[0;31mAttributeError\u001b[0m: '_io.StringIO' object has no attribute 'colse'"
     ]
    }
   ],
   "source": [
    "# search blast\n",
    "for key,val in query_dict.items():\n",
    "    prefix, suffix = key.split('_')\n",
    "    print(prefix.lower())\n",
    "    print(suffix)\n",
    "    file_name = f'blastp-{prefix.lower()}-{suffix}.xml'\n",
    "    #if not os.path.exists(file_name):\n",
    "    result_handle = NCBIWWW.qblast(\"blastp\", prefix.lower(), val)\n",
    "    blast_results = result_handle.read()\n",
    "    result_handle.close()\n",
    "\n",
    "    save_file = open(file_name, 'w')\n",
    "    save_file.write(blast_results)\n",
    "    save_file.close()\n",
    "    "
   ]
  },
  {
   "cell_type": "code",
   "execution_count": null,
   "metadata": {},
   "outputs": [
    {
     "name": "stdout",
     "output_type": "stream",
     "text": [
      "np\n",
      "009225.1\n"
     ]
    }
   ],
   "source": [
    "#for key,val in query_dict.items():\n",
    "key = \"NP_009225.1\"\n",
    "val = \"MDLSALRVEEVQNVINAMQKILECPICLELIKEPVSTKCDHIFCKFCMLKLLNQKKGPSQCPLCKNDITKRSLQESTRFSQLVEELLKIICAFQLDTGLEYANSYNFAKKENNSPEHLKDEVSIIQSMGYRNRAKRLLQSEPENPSLQETSLSVQLSNLGTVRTLRTKQRIQPQKTSVYIELGSDSSEDTVNKATYCSVGDQELLQITPQGTRDEISLDSAKKAACEFSETDVTNTEHHQPSNNDLNTTEKRAAERHPEKYQGSSVSNLHVEPCGTNTHASSLQHENSSLLLTKDRMNVEKAEFCNKSKQPGLARSQHNRWAGSKETCNDRRTPSTEKKVDLNADPLCERKEWNKQKLPCSENPRDTEDVPWITLNSSIQKVNEWFSRSDELLGSDDSHDGESESNAKVADVLDVLNEVDEYSGSSEKIDLLASDPHEALICKSERVHSKSVESNIEDKIFGKTYRKKASLPNLSHVTENLIIGAFVTEPQIIQERPLTNKLKRKRRPTSGLHPEDFIKKADLAVQKTPEMINQGTNQTEQNGQVMNITNSGHENKTKGDSIQNEKNPNPIESLEKESAFKTKAEPISSSISNMELELNIHNSKAPKKNRLRRKSSTRHIHALELVVSRNLSPPNCTELQIDSCSSSEEIKKKKYNQMPVRHSRNLQLMEGKEPATGAKKSNKPNEQTSKRHDSDTFPELKLTNAPGSFTKCSNTSELKEFVNPSLPREEKEEKLETVKVSNNAEDPKDLMLSGERVLQTERSVESSSISLVPGTDYGTQESISLLEVSTLGKAKTEPNKCVSQCAAFENPKGLIHGCSKDNRNDTEGFKYPLGHEVNHSRETSIEMEESELDAQYLQNTFKVSKRQSFAPFSNPGNAEEECATFSAHSGSLKKQSPKVTFECEQKEENQGKNESNIKPVQTVNITAGFPVVGQKDKPVDNAKCSIKGGSRFCLSSQFRGNETGLITPNKHGLLQNPYRIPPLFPIKSFVKTKCKKNLLEENFEEHSMSPEREMGNENIPSTVSTISRNNIRENVFKEASSSNINEVGSSTNEVGSSINEIGSSDENIQAELGRNRGPKLNAMLRLGVLQPEVYKQSLPGSNCKHPEIKKQEYEEVVQTVNTDFSPYLISDNLEQPMGSSHASQVCSETPDDLLDDGEIKEDTSFAENDIKESSAVFSKSVQKGELSRSPSPFTHTHLAQGYRRGAKKLESSEENLSSEDEELPCFQHLLFGKVNNIPSQSTRHSTVATECLSKNTEENLLSLKNSLNDCSNQVILAKASQEHHLSEETKCSASLFSSQCSELEDLTANTNTQDPFLIGSSKQMRHQSESQGVGLSDKELVSDDEERGTGLEENNQEEQSMDSNLGEAASGCESETSVSEDCSGLSSQSDILTTQQRDTMQHNLIKLQQEMAELEAVLEQHGSQPSNSYPSIISDSSALEDLRNPEQSTSEKAVLTSQKSSEYPISQNPEGLSADKFEVSADSSTSKNKEPGVERSSPSKCPSLDDRWYMHSCSGSLQNRNYPSQEELIKVVDVEEQQLEESGPHDLTETSYLPRQDLEGTPYLESGISLFSDDPESDPSEDRAPESARVGNIPSSTSALKVPQLKVAESAQSPAAAHTTDTAGYNAMEESVSREKPELTASTERVNKRMSMVVSGLTPEEFMLVYKFARKHHITLTNLITEETTHVVMKTDAEFVCERTLKYFLGIAGGKWVVSYFWVTQSIKERKMLNEHDFEVRGDVVNGRNHQGPKRARESQDRKIFRGLEICCYGPFTNMPTDQLEWMVQLCGASVVKELSSFTLGTGVHPIVVVQPDAWTEDNGFHAIGQMCEAPVVTREWVLDSVALYQCQELDTYLIPQIPHSHY\"\n",
    "    \n",
    "prefix, suffix = key.split('_')\n",
    "print(prefix.lower())\n",
    "print(suffix)\n",
    "file_name = f'blastp-{prefix.lower()}-{suffix}.xml'\n",
    "\n",
    "result_handle = NCBIWWW.qblast(\n",
    "    \"blastp\", \n",
    "    \"np\", \n",
    "    val, # this can also be a seq object\n",
    "    entrez_query='\"Mus musculus\"[Organism]'\n",
    ")\n",
    "blast_results = result_handle.read()\n",
    "result_handle.close()\n",
    "\n",
    "save_file = open(file_name, 'w')\n",
    "save_file.write(blast_results)\n",
    "save_file.close()"
   ]
  },
  {
   "cell_type": "code",
   "execution_count": 36,
   "metadata": {},
   "outputs": [
    {
     "name": "stdout",
     "output_type": "stream",
     "text": [
      "nr\n",
      "8332116\n",
      "blastp-nr-8332116.xml\n"
     ]
    }
   ],
   "source": [
    "import os.path\n",
    "from Bio.Blast import NCBIWWW\n",
    "\n",
    "key = \"NR_8332116\"\n",
    "prefix, suffix = key.split('_')\n",
    "print(prefix.lower())\n",
    "print(suffix)\n",
    "\n",
    "file_name = f'blastp-{prefix.lower()}-{suffix}.xml'\n",
    "print(file_name)\n",
    "if not os.path.exists(file_name):\n",
    "    result_handle = NCBIWWW.qblast(\"blastn\", prefix.lower(), suffix)\n",
    "    blast_results = result_handle.read()\n",
    "    result_handle.close()\n",
    "\n",
    "    save_file = open(file_name, 'w')\n",
    "    save_file.write(blast_results)\n",
    "    save_file.close()"
   ]
  },
  {
   "cell_type": "code",
   "execution_count": 4,
   "metadata": {},
   "outputs": [
    {
     "data": {
      "text/plain": [
       "\u001b[0;31mSignature:\u001b[0m\n",
       "\u001b[0mNCBIWWW\u001b[0m\u001b[0;34m.\u001b[0m\u001b[0mqblast\u001b[0m\u001b[0;34m(\u001b[0m\u001b[0;34m\u001b[0m\n",
       "\u001b[0;34m\u001b[0m    \u001b[0mprogram\u001b[0m\u001b[0;34m,\u001b[0m\u001b[0;34m\u001b[0m\n",
       "\u001b[0;34m\u001b[0m    \u001b[0mdatabase\u001b[0m\u001b[0;34m,\u001b[0m\u001b[0;34m\u001b[0m\n",
       "\u001b[0;34m\u001b[0m    \u001b[0msequence\u001b[0m\u001b[0;34m,\u001b[0m\u001b[0;34m\u001b[0m\n",
       "\u001b[0;34m\u001b[0m    \u001b[0murl_base\u001b[0m\u001b[0;34m=\u001b[0m\u001b[0;34m'https://blast.ncbi.nlm.nih.gov/Blast.cgi'\u001b[0m\u001b[0;34m,\u001b[0m\u001b[0;34m\u001b[0m\n",
       "\u001b[0;34m\u001b[0m    \u001b[0mauto_format\u001b[0m\u001b[0;34m=\u001b[0m\u001b[0;32mNone\u001b[0m\u001b[0;34m,\u001b[0m\u001b[0;34m\u001b[0m\n",
       "\u001b[0;34m\u001b[0m    \u001b[0mcomposition_based_statistics\u001b[0m\u001b[0;34m=\u001b[0m\u001b[0;32mNone\u001b[0m\u001b[0;34m,\u001b[0m\u001b[0;34m\u001b[0m\n",
       "\u001b[0;34m\u001b[0m    \u001b[0mdb_genetic_code\u001b[0m\u001b[0;34m=\u001b[0m\u001b[0;32mNone\u001b[0m\u001b[0;34m,\u001b[0m\u001b[0;34m\u001b[0m\n",
       "\u001b[0;34m\u001b[0m    \u001b[0mendpoints\u001b[0m\u001b[0;34m=\u001b[0m\u001b[0;32mNone\u001b[0m\u001b[0;34m,\u001b[0m\u001b[0;34m\u001b[0m\n",
       "\u001b[0;34m\u001b[0m    \u001b[0mentrez_query\u001b[0m\u001b[0;34m=\u001b[0m\u001b[0;34m'(none)'\u001b[0m\u001b[0;34m,\u001b[0m\u001b[0;34m\u001b[0m\n",
       "\u001b[0;34m\u001b[0m    \u001b[0mexpect\u001b[0m\u001b[0;34m=\u001b[0m\u001b[0;36m10.0\u001b[0m\u001b[0;34m,\u001b[0m\u001b[0;34m\u001b[0m\n",
       "\u001b[0;34m\u001b[0m    \u001b[0mfilter\u001b[0m\u001b[0;34m=\u001b[0m\u001b[0;32mNone\u001b[0m\u001b[0;34m,\u001b[0m\u001b[0;34m\u001b[0m\n",
       "\u001b[0;34m\u001b[0m    \u001b[0mgapcosts\u001b[0m\u001b[0;34m=\u001b[0m\u001b[0;32mNone\u001b[0m\u001b[0;34m,\u001b[0m\u001b[0;34m\u001b[0m\n",
       "\u001b[0;34m\u001b[0m    \u001b[0mgenetic_code\u001b[0m\u001b[0;34m=\u001b[0m\u001b[0;32mNone\u001b[0m\u001b[0;34m,\u001b[0m\u001b[0;34m\u001b[0m\n",
       "\u001b[0;34m\u001b[0m    \u001b[0mhitlist_size\u001b[0m\u001b[0;34m=\u001b[0m\u001b[0;36m50\u001b[0m\u001b[0;34m,\u001b[0m\u001b[0;34m\u001b[0m\n",
       "\u001b[0;34m\u001b[0m    \u001b[0mi_thresh\u001b[0m\u001b[0;34m=\u001b[0m\u001b[0;32mNone\u001b[0m\u001b[0;34m,\u001b[0m\u001b[0;34m\u001b[0m\n",
       "\u001b[0;34m\u001b[0m    \u001b[0mlayout\u001b[0m\u001b[0;34m=\u001b[0m\u001b[0;32mNone\u001b[0m\u001b[0;34m,\u001b[0m\u001b[0;34m\u001b[0m\n",
       "\u001b[0;34m\u001b[0m    \u001b[0mlcase_mask\u001b[0m\u001b[0;34m=\u001b[0m\u001b[0;32mNone\u001b[0m\u001b[0;34m,\u001b[0m\u001b[0;34m\u001b[0m\n",
       "\u001b[0;34m\u001b[0m    \u001b[0mmatrix_name\u001b[0m\u001b[0;34m=\u001b[0m\u001b[0;32mNone\u001b[0m\u001b[0;34m,\u001b[0m\u001b[0;34m\u001b[0m\n",
       "\u001b[0;34m\u001b[0m    \u001b[0mnucl_penalty\u001b[0m\u001b[0;34m=\u001b[0m\u001b[0;32mNone\u001b[0m\u001b[0;34m,\u001b[0m\u001b[0;34m\u001b[0m\n",
       "\u001b[0;34m\u001b[0m    \u001b[0mnucl_reward\u001b[0m\u001b[0;34m=\u001b[0m\u001b[0;32mNone\u001b[0m\u001b[0;34m,\u001b[0m\u001b[0;34m\u001b[0m\n",
       "\u001b[0;34m\u001b[0m    \u001b[0mother_advanced\u001b[0m\u001b[0;34m=\u001b[0m\u001b[0;32mNone\u001b[0m\u001b[0;34m,\u001b[0m\u001b[0;34m\u001b[0m\n",
       "\u001b[0;34m\u001b[0m    \u001b[0mperc_ident\u001b[0m\u001b[0;34m=\u001b[0m\u001b[0;32mNone\u001b[0m\u001b[0;34m,\u001b[0m\u001b[0;34m\u001b[0m\n",
       "\u001b[0;34m\u001b[0m    \u001b[0mphi_pattern\u001b[0m\u001b[0;34m=\u001b[0m\u001b[0;32mNone\u001b[0m\u001b[0;34m,\u001b[0m\u001b[0;34m\u001b[0m\n",
       "\u001b[0;34m\u001b[0m    \u001b[0mquery_file\u001b[0m\u001b[0;34m=\u001b[0m\u001b[0;32mNone\u001b[0m\u001b[0;34m,\u001b[0m\u001b[0;34m\u001b[0m\n",
       "\u001b[0;34m\u001b[0m    \u001b[0mquery_believe_defline\u001b[0m\u001b[0;34m=\u001b[0m\u001b[0;32mNone\u001b[0m\u001b[0;34m,\u001b[0m\u001b[0;34m\u001b[0m\n",
       "\u001b[0;34m\u001b[0m    \u001b[0mquery_from\u001b[0m\u001b[0;34m=\u001b[0m\u001b[0;32mNone\u001b[0m\u001b[0;34m,\u001b[0m\u001b[0;34m\u001b[0m\n",
       "\u001b[0;34m\u001b[0m    \u001b[0mquery_to\u001b[0m\u001b[0;34m=\u001b[0m\u001b[0;32mNone\u001b[0m\u001b[0;34m,\u001b[0m\u001b[0;34m\u001b[0m\n",
       "\u001b[0;34m\u001b[0m    \u001b[0msearchsp_eff\u001b[0m\u001b[0;34m=\u001b[0m\u001b[0;32mNone\u001b[0m\u001b[0;34m,\u001b[0m\u001b[0;34m\u001b[0m\n",
       "\u001b[0;34m\u001b[0m    \u001b[0mservice\u001b[0m\u001b[0;34m=\u001b[0m\u001b[0;32mNone\u001b[0m\u001b[0;34m,\u001b[0m\u001b[0;34m\u001b[0m\n",
       "\u001b[0;34m\u001b[0m    \u001b[0mthreshold\u001b[0m\u001b[0;34m=\u001b[0m\u001b[0;32mNone\u001b[0m\u001b[0;34m,\u001b[0m\u001b[0;34m\u001b[0m\n",
       "\u001b[0;34m\u001b[0m    \u001b[0mungapped_alignment\u001b[0m\u001b[0;34m=\u001b[0m\u001b[0;32mNone\u001b[0m\u001b[0;34m,\u001b[0m\u001b[0;34m\u001b[0m\n",
       "\u001b[0;34m\u001b[0m    \u001b[0mword_size\u001b[0m\u001b[0;34m=\u001b[0m\u001b[0;32mNone\u001b[0m\u001b[0;34m,\u001b[0m\u001b[0;34m\u001b[0m\n",
       "\u001b[0;34m\u001b[0m    \u001b[0mshort_query\u001b[0m\u001b[0;34m=\u001b[0m\u001b[0;32mNone\u001b[0m\u001b[0;34m,\u001b[0m\u001b[0;34m\u001b[0m\n",
       "\u001b[0;34m\u001b[0m    \u001b[0malignments\u001b[0m\u001b[0;34m=\u001b[0m\u001b[0;36m500\u001b[0m\u001b[0;34m,\u001b[0m\u001b[0;34m\u001b[0m\n",
       "\u001b[0;34m\u001b[0m    \u001b[0malignment_view\u001b[0m\u001b[0;34m=\u001b[0m\u001b[0;32mNone\u001b[0m\u001b[0;34m,\u001b[0m\u001b[0;34m\u001b[0m\n",
       "\u001b[0;34m\u001b[0m    \u001b[0mdescriptions\u001b[0m\u001b[0;34m=\u001b[0m\u001b[0;36m500\u001b[0m\u001b[0;34m,\u001b[0m\u001b[0;34m\u001b[0m\n",
       "\u001b[0;34m\u001b[0m    \u001b[0mentrez_links_new_window\u001b[0m\u001b[0;34m=\u001b[0m\u001b[0;32mNone\u001b[0m\u001b[0;34m,\u001b[0m\u001b[0;34m\u001b[0m\n",
       "\u001b[0;34m\u001b[0m    \u001b[0mexpect_low\u001b[0m\u001b[0;34m=\u001b[0m\u001b[0;32mNone\u001b[0m\u001b[0;34m,\u001b[0m\u001b[0;34m\u001b[0m\n",
       "\u001b[0;34m\u001b[0m    \u001b[0mexpect_high\u001b[0m\u001b[0;34m=\u001b[0m\u001b[0;32mNone\u001b[0m\u001b[0;34m,\u001b[0m\u001b[0;34m\u001b[0m\n",
       "\u001b[0;34m\u001b[0m    \u001b[0mformat_entrez_query\u001b[0m\u001b[0;34m=\u001b[0m\u001b[0;32mNone\u001b[0m\u001b[0;34m,\u001b[0m\u001b[0;34m\u001b[0m\n",
       "\u001b[0;34m\u001b[0m    \u001b[0mformat_object\u001b[0m\u001b[0;34m=\u001b[0m\u001b[0;32mNone\u001b[0m\u001b[0;34m,\u001b[0m\u001b[0;34m\u001b[0m\n",
       "\u001b[0;34m\u001b[0m    \u001b[0mformat_type\u001b[0m\u001b[0;34m=\u001b[0m\u001b[0;34m'XML'\u001b[0m\u001b[0;34m,\u001b[0m\u001b[0;34m\u001b[0m\n",
       "\u001b[0;34m\u001b[0m    \u001b[0mncbi_gi\u001b[0m\u001b[0;34m=\u001b[0m\u001b[0;32mNone\u001b[0m\u001b[0;34m,\u001b[0m\u001b[0;34m\u001b[0m\n",
       "\u001b[0;34m\u001b[0m    \u001b[0mresults_file\u001b[0m\u001b[0;34m=\u001b[0m\u001b[0;32mNone\u001b[0m\u001b[0;34m,\u001b[0m\u001b[0;34m\u001b[0m\n",
       "\u001b[0;34m\u001b[0m    \u001b[0mshow_overview\u001b[0m\u001b[0;34m=\u001b[0m\u001b[0;32mNone\u001b[0m\u001b[0;34m,\u001b[0m\u001b[0;34m\u001b[0m\n",
       "\u001b[0;34m\u001b[0m    \u001b[0mmegablast\u001b[0m\u001b[0;34m=\u001b[0m\u001b[0;32mNone\u001b[0m\u001b[0;34m,\u001b[0m\u001b[0;34m\u001b[0m\n",
       "\u001b[0;34m\u001b[0m    \u001b[0mtemplate_type\u001b[0m\u001b[0;34m=\u001b[0m\u001b[0;32mNone\u001b[0m\u001b[0;34m,\u001b[0m\u001b[0;34m\u001b[0m\n",
       "\u001b[0;34m\u001b[0m    \u001b[0mtemplate_length\u001b[0m\u001b[0;34m=\u001b[0m\u001b[0;32mNone\u001b[0m\u001b[0;34m,\u001b[0m\u001b[0;34m\u001b[0m\n",
       "\u001b[0;34m\u001b[0m\u001b[0;34m)\u001b[0m\u001b[0;34m\u001b[0m\u001b[0;34m\u001b[0m\u001b[0m\n",
       "\u001b[0;31mDocstring:\u001b[0m\n",
       "BLAST search using NCBI's QBLAST server or a cloud service provider.\n",
       "\n",
       "Supports all parameters of the old qblast API for Put and Get.\n",
       "\n",
       "Please note that NCBI uses the new Common URL API for BLAST searches\n",
       "on the internet (http://ncbi.github.io/blast-cloud/dev/api.html). Thus,\n",
       "some of the parameters used by this function are not (or are no longer)\n",
       "officially supported by NCBI. Although they are still functioning, this\n",
       "may change in the future.\n",
       "\n",
       "The Common URL API (http://ncbi.github.io/blast-cloud/dev/api.html) allows\n",
       "doing BLAST searches on cloud servers. To use this feature, please set\n",
       "``url_base='http://host.my.cloud.service.provider.com/cgi-bin/blast.cgi'``\n",
       "and ``format_object='Alignment'``. For more details, please see\n",
       "https://blast.ncbi.nlm.nih.gov/Blast.cgi?PAGE_TYPE=BlastDocs&DOC_TYPE=CloudBlast\n",
       "\n",
       "Some useful parameters:\n",
       "\n",
       " - program        blastn, blastp, blastx, tblastn, or tblastx (lower case)\n",
       " - database       Which database to search against (e.g. \"nr\").\n",
       " - sequence       The sequence to search.\n",
       " - ncbi_gi        TRUE/FALSE whether to give 'gi' identifier.\n",
       " - descriptions   Number of descriptions to show.  Def 500.\n",
       " - alignments     Number of alignments to show.  Def 500.\n",
       " - expect         An expect value cutoff.  Def 10.0.\n",
       " - matrix_name    Specify an alt. matrix (PAM30, PAM70, BLOSUM80, BLOSUM45).\n",
       " - filter         \"none\" turns off filtering.  Default no filtering\n",
       " - format_type    \"HTML\", \"Text\", \"ASN.1\", or \"XML\".  Def. \"XML\".\n",
       " - entrez_query   Entrez query to limit Blast search\n",
       " - hitlist_size   Number of hits to return. Default 50\n",
       " - megablast      TRUE/FALSE whether to use MEga BLAST algorithm (blastn only)\n",
       " - short_query    TRUE/FALSE whether to adjust the search parameters for a\n",
       "                  short query sequence. Note that this will override\n",
       "                  manually set parameters like word size and e value. Turns\n",
       "                  off when sequence length is > 30 residues. Default: None.\n",
       " - service        plain, psi, phi, rpsblast, megablast (lower case)\n",
       "\n",
       "This function does no checking of the validity of the parameters\n",
       "and passes the values to the server as is.  More help is available at:\n",
       "https://ncbi.github.io/blast-cloud/dev/api.html\n",
       "\u001b[0;31mFile:\u001b[0m      /usr/local/anaconda3/envs/524_env/lib/python3.7/site-packages/Bio/Blast/NCBIWWW.py\n",
       "\u001b[0;31mType:\u001b[0m      function\n"
      ]
     },
     "metadata": {},
     "output_type": "display_data"
    }
   ],
   "source": [
    "NCBIWWW.qblast?"
   ]
  },
  {
   "cell_type": "code",
   "execution_count": 5,
   "metadata": {},
   "outputs": [
    {
     "data": {
      "text/plain": [
       "1e-05"
      ]
     },
     "execution_count": 5,
     "metadata": {},
     "output_type": "execute_result"
    }
   ],
   "source": [
    "1e-5"
   ]
  },
  {
   "cell_type": "code",
   "execution_count": null,
   "metadata": {},
   "outputs": [],
   "source": []
  }
 ],
 "metadata": {
  "kernelspec": {
   "display_name": "524_env",
   "language": "python",
   "name": "524_env"
  },
  "language_info": {
   "codemirror_mode": {
    "name": "ipython",
    "version": 3
   },
   "file_extension": ".py",
   "mimetype": "text/x-python",
   "name": "python",
   "nbconvert_exporter": "python",
   "pygments_lexer": "ipython3",
   "version": "3.7.3"
  }
 },
 "nbformat": 4,
 "nbformat_minor": 4
}
