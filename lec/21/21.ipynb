{
 "cells": [
  {
   "cell_type": "markdown",
   "metadata": {},
   "source": [
    "# Putative Human – Mouse BRCA1 Orthologs  \n",
    "Write a program using NCBI's E-Utilities to retrieve the ids of RefSeq human BRCA1 proteins from NCBI. \n",
    "* Use the query: \"Homo sapiens\"[Organism] AND BRCA1[Gene Name] AND REFSEQ\n",
    "* Extend your program to search these protein ids (one at a time) vs RefSeq proteins (refseq_protein) using the NCBI blast web-service.\n",
    "* Further extend your program to filter the results for significance (E-value < 1.0e-5) and to extract mouse sequences (match \"Mus musculus\" in the description).\u000b",
    "Note: you may need to \n",
    "* Request at least 200 alignments from qblast to see the first mouse protein (keyword parameter hitlist_size, default is 50), or __Restrict the qblast search to mouse refseq proteins (keyword parameter entrez_query)__\n",
    "\n",
    "Need to use the [Biopython guide](http://biopython.org/DIST/docs/tutorial/Tutorial.html#htoc91)\n",
    "\n",
    "Questions\n",
    "* extend to refseq: search both gb and refseq? or search genes then proteins all in refseq?"
   ]
  },
  {
   "cell_type": "code",
   "execution_count": 6,
   "metadata": {},
   "outputs": [],
   "source": [
    "from Bio import Entrez, SeqIO\n",
    "from Bio.Blast import NCBIWWW, NCBIXML\n",
    "import os.path\n",
    "\n",
    "Entrez.email = 'michael.chambers2@nih.gov'\n",
    "\n",
    "handle = Entrez.esearch(\n",
    "    db='protein',\n",
    "    term = '\"Homo sapiens\"[Organism] AND BRCA1[Gene Name] AND REFSEQ',\n",
    "    usehistory='y'    \n",
    ")\n",
    "\n",
    "result = Entrez.read(handle)\n",
    "handle.close()\n",
    "\n",
    "id_list = ','.join(result['IdList'])\n",
    "handle = Entrez.efetch(\n",
    "    db='protein',\n",
    "    id=id_list,\n",
    "    rettype='gb'\n",
    ")\n",
    "\n",
    "for gi,r in zip(result['IdList'], SeqIO.parse(handle, 'genbank')):\n",
    "    print(f'\\n*** START: {gi} ***\\n')\n",
    "    print('GI:', gi)\n",
    "    print('Accession:', r.id)\n",
    "    print('Description:', r.description)\n",
    "\n",
    "    print(f\"\\nBLAST for GI {gi}...\\n\")\n",
    "    result_handle = NCBIWWW.qblast(\n",
    "        'blastp',\n",
    "        'refseq_protein',\n",
    "        gi,\n",
    "        expect=1e-5,\n",
    "        entrez_query='\"Mus musculus\"[Organism]'\n",
    "    )\n",
    "    \n",
    "    #blast_results = result_handle.read()\n",
    "    #result_handle.close()\n",
    "    \n",
    "    # parse the file (was 38)\n",
    "    for blast_result in NCBIXML.parse(result_handle):\n",
    "        for desc in blast_result.descriptions:\n",
    "            print('***Alignment***')\n",
    "            print('Sequence:',desc.title)\n",
    "            print('Evalue:', desc.e)\n",
    "            print()\n",
    "    \n",
    "    file = f'blastp-np-{gi}.xml'    \n",
    "    save_file = open(file, 'w')\n",
    "    save_file.write(result_handle.read())\n",
    "    result_handle.close()\n",
    "    print(f'*** END {gi} ***')"
   ]
  },
  {
   "cell_type": "code",
   "execution_count": null,
   "metadata": {},
   "outputs": [],
   "source": []
  },
  {
   "cell_type": "code",
   "execution_count": null,
   "metadata": {},
   "outputs": [],
   "source": []
  },
  {
   "cell_type": "code",
   "execution_count": null,
   "metadata": {},
   "outputs": [],
   "source": []
  },
  {
   "cell_type": "code",
   "execution_count": null,
   "metadata": {},
   "outputs": [],
   "source": []
  }
 ],
 "metadata": {
  "kernelspec": {
   "display_name": "524_env",
   "language": "python",
   "name": "524_env"
  },
  "language_info": {
   "codemirror_mode": {
    "name": "ipython",
    "version": 3
   },
   "file_extension": ".py",
   "mimetype": "text/x-python",
   "name": "python",
   "nbconvert_exporter": "python",
   "pygments_lexer": "ipython3",
   "version": "3.7.3"
  }
 },
 "nbformat": 4,
 "nbformat_minor": 4
}
