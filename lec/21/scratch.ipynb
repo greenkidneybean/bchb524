{
 "cells": [
  {
   "cell_type": "markdown",
   "metadata": {},
   "source": [
    "# E-utilities = api for Entrez (NCBI web portal)\n",
    "\n",
    "E-utilities:\n",
    "- E-info: database names and fields\n",
    "- E-search: search particular database, returns primary ids\n",
    "- E-fetch: download database entries by primary ids\n",
    "- E-link\n",
    "- E-post\n",
    "- E-summary\n",
    "- E-GQuery"
   ]
  },
  {
   "cell_type": "code",
   "execution_count": 76,
   "metadata": {},
   "outputs": [],
   "source": [
    "from Bio import Entrez, SeqIO\n",
    "from Bio.Blast import NCBIWWW, NCBIXML\n",
    "import os.path"
   ]
  },
  {
   "cell_type": "code",
   "execution_count": 77,
   "metadata": {},
   "outputs": [],
   "source": [
    "Entrez.email = 'michael.chambers2@nih.gov'"
   ]
  },
  {
   "cell_type": "code",
   "execution_count": 78,
   "metadata": {},
   "outputs": [
    {
     "name": "stdout",
     "output_type": "stream",
     "text": [
      "pubmed\n",
      "protein\n",
      "nuccore\n",
      "ipg\n",
      "nucleotide\n",
      "structure\n",
      "sparcle\n",
      "genome\n",
      "annotinfo\n",
      "assembly\n",
      "bioproject\n",
      "biosample\n",
      "blastdbinfo\n",
      "books\n",
      "cdd\n",
      "clinvar\n",
      "gap\n",
      "gapplus\n",
      "grasp\n",
      "dbvar\n",
      "gene\n",
      "gds\n",
      "geoprofiles\n",
      "homologene\n",
      "medgen\n",
      "mesh\n",
      "ncbisearch\n",
      "nlmcatalog\n",
      "omim\n",
      "orgtrack\n",
      "pmc\n",
      "popset\n",
      "probe\n",
      "proteinclusters\n",
      "pcassay\n",
      "biosystems\n",
      "pccompound\n",
      "pcsubstance\n",
      "seqannot\n",
      "snp\n",
      "sra\n",
      "taxonomy\n",
      "biocollections\n",
      "gtr\n"
     ]
    }
   ],
   "source": [
    "# using E-info\n",
    "handle = Entrez.einfo()\n",
    "result = Entrez.read(handle)\n",
    "for i in result['DbList']:\n",
    "    print(i)"
   ]
  },
  {
   "cell_type": "code",
   "execution_count": 46,
   "metadata": {},
   "outputs": [],
   "source": [
    "handle = Entrez.einfo(db = 'pubmed', usehistory='y')\n",
    "result = Entrez.read(handle)"
   ]
  },
  {
   "cell_type": "code",
   "execution_count": null,
   "metadata": {},
   "outputs": [],
   "source": []
  },
  {
   "cell_type": "code",
   "execution_count": 47,
   "metadata": {},
   "outputs": [
    {
     "name": "stdout",
     "output_type": "stream",
     "text": [
      "DbName\n",
      "MenuName\n",
      "Description\n",
      "DbBuild\n",
      "Count\n",
      "LastUpdate\n",
      "FieldList\n",
      "LinkList\n"
     ]
    }
   ],
   "source": [
    "for i in result['DbInfo'].keys():\n",
    "    print(i)"
   ]
  },
  {
   "cell_type": "code",
   "execution_count": 79,
   "metadata": {},
   "outputs": [
    {
     "name": "stdout",
     "output_type": "stream",
     "text": [
      "Count\n",
      "RetMax\n",
      "RetStart\n",
      "IdList\n",
      "TranslationSet\n",
      "TranslationStack\n",
      "QueryTranslation\n"
     ]
    }
   ],
   "source": [
    "# E-search\n",
    "handle = Entrez.esearch(db='pubmed', term=\"BRCA1\")\n",
    "result = Entrez.read(handle)\n",
    "for i in result.keys(): print(i)\n"
   ]
  },
  {
   "cell_type": "code",
   "execution_count": 80,
   "metadata": {},
   "outputs": [
    {
     "data": {
      "text/plain": [
       "'16369'"
      ]
     },
     "execution_count": 80,
     "metadata": {},
     "output_type": "execute_result"
    }
   ],
   "source": [
    "result['Count']"
   ]
  },
  {
   "cell_type": "code",
   "execution_count": 81,
   "metadata": {},
   "outputs": [
    {
     "data": {
      "text/plain": [
       "['31729099', '31727767', '31727117', '31724318', '31723001', '31721094', '31719105', '31719101', '31717415', '31711518', '31706893', '31706282', '31706072', '31705765', '31705130', '31704974', '31701019', '31700994', '31700549', '31699802']"
      ]
     },
     "execution_count": 81,
     "metadata": {},
     "output_type": "execute_result"
    }
   ],
   "source": [
    "result['IdList']"
   ]
  },
  {
   "cell_type": "code",
   "execution_count": 102,
   "metadata": {},
   "outputs": [
    {
     "data": {
      "text/plain": [
       "['6552299', '237681125', '237681123', '237681121', '237681119']"
      ]
     },
     "execution_count": 102,
     "metadata": {},
     "output_type": "execute_result"
    }
   ],
   "source": [
    "handle = Entrez.esearch(\n",
    "    db='protein',\n",
    "    term = '\"Homo sapiens\"[Organism] AND BRCA1[Gene Name] AND REFSEQ'\n",
    ")\n",
    "result = Entrez.read(handle)\n",
    "result['IdList']"
   ]
  },
  {
   "cell_type": "code",
   "execution_count": 67,
   "metadata": {},
   "outputs": [],
   "source": [
    "# E-fetch\n",
    "handle = Entrez.efetch(\n",
    "    db='nucleotide',\n",
    "    id='186972394,187372713',\n",
    "    rettype='gb'\n",
    ")\n",
    "# prints out the GenBank files\n",
    "#print(handle.read())"
   ]
  },
  {
   "cell_type": "code",
   "execution_count": 82,
   "metadata": {},
   "outputs": [
    {
     "name": "stdout",
     "output_type": "stream",
     "text": [
      "NP_009225.1\n",
      "breast cancer type 1 susceptibility protein isoform 1 [Homo sapiens]\n",
      "NP_009230.2\n",
      "breast cancer type 1 susceptibility protein isoform 5 [Homo sapiens]\n",
      "NP_009229.2\n",
      "breast cancer type 1 susceptibility protein isoform 4 [Homo sapiens]\n",
      "NP_009228.2\n",
      "breast cancer type 1 susceptibility protein isoform 3 [Homo sapiens]\n",
      "NP_009231.2\n",
      "breast cancer type 1 susceptibility protein isoform 2 [Homo sapiens]\n"
     ]
    }
   ],
   "source": [
    "handle = Entrez.esearch(\n",
    "    db='protein',\n",
    "    term = '\"Homo sapiens\"[Organism] AND BRCA1[Gene Name] AND REFSEQ'\n",
    ")\n",
    "result = Entrez.read(handle)\n",
    "id_list = ','.join(result['IdList'])\n",
    "handle = Entrez.efetch(\n",
    "    db='protein',\n",
    "    id=id_list,\n",
    "    rettype='gb'\n",
    ")\n",
    "for r in SeqIO.parse(handle, 'genbank'):\n",
    "    print(r.id)\n",
    "    print(r.description)"
   ]
  },
  {
   "cell_type": "code",
   "execution_count": 83,
   "metadata": {},
   "outputs": [
    {
     "data": {
      "text/plain": [
       "'6552299,237681125,237681123,237681121,237681119'"
      ]
     },
     "execution_count": 83,
     "metadata": {},
     "output_type": "execute_result"
    }
   ],
   "source": [
    "id_list"
   ]
  },
  {
   "cell_type": "code",
   "execution_count": 84,
   "metadata": {},
   "outputs": [
    {
     "name": "stdout",
     "output_type": "stream",
     "text": [
      "5\n",
      "['6552299', '237681125', '237681123', '237681121', '237681119']\n"
     ]
    }
   ],
   "source": [
    "# use Esearch history\n",
    "handle = Entrez.esearch(\n",
    "    db='protein',\n",
    "    term = '\"Homo sapiens\"[Organism] AND BRCA1[Gene Name] AND REFSEQ',\n",
    "    usehistory='y'\n",
    ")\n",
    "result = Entrez.read(handle)\n",
    "handle.close()\n",
    "\n",
    "count = int(result['Count'])\n",
    "id_list = result['IdList']\n",
    "session_cookie = result['WebEnv']\n",
    "query_key = result['QueryKey']\n",
    "\n",
    "print(count)\n",
    "print(id_list)"
   ]
  },
  {
   "cell_type": "code",
   "execution_count": 85,
   "metadata": {},
   "outputs": [
    {
     "name": "stdout",
     "output_type": "stream",
     "text": [
      "NP_009225.1 breast cancer type 1 susceptibility protein isoform 1 [Homo sapiens]\n",
      "NP_009230.2 breast cancer type 1 susceptibility protein isoform 5 [Homo sapiens]\n",
      "NP_009229.2 breast cancer type 1 susceptibility protein isoform 4 [Homo sapiens]\n",
      "NP_009228.2 breast cancer type 1 susceptibility protein isoform 3 [Homo sapiens]\n",
      "NP_009231.2 breast cancer type 1 susceptibility protein isoform 2 [Homo sapiens]\n"
     ]
    }
   ],
   "source": [
    "# chunk results\n",
    "cnk_size = 100\n",
    "for cnk_start in range(0,count,cnk_size):\n",
    "    handle = Entrez.efetch(\n",
    "        db='protein',\n",
    "        rettype='gb',\n",
    "        retstart=cnk_start,\n",
    "        retmax=cnk_size,\n",
    "        webenv=session_cookie,\n",
    "        query_key=query_key\n",
    "    )\n",
    "    for r in SeqIO.parse(handle,'genbank'):\n",
    "        print(r.id, r.description)\n",
    "    handle.close()"
   ]
  },
  {
   "cell_type": "code",
   "execution_count": 100,
   "metadata": {},
   "outputs": [
    {
     "data": {
      "text/plain": [
       "27761"
      ]
     },
     "execution_count": 100,
     "metadata": {},
     "output_type": "execute_result"
    }
   ],
   "source": [
    "# now blast for the results and save to file\n",
    "id = '6552299'\n",
    "file = f'blastp-np-{id}_e-7.xml'\n",
    "\n",
    "result_handle = NCBIWWW.qblast(\n",
    "    'blastp',\n",
    "    'refseq_protein',\n",
    "    id,\n",
    "    expect=1e-5, # filter \n",
    "    entrez_query='\"Mus musculus\"[Organism]'\n",
    ")\n",
    "blast_results = result_handle.read()\n",
    "result_handle.close()\n",
    "\n",
    "save_file = open(file, 'w')\n",
    "save_file.write(blast_results)"
   ]
  },
  {
   "cell_type": "code",
   "execution_count": 101,
   "metadata": {},
   "outputs": [
    {
     "name": "stdout",
     "output_type": "stream",
     "text": [
      "***Alignment***\n",
      "sequence: ref|NP_033894.3| breast cancer type 1 susceptibility protein homolog [Mus musculus] >ref|XP_030101355.1| breast cancer type 1 susceptibility protein homolog isoform X1 [Mus musculus]\n",
      "evalue: 0.0\n",
      "\n",
      "***Alignment***\n",
      "sequence: ref|XP_006532127.1| breast cancer type 1 susceptibility protein homolog isoform X2 [Mus musculus]\n",
      "evalue: 0.0\n",
      "\n",
      "***Alignment***\n",
      "sequence: ref|XP_017169722.1| breast cancer type 1 susceptibility protein homolog isoform X3 [Mus musculus]\n",
      "evalue: 0.0\n",
      "\n",
      "***Alignment***\n",
      "sequence: ref|XP_006532131.1| breast cancer type 1 susceptibility protein homolog isoform X4 [Mus musculus]\n",
      "evalue: 5.77857e-168\n",
      "\n",
      "***Alignment***\n",
      "sequence: ref|XP_011240255.1| tripartite motif-containing protein 30A-like isoform X3 [Mus musculus]\n",
      "evalue: 3.3666e-08\n",
      "\n",
      "***Alignment***\n",
      "sequence: ref|XP_006508443.1| tripartite motif-containing protein 30A-like isoform X2 [Mus musculus]\n",
      "evalue: 5.28179e-08\n",
      "\n",
      "***Alignment***\n",
      "sequence: ref|XP_006508442.1| tripartite motif-containing protein 30A-like isoform X1 [Mus musculus]\n",
      "evalue: 6.37042e-08\n",
      "\n"
     ]
    }
   ],
   "source": [
    "# parse the file (was 38)\n",
    "result_handle = open(file)\n",
    "for blast_result in NCBIXML.parse(result_handle):\n",
    "    for desc in blast_result.descriptions:\n",
    "        print('***Alignment***')\n",
    "        print('sequence:',desc.title)\n",
    "        print('evalue:', desc.e)\n",
    "        print()\n",
    "        #if desc.e < 1e-5:\n",
    "            #i += 1\n",
    "#print(i)"
   ]
  },
  {
   "cell_type": "code",
   "execution_count": 98,
   "metadata": {},
   "outputs": [
    {
     "data": {
      "text/plain": [
       "'blastp-np-6552299.xml'"
      ]
     },
     "execution_count": 98,
     "metadata": {},
     "output_type": "execute_result"
    }
   ],
   "source": [
    "file"
   ]
  },
  {
   "cell_type": "code",
   "execution_count": null,
   "metadata": {},
   "outputs": [],
   "source": []
  },
  {
   "cell_type": "code",
   "execution_count": 104,
   "metadata": {},
   "outputs": [
    {
     "data": {
      "text/plain": [
       "'<?xml version=\"1.0\"?>\\n<!DOCTYPE BlastOutput PUBLIC \"-//NCBI//NCBI BlastOutput/EN\" \"http://www.ncbi.nlm.nih.gov/dtd/NCBI_BlastOutput.dtd\">\\n<BlastOutput>\\n  <BlastOutput_program>blastp</BlastOutput_program>\\n  <BlastOutput_version>BLASTP 2.10.0+</BlastOutput_version>\\n  <BlastOutput_reference>Stephen F. Altschul, Thomas L. Madden, Alejandro A. Sch&amp;auml;ffer, Jinghui Zhang, Zheng Zhang, Webb Miller, and David J. Lipman (1997), &quot;Gapped BLAST and PSI-BLAST: a new generation of protein database search programs&quot;, Nucleic Acids Res. 25:3389-3402.</BlastOutput_reference>\\n  <BlastOutput_db>refseq_protein_v5</BlastOutput_db>\\n  <BlastOutput_query-ID>NP_009225.1</BlastOutput_query-ID>\\n  <BlastOutput_query-def>breast cancer type 1 susceptibility protein isoform 1 [Homo sapiens]</BlastOutput_query-def>\\n  <BlastOutput_query-len>1863</BlastOutput_query-len>\\n  <BlastOutput_param>\\n    <Parameters>\\n      <Parameters_matrix>BLOSUM62</Parameters_matrix>\\n      <Parameters_expect>1e-07</Parameters_expect>\\n      <Parameters_gap-open>11</Parameters_gap-open>\\n      <Parameters_gap-extend>1</Parameters_gap-extend>\\n      <Parameters_filter>F</Parameters_filter>\\n    </Parameters>\\n  </BlastOutput_param>\\n<BlastOutput_iterations>\\n<Iteration>\\n  <Iteration_iter-num>1</Iteration_iter-num>\\n  <Iteration_query-ID>NP_009225.1</Iteration_query-ID>\\n  <Iteration_query-def>breast cancer type 1 susceptibility protein isoform 1 [Homo sapiens]</Iteration_query-def>\\n  <Iteration_query-len>1863</Iteration_query-len>\\n<Iteration_hits>\\n<Hit>\\n  <Hit_num>1</Hit_num>\\n  <Hit_id>ref|NP_033894.3|</Hit_id>\\n  <Hit_def>breast cancer type 1 susceptibility protein homolog [Mus musculus] &gt;ref|XP_030101355.1| breast cancer type 1 susceptibility protein homolog isoform X1 [Mus musculus]</Hit_def>\\n  <Hit_accession>NP_033894</Hit_accession>\\n  <Hit_len>1812</Hit_len>\\n  <Hit_hsps>\\n    <Hsp>\\n      <Hsp_num>1</Hsp_num>\\n      <Hsp_bit-score>1845.09</Hsp_bit-score>\\n      <Hsp_score>4778</Hsp_score>\\n      <Hsp_evalue>0</Hsp_evalue>\\n      <Hsp_query-from>1</Hsp_query-from>\\n      <Hsp_query-to>1858</Hsp_query-to>\\n      <Hsp_hit-from>1</Hsp_hit-from>\\n      <Hsp_hit-to>1800</Hsp_hit-to>\\n      <Hsp_query-frame>0</Hsp_query-frame>\\n      <Hsp_hit-frame>0</Hsp_hit-frame>\\n      <Hsp_identity>1043</Hsp_identity>\\n      <Hsp_positive>1304</Hsp_positive>\\n      <Hsp_gaps>68</Hsp_gaps>\\n      <Hsp_align-len>1863</Hsp_align-len>\\n      <Hsp_qseq>MDLSALRVEEVQNVINAMQKILECPICLELIKEPVSTKCDHIFCKFCMLKLLNQKKGPSQCPLCKNDITKRSLQESTRFSQLVEELLKIICAFQLDTGLEYANSYNFAKKENNSPEHLKDEVSIIQSMGYRNRAKRLLQSEPENPSLQETSLSVQLSNLGTVRTLRTKQRIQPQKTSVYIELGSDSSEDTVNKATYCSVGDQELLQITPQGTRDEISLDSAKKAACEFSETDVTNTEHHQPSNNDLNTTEKRAAERHPEKYQGSSVSNLHVEPCGTNTHASSLQHENSSLLLTKDRMNVEKAEFCNKSKQPGLARSQHNRWAGSKETCNDRRTPSTEKKVDLNADPLCERKEWNKQKLPCSENPRDTEDVPWITLNSSIQKVNEWFSRSDELLGSDDSHDGESESNAKVADVLDVLNEVDEYSGSSEKIDLLASDPHEALICKSERVHSKSVESNIEDKIFGKTYRKKASLPNLSHVTENLIIGAFVTEPQIIQERPLTNKLKRKRRPTSGLHPEDFIKKADLA-VQKTPEMINQGTNQTEQNGQVMNITNSGHENKTKGDSIQNEKNPNPIESLEKESAFKTKAEPISSSISNMELELNIHNSKAPKKNRLRRKSSTRHIHALELVVSRNLSPPNCTELQIDSCSSSEEIKKKKYNQMPVRHSRNLQLMEGKEPATGAKKSNKPNEQTSKRHDSDTFPELKLTNAPGSFTKCSNTSELKEFVNPSLPREEKEEKLETVKVSNNAEDPKDLMLSGERVLQ-TERSVESSSISLVPGTDYGTQESISLLEVSTLGKAKTEPNKCVSQCAAFENPKGLIHGCSKDNRNDTEGFKYPLGHEVNHSRETSIEMEESELDAQYLQNTFKVSKRQSFAPFSNPGNAEEECATFSAHSGSLKKQSPKVTFECEQKEENQGKNESNIKPVQTVNITAGFPVVGQKDKPVDNAKCSIKGGSRFCLSSQFRGNETGLITPNKHGLLQNPYRIPPLFPIKSFVKTKCKKNLLEENFEEHSMSPEREMGNENI-PSTVSTISRNNIRENVFKEASSSNINEVGSSTNEVGSSINEIGSSDENIQAELGRNRGPKLNAMLRLGVLQPEVYKQSLPGSNCKHPEIKKQEYEEVVQTVNTDFSPYLISDNLEQPMGSSHASQVCSETPDDLLDDGEIKEDTSFAENDIKESSAVFSKSVQKGELSRSPSPFTHTHLAQGYRRGAKKLESSEENLSSEDEELPCFQHLLFGKVNNIPSQSTRHSTVATECLSKNTEENLLSLKNSLNDCSNQVILAKASQEHHLSEETKCSASLFSSQCSELEDLTANTNTQDPFLIGSSKQMRHQSESQGVGLSDKELVSDDEERGTGLEENNQEEQSMDSNLGEA-ASGCESETSVSEDCSGLSSQSDILTTQQRDTMQHNLIKLQQEMAELEAVLEQHGSQPSNSYPSIISDSSALEDLRNPEQSTSEKAVLTSQKSSEYPISQNPEGLSADKFEVS-ADSSTSKNKEPGVERSSPSKCPSLDDRWYMHSCSGSLQNRNYPSQEELIKVVDVEEQQLEESGPHDLTETSYLPRQDLEGTPYLESGISLFSDDPESDPSEDRAPESARVGNIPSSTSALKVPQLKVAESAQSPAAAHTTDTAGYNAMEESVSREKPELTASTERVNKRMSMVVSGLTPEEFMLVYKFARKHHITLTNLITEETTHVVMKTDAEFVCERTLKYFLGIAGGKWVVSYFWVTQSIKERKMLNEHDFEVRGDVVNGRNHQGPKRARESQDRKIFRGLEICCYGPFTNMPTDQLEWMVQLCGASVVKELSSFTLGTGVHPIVVVQPDAWTEDNGFHAIGQMCEAPVVTREWVLDSVALYQCQELDTYLIPQI</Hsp_qseq>\\n      <Hsp_hseq>MDLSAVQIQEVQNVLHAMQKILECPICLELIKEPVSTKCDHIFCKFCMLKLLNQKKGPSQCPLCKNEITKRSLQGSTRFSQLAEELLRIMAAFELDTGMQLTNGFSFSKKRNNSCERLNEEASIIQSVGYRNRVRRLPQVEPGNATLKD-SLGVQLSNLGIVRSVKKNRQTQPRKKSVYIELDSDSSEETVTKPGDCSVRDQELLQTAPQEAGDEGKLHSAEEAACEFSE-GIRNIEHHQCSD-DLNPTENHATERHPEKCQSISISNVCVEPCGTDAHASSLQPETSSLLLIEDRMNAEKAEFCNKSKQPGIAVSQQSRWAASKGTCNDRQVPSTGEKVGPNADSLSDREKWTHPQSLCPENSGATTDVPWITLNSSVQKVNEWFSRTGEMLTSDSASARRHESNAEAAVVLEVSNEVDGGFSSSRKTDLVTPDPHHTLMCKSGRDFSKPVEDNISDKIFGKSYQRKGSRPHLNHVTE--IIGTFITEPQITQEQPFTNKLKRKR--STSLQPEDFIKKADSAGVQRTPDNINQGTDLMEPNEQAVSTTSNCQENKIAGSNLQKEKSAHPTESLRKEPASTAGAKSISNSVSDLEVELNVHSSKAPKKNRLRRKSSIRCALPLE-PISRNPSPPTCAELQIDSCGSSEETKKNHSNQQPAGHLREPQLIEDTEPAADAKK-NEPNEHIRKRRASDAFPEEKLMNKAGLLTSCSSPRKSQGPVNPS-PQRTGTEQLETRQMSDSAKELGDRVLGGEPSGKTTDRSEESTSVSLVSDTDYDTQNSVSVLDAHTVRYARTGSAQCMTQFVASENPKELVHG-SNNAGSGTEGLKPPLRHALNLSQE-KVEMEDSELDTQYLQNTFQVSKRQSFALFSKPRSPQKDC----AHSVPSKELSPKVTAKGKQKER-QGQEEFEISHVQAVAATVGLPVPCQEGKLAADTMCD--RGCRLCPSSHYRSGENGLSATGKSGISQNSHFKQSVSPIRSSIKTDNRKPLTEGRFERHTSSTEMAVGNENILQSTVHTVSLNN-RGNACQEAGS--------------GSIHEVCSTGDSFPGQLGRNRGPKVNTVPPLDSMQPGVCQQSVPVSD-KYLEIKKQEGEAVC----ADFSPCLFSDHLEQSM-SGKVFQVCSETPDDLLDDVEIQGHTSFGEGDIMERSAVFNGSILRRESSRSPSPVTHASKSQSLHRASRKLESSEESDSTEDEDLPCFQHLL-SRISNTP-ELTRCSSAVTQRMPEKAEGTQAPWKGSSSDCNNEVIMIEASQEHQFSEDPRCSGSMFSSQHSAAQGSTANANSQDSNFIPPSKQRSHQCGNEEAFLSDKELISDNEEMATCLEEDNDQEE--DSIIPDSEASGYESETNLSEDC----SQSDILTTQQRATMKYNLIKLQQEMAHLEAVLEQRGNQPSGHSPSLLADPCALEDLPDLEPNMSGAAILTSKNINENPVSQNLKSACDDKFQLQHLEGPTSGDDESGMGRPSPFKSPLAGSRGSAHGCSRHLQKRNSPSQEELLQPAGSEAS----SEPHNSTGQSCLPRRELEGTPYLGSGISLFSS---RDPESESPKEPAHIGTTPASTSALKIPQGQVAFRSAA-AAGADKAVVGI------VSKIKPELTSSEERADRDISMVVSGLTPKEVMTVQKFAEKYRLTLTDAITEETTHVIIKTDAEFVCERTLKYFLGIAGGKWIVSYSWVVRSIQERRLLNVHEFEVKGDVVTGRNHQGPRRSRESRE-KLFKGLQVYCCEPFTNMPKDELERMLQLCGASVVKELPSLTHDTGAHLVVIVQPSAWTEDSNCPDIGQLCKARLVMWDWVLDSLSSYRCRDLDAYLVQNI</Hsp_hseq>\\n      <Hsp_midline>MDLSA++++EVQNV++AMQKILECPICLELIKEPVSTKCDHIFCKFCMLKLLNQKKGPSQCPLCKN+ITKRSLQ STRFSQL EELL+I+ AF+LDTG++  N ++F+KK NNS E L +E SIIQS+GYRNR +RL Q EP N +L++ SL VQLSNLG VR+++  ++ QP+K SVYIEL SDSSE+TV K   CSV DQELLQ  PQ   DE  L SA++AACEFSE  + N EHHQ S+ DLN TE  A ERHPEK Q  S+SN+ VEPCGT+ HASSLQ E SSLLL +DRMN EKAEFCNKSKQPG+A SQ +RWA SK TCNDR+ PST +KV  NAD L +R++W   +  C EN   T DVPWITLNSS+QKVNEWFSR+ E+L SD +     ESNA+ A VL+V NEVD    SS K DL+  DPH  L+CKS R  SK VE NI DKIFGK+Y++K S P+L+HVTE  IIG F+TEPQI QE+P TNKLKRKR  ++ L PEDFIKKAD A VQ+TP+ INQGT+  E N Q ++ T++  ENK  G ++Q EK+ +P ESL KE A    A+ IS+S+S++E+ELN+H+SKAPKKNRLRRKSS R    LE  +SRN SPP C ELQIDSC SSEE KK   NQ P  H R  QL+E  EPA  AKK N+PNE   KR  SD FPE KL N  G  T CS+  + +  VNPS P+    E+LET ++S++A++  D +L GE   + T+RS ES+S+SLV  TDY TQ S+S+L+  T+  A+T   +C++Q  A ENPK L+HG S +  + TEG K PL H +N S+E  +EME+SELD QYLQNTF+VSKRQSFA FS P + +++C    AHS   K+ SPKVT + +QKE  QG+ E  I  VQ V  T G PV  Q+ K   +  C    G R C SS +R  E GL    K G+ QN +    + PI+S +KT  +K L E  FE H+ S E  +GNENI  STV T+S NN R N  +EA S               SI+E+ S+ ++   +LGRNRGPK+N +  L  +QP V +QS+P S+ K+ EIKKQE E V      DFSP L SD+LEQ M S    QVCSETPDDLLDD EI+  TSF E DI E SAVF+ S+ + E SRSPSP TH   +Q   R ++KLESSEE+ S+EDE+LPCFQHLL  +++N P + TR S+  T+ + +  E      K S +DC+N+VI+ +ASQEH  SE+ +CS S+FSSQ S  +  TAN N+QD   I  SKQ  HQ  ++   LSDKEL+SD+EE  T LEE+N +E+  DS + ++ ASG ESET++SEDC    SQSDILTTQQR TM++NLIKLQQEMA LEAVLEQ G+QPS   PS+++D  ALEDL + E + S  A+LTS+  +E P+SQN +    DKF++   +  TS + E G+ R SP K P    R   H CS  LQ RN PSQEEL++    E      S PH+ T  S LPR++LEGTPYL SGISLFS     DP  +   E A +G  P+STSALK+PQ +VA  + + AA       G       VS+ KPELT+S ER ++ +SMVVSGLTP+E M V KFA K+ +TLT+ ITEETTHV++KTDAEFVCERTLKYFLGIAGGKW+VSY WV +SI+ER++LN H+FEV+GDVV GRNHQGP+R+RES++ K+F+GL++ C  PFTNMP D+LE M+QLCGASVVKEL S T  TG H +V+VQP AWTED+    IGQ+C+A +V  +WVLDS++ Y+C++LD YL+  I</Hsp_midline>\\n    </Hsp>\\n  </Hit_hsps>\\n</Hit>\\n<Hit>\\n  <Hit_num>2</Hit_num>\\n  <Hit_id>ref|XP_006532127.1|</Hit_id>\\n  <Hit_def>breast cancer type 1 susceptibility protein homolog isoform X2 [Mus musculus]</Hit_def>\\n  <Hit_accession>XP_006532127</Hit_accession>\\n  <Hit_len>1767</Hit_len>\\n  <Hit_hsps>\\n    <Hsp>\\n      <Hsp_num>1</Hsp_num>\\n      <Hsp_bit-score>1800.02</Hsp_bit-score>\\n      <Hsp_score>4661</Hsp_score>\\n      <Hsp_evalue>0</Hsp_evalue>\\n      <Hsp_query-from>1</Hsp_query-from>\\n      <Hsp_query-to>1858</Hsp_query-to>\\n      <Hsp_hit-from>1</Hsp_hit-from>\\n      <Hsp_hit-to>1755</Hsp_hit-to>\\n      <Hsp_query-frame>0</Hsp_query-frame>\\n      <Hsp_hit-frame>0</Hsp_hit-frame>\\n      <Hsp_identity>1028</Hsp_identity>\\n      <Hsp_positive>1284</Hsp_positive>\\n      <Hsp_gaps>113</Hsp_gaps>\\n      <Hsp_align-len>1863</Hsp_align-len>\\n      <Hsp_qseq>MDLSALRVEEVQNVINAMQKILECPICLELIKEPVSTKCDHIFCKFCMLKLLNQKKGPSQCPLCKNDITKRSLQESTRFSQLVEELLKIICAFQLDTGLEYANSYNFAKKENNSPEHLKDEVSIIQSMGYRNRAKRLLQSEPENPSLQETSLSVQLSNLGTVRTLRTKQRIQPQKTSVYIELGSDSSEDTVNKATYCSVGDQELLQITPQGTRDEISLDSAKKAACEFSETDVTNTEHHQPSNNDLNTTEKRAAERHPEKYQGSSVSNLHVEPCGTNTHASSLQHENSSLLLTKDRMNVEKAEFCNKSKQPGLARSQHNRWAGSKETCNDRRTPSTEKKVDLNADPLCERKEWNKQKLPCSENPRDTEDVPWITLNSSIQKVNEWFSRSDELLGSDDSHDGESESNAKVADVLDVLNEVDEYSGSSEKIDLLASDPHEALICKSERVHSKSVESNIEDKIFGKTYRKKASLPNLSHVTENLIIGAFVTEPQIIQERPLTNKLKRKRRPTSGLHPEDFIKKADLA-VQKTPEMINQGTNQTEQNGQVMNITNSGHENKTKGDSIQNEKNPNPIESLEKESAFKTKAEPISSSISNMELELNIHNSKAPKKNRLRRKSSTRHIHALELVVSRNLSPPNCTELQIDSCSSSEEIKKKKYNQMPVRHSRNLQLMEGKEPATGAKKSNKPNEQTSKRHDSDTFPELKLTNAPGSFTKCSNTSELKEFVNPSLPREEKEEKLETVKVSNNAEDPKDLMLSGERVLQ-TERSVESSSISLVPGTDYGTQESISLLEVSTLGKAKTEPNKCVSQCAAFENPKGLIHGCSKDNRNDTEGFKYPLGHEVNHSRETSIEMEESELDAQYLQNTFKVSKRQSFAPFSNPGNAEEECATFSAHSGSLKKQSPKVTFECEQKEENQGKNESNIKPVQTVNITAGFPVVGQKDKPVDNAKCSIKGGSRFCLSSQFRGNETGLITPNKHGLLQNPYRIPPLFPIKSFVKTKCKKNLLEENFEEHSMSPEREMGNENI-PSTVSTISRNNIRENVFKEASSSNINEVGSSTNEVGSSINEIGSSDENIQAELGRNRGPKLNAMLRLGVLQPEVYKQSLPGSNCKHPEIKKQEYEEVVQTVNTDFSPYLISDNLEQPMGSSHASQVCSETPDDLLDDGEIKEDTSFAENDIKESSAVFSKSVQKGELSRSPSPFTHTHLAQGYRRGAKKLESSEENLSSEDEELPCFQHLLFGKVNNIPSQSTRHSTVATECLSKNTEENLLSLKNSLNDCSNQVILAKASQEHHLSEETKCSASLFSSQCSELEDLTANTNTQDPFLIGSSKQMRHQSESQGVGLSDKELVSDDEERGTGLEENNQEEQSMDSNLGEA-ASGCESETSVSEDCSGLSSQSDILTTQQRDTMQHNLIKLQQEMAELEAVLEQHGSQPSNSYPSIISDSSALEDLRNPEQSTSEKAVLTSQKSSEYPISQNPEGLSADKFEVS-ADSSTSKNKEPGVERSSPSKCPSLDDRWYMHSCSGSLQNRNYPSQEELIKVVDVEEQQLEESGPHDLTETSYLPRQDLEGTPYLESGISLFSDDPESDPSEDRAPESARVGNIPSSTSALKVPQLKVAESAQSPAAAHTTDTAGYNAMEESVSREKPELTASTERVNKRMSMVVSGLTPEEFMLVYKFARKHHITLTNLITEETTHVVMKTDAEFVCERTLKYFLGIAGGKWVVSYFWVTQSIKERKMLNEHDFEVRGDVVNGRNHQGPKRARESQDRKIFRGLEICCYGPFTNMPTDQLEWMVQLCGASVVKELSSFTLGTGVHPIVVVQPDAWTEDNGFHAIGQMCEAPVVTREWVLDSVALYQCQELDTYLIPQI</Hsp_qseq>\\n      <Hsp_hseq>MDLSAVQIQEVQNVLHAMQKILECPICLELIKEPVSTKCDHIFCKFCMLKLLNQKKGPSQCPLCKNEITKRSLQGSTRFSQLAEELLRIMAAFELDTGMQLTNGFSFSKKRNNSCERLNEEASIIQSVGYRNRVRRLPQVEPGNATLKD-SLGVQLSNLGIVRSVKKNRQTQPRKKSVYIELDSDSSEETVTKPGDCSVRDQELLQTAPQEAGDEGKLHSAEEAACEFSE-GIRNIEHHQCSD-DLNPTENHATERHPEKCQSISISNVCVEPCGTDAHASSLQPETSSLLLIEDRMNAEKAEFCNKSKQPGIAVSQQSRWAASKGTCNDRQVPSTGEKVGPNADSLSDREKWTHPQSLCPENSGATTDVPWITLNSSVQKVNEWFSRTGEMLTSDSASARRHESNAEAAVVLEVSNEVDGGFSSSRKTDLVTPDPHHTLMCKSGRDFSKPVEDNISDKIFGKSYQRKGSRPHLNHVTE--IIGTFITEPQITQEQPFTNKLKRKR--STSLQPEDFIKKADSAGVQRTPDNINQGTDLMEPNEQAVSTTSNCQENKIAGSNLQKEKSAHPTESLRKEPASTAGAKSISNSVSDLEVELNVHSSKAPKKNRLRRKSSIRCALPLE-PISRNPSPPTCAELQIDSCGSSEETKKNHSNQQPAGHLREPQLIEDTEPAADAKK-NEPNEHIRKRRASDAFPEEKLMNKAGLLTSCSSPRKSQGPVNPS-PQRTGTEQLETRQMSDSAKELGDRVLGGEPSGKTTDRSEESTSVSLVSDTDYDTQNSVSVLDAHTVRYARTGSAQCMTQFVASENPKELVHG-SNNAGSGTEGLKPPLRHALNLSQE-KVEMEDSELDTQYLQNTFQVSKRQSFALFSKPRSPQKDC----AHSVPSKELSPKVTAKGKQKER-QGQEEFEISHVQAVAATVGLPVPCQEVSP-----------------------------------------------IRSSIKTDNRKPLTEGRFERHTSSTEMAVGNENILQSTVHTVSLNN-RGNACQEAGS--------------GSIHEVCSTGDSFPGQLGRNRGPKVNTVPPLDSMQPGVCQQSVPVSD-KYLEIKKQEGEAVC----ADFSPCLFSDHLEQSM-SGKVFQVCSETPDDLLDDVEIQGHTSFGEGDIMERSAVFNGSILRRESSRSPSPVTHASKSQSLHRASRKLESSEESDSTEDEDLPCFQHLL-SRISNTP-ELTRCSSAVTQRMPEKAEGTQAPWKGSSSDCNNEVIMIEASQEHQFSEDPRCSGSMFSSQHSAAQGSTANANSQDSNFIPPSKQRSHQCGNEEAFLSDKELISDNEEMATCLEEDNDQEE--DSIIPDSEASGYESETNLSEDC----SQSDILTTQQRATMKYNLIKLQQEMAHLEAVLEQRGNQPSGHSPSLLADPCALEDLPDLEPNMSGAAILTSKNINENPVSQNLKSACDDKFQLQHLEGPTSGDDESGMGRPSPFKSPLAGSRGSAHGCSRHLQKRNSPSQEELLQPAGSE----ASSEPHNSTGQSCLPRRELEGTPYLGSGISLFSS---RDPESESPKEPAHIGTTPASTSALKIPQGQVAFRSAA-AAGADKAVVGI------VSKIKPELTSSEERADRDISMVVSGLTPKEVMTVQKFAEKYRLTLTDAITEETTHVIIKTDAEFVCERTLKYFLGIAGGKWIVSYSWVVRSIQERRLLNVHEFEVKGDVVTGRNHQGPRRSRESRE-KLFKGLQVYCCEPFTNMPKDELERMLQLCGASVVKELPSLTHDTGAHLVVIVQPSAWTEDSNCPDIGQLCKARLVMWDWVLDSLSSYRCRDLDAYLVQNI</Hsp_hseq>\\n      <Hsp_midline>MDLSA++++EVQNV++AMQKILECPICLELIKEPVSTKCDHIFCKFCMLKLLNQKKGPSQCPLCKN+ITKRSLQ STRFSQL EELL+I+ AF+LDTG++  N ++F+KK NNS E L +E SIIQS+GYRNR +RL Q EP N +L++ SL VQLSNLG VR+++  ++ QP+K SVYIEL SDSSE+TV K   CSV DQELLQ  PQ   DE  L SA++AACEFSE  + N EHHQ S+ DLN TE  A ERHPEK Q  S+SN+ VEPCGT+ HASSLQ E SSLLL +DRMN EKAEFCNKSKQPG+A SQ +RWA SK TCNDR+ PST +KV  NAD L +R++W   +  C EN   T DVPWITLNSS+QKVNEWFSR+ E+L SD +     ESNA+ A VL+V NEVD    SS K DL+  DPH  L+CKS R  SK VE NI DKIFGK+Y++K S P+L+HVTE  IIG F+TEPQI QE+P TNKLKRKR  ++ L PEDFIKKAD A VQ+TP+ INQGT+  E N Q ++ T++  ENK  G ++Q EK+ +P ESL KE A    A+ IS+S+S++E+ELN+H+SKAPKKNRLRRKSS R    LE  +SRN SPP C ELQIDSC SSEE KK   NQ P  H R  QL+E  EPA  AKK N+PNE   KR  SD FPE KL N  G  T CS+  + +  VNPS P+    E+LET ++S++A++  D +L GE   + T+RS ES+S+SLV  TDY TQ S+S+L+  T+  A+T   +C++Q  A ENPK L+HG S +  + TEG K PL H +N S+E  +EME+SELD QYLQNTF+VSKRQSFA FS P + +++C    AHS   K+ SPKVT + +QKE  QG+ E  I  VQ V  T G PV  Q+  P                                               I+S +KT  +K L E  FE H+ S E  +GNENI  STV T+S NN R N  +EA S               SI+E+ S+ ++   +LGRNRGPK+N +  L  +QP V +QS+P S+ K+ EIKKQE E V      DFSP L SD+LEQ M S    QVCSETPDDLLDD EI+  TSF E DI E SAVF+ S+ + E SRSPSP TH   +Q   R ++KLESSEE+ S+EDE+LPCFQHLL  +++N P + TR S+  T+ + +  E      K S +DC+N+VI+ +ASQEH  SE+ +CS S+FSSQ S  +  TAN N+QD   I  SKQ  HQ  ++   LSDKEL+SD+EE  T LEE+N +E+  DS + ++ ASG ESET++SEDC    SQSDILTTQQR TM++NLIKLQQEMA LEAVLEQ G+QPS   PS+++D  ALEDL + E + S  A+LTS+  +E P+SQN +    DKF++   +  TS + E G+ R SP K P    R   H CS  LQ RN PSQEEL++    E      S PH+ T  S LPR++LEGTPYL SGISLFS     DP  +   E A +G  P+STSALK+PQ +VA  + + AA       G       VS+ KPELT+S ER ++ +SMVVSGLTP+E M V KFA K+ +TLT+ ITEETTHV++KTDAEFVCERTLKYFLGIAGGKW+VSY WV +SI+ER++LN H+FEV+GDVV GRNHQGP+R+RES++ K+F+GL++ C  PFTNMP D+LE M+QLCGASVVKEL S T  TG H +V+VQP AWTED+    IGQ+C+A +V  +WVLDS++ Y+C++LD YL+  I</Hsp_midline>\\n    </Hsp>\\n  </Hit_hsps>\\n</Hit>\\n<Hit>\\n  <Hit_num>3</Hit_num>\\n  <Hit_id>ref|XP_017169722.1|</Hit_id>\\n  <Hit_def>breast cancer type 1 susceptibility protein homolog isoform X3 [Mus musculus]</Hit_def>\\n  <Hit_accession>XP_017169722</Hit_accession>\\n  <Hit_len>1465</Hit_len>\\n  <Hit_hsps>\\n    <Hsp>\\n      <Hsp_num>1</Hsp_num>\\n      <Hsp_bit-score>1435.62</Hsp_bit-score>\\n      <Hsp_score>3715</Hsp_score>\\n      <Hsp_evalue>0</Hsp_evalue>\\n      <Hsp_query-from>1</Hsp_query-from>\\n      <Hsp_query-to>1498</Hsp_query-to>\\n      <Hsp_hit-from>1</Hsp_hit-from>\\n      <Hsp_hit-to>1455</Hsp_hit-to>\\n      <Hsp_query-frame>0</Hsp_query-frame>\\n      <Hsp_hit-frame>0</Hsp_hit-frame>\\n      <Hsp_identity>836</Hsp_identity>\\n      <Hsp_positive>1045</Hsp_positive>\\n      <Hsp_gaps>53</Hsp_gaps>\\n      <Hsp_align-len>1503</Hsp_align-len>\\n      <Hsp_qseq>MDLSALRVEEVQNVINAMQKILECPICLELIKEPVSTKCDHIFCKFCMLKLLNQKKGPSQCPLCKNDITKRSLQESTRFSQLVEELLKIICAFQLDTGLEYANSYNFAKKENNSPEHLKDEVSIIQSMGYRNRAKRLLQSEPENPSLQETSLSVQLSNLGTVRTLRTKQRIQPQKTSVYIELGSDSSEDTVNKATYCSVGDQELLQITPQGTRDEISLDSAKKAACEFSETDVTNTEHHQPSNNDLNTTEKRAAERHPEKYQGSSVSNLHVEPCGTNTHASSLQHENSSLLLTKDRMNVEKAEFCNKSKQPGLARSQHNRWAGSKETCNDRRTPSTEKKVDLNADPLCERKEWNKQKLPCSENPRDTEDVPWITLNSSIQKVNEWFSRSDELLGSDDSHDGESESNAKVADVLDVLNEVDEYSGSSEKIDLLASDPHEALICKSERVHSKSVESNIEDKIFGKTYRKKASLPNLSHVTENLIIGAFVTEPQIIQERPLTNKLKRKRRPTSGLHPEDFIKKADLA-VQKTPEMINQGTNQTEQNGQVMNITNSGHENKTKGDSIQNEKNPNPIESLEKESAFKTKAEPISSSISNMELELNIHNSKAPKKNRLRRKSSTRHIHALELVVSRNLSPPNCTELQIDSCSSSEEIKKKKYNQMPVRHSRNLQLMEGKEPATGAKKSNKPNEQTSKRHDSDTFPELKLTNAPGSFTKCSNTSELKEFVNPSLPREEKEEKLETVKVSNNAEDPKDLMLSGERVLQ-TERSVESSSISLVPGTDYGTQESISLLEVSTLGKAKTEPNKCVSQCAAFENPKGLIHGCSKDNRNDTEGFKYPLGHEVNHSRETSIEMEESELDAQYLQNTFKVSKRQSFAPFSNPGNAEEECATFSAHSGSLKKQSPKVTFECEQKEENQGKNESNIKPVQTVNITAGFPVVGQKDKPVDNAKCSIKGGSRFCLSSQFRGNETGLITPNKHGLLQNPYRIPPLFPIKSFVKTKCKKNLLEENFEEHSMSPEREMGNENI-PSTVSTISRNNIRENVFKEASSSNINEVGSSTNEVGSSINEIGSSDENIQAELGRNRGPKLNAMLRLGVLQPEVYKQSLPGSNCKHPEIKKQEYEEVVQTVNTDFSPYLISDNLEQPMGSSHASQVCSETPDDLLDDGEIKEDTSFAENDIKESSAVFSKSVQKGELSRSPSPFTHTHLAQGYRRGAKKLESSEENLSSEDEELPCFQHLLFGKVNNIPSQSTRHSTVATECLSKNTEENLLSLKNSLNDCSNQVILAKASQEHHLSEETKCSASLFSSQCSELEDLTANTNTQDPFLIGSSKQMRHQSESQGVGLSDKELVSDDEERGTGLEENNQEEQSMDSNLGEA-ASGCESETSVSEDCSGLSSQSDILTTQQRDTMQHNLIKLQQEMAELEAVLEQHGSQPSNSYPSIISDSSALEDLRNPEQSTSEKAVLTSQKSSEYPISQNPEGLSADKFEVS-ADSSTSKNKEPGVERSSP</Hsp_qseq>\\n      <Hsp_hseq>MDLSAVQIQEVQNVLHAMQKILECPICLELIKEPVSTKCDHIFCKFCMLKLLNQKKGPSQCPLCKNEITKRSLQGSTRFSQLAEELLRIMAAFELDTGMQLTNGFSFSKKRNNSCERLNEEASIIQSVGYRNRVRRLPQVEPGNATLKD-SLGVQLSNLGIVRSVKKNRQTQPRKKSVYIELDSDSSEETVTKPGDCSVRDQELLQTAPQEAGDEGKLHSAEEAACEFSE-GIRNIEHHQCSD-DLNPTENHATERHPEKCQSISISNVCVEPCGTDAHASSLQPETSSLLLIEDRMNAEKAEFCNKSKQPGIAVSQQSRWAASKGTCNDRQVPSTGEKVGPNADSLSDREKWTHPQSLCPENSGATTDVPWITLNSSVQKVNEWFSRTGEMLTSDSASARRHESNAEAAVVLEVSNEVDGGFSSSRKTDLVTPDPHHTLMCKSGRDFSKPVEDNISDKIFGKSYQRKGSRPHLNHVTE--IIGTFITEPQITQEQPFTNKLKRKR--STSLQPEDFIKKADSAGVQRTPDNINQGTDLMEPNEQAVSTTSNCQENKIAGSNLQKEKSAHPTESLRKEPASTAGAKSISNSVSDLEVELNVHSSKAPKKNRLRRKSSIRCALPLE-PISRNPSPPTCAELQIDSCGSSEETKKNHSNQQPAGHLREPQLIEDTEPAADAKK-NEPNEHIRKRRASDAFPEEKLMNKAGLLTSCSSPRKSQGPVNPS-PQRTGTEQLETRQMSDSAKELGDRVLGGEPSGKTTDRSEESTSVSLVSDTDYDTQNSVSVLDAHTVRYARTGSAQCMTQFVASENPKELVHG-SNNAGSGTEGLKPPLRHALNLSQE-KVEMEDSELDTQYLQNTFQVSKRQSFALFSKPRSPQKDC----AHSVPSKELSPKVTAKGKQKER-QGQEEFEISHVQAVAATVGLPVPCQEGKLAADTMCD--RGCRLCPSSHYRSGENGLSATGKSGISQNSHFKQSVSPIRSSIKTDNRKPLTEGRFERHTSSTEMAVGNENILQSTVHTVSLNN-RGNACQEAGS--------------GSIHEVCSTGDSFPGQLGRNRGPKVNTVPPLDSMQPGVCQQSVPVSD-KYLEIKKQEGEAVC----ADFSPCLFSDHLEQSM-SGKVFQVCSETPDDLLDDVEIQGHTSFGEGDIMERSAVFNGSILRRESSRSPSPVTHASKSQSLHRASRKLESSEESDSTEDEDLPCFQHLL-SRISNTP-ELTRCSSAVTQRMPEKAEGTQAPWKGSSSDCNNEVIMIEASQEHQFSEDPRCSGSMFSSQHSAAQGSTANANSQDSNFIPPSKQRSHQCGNEEAFLSDKELISDNEEMATCLEEDNDQEE--DSIIPDSEASGYESETNLSEDC----SQSDILTTQQRATMKYNLIKLQQEMAHLEAVLEQRGNQPSGHSPSLLADPCALEDLPDLEPNMSGAAILTSKNINENPVSQNLKSACDDKFQLQHLEGPTSGDDESGMGRRNP</Hsp_hseq>\\n      <Hsp_midline>MDLSA++++EVQNV++AMQKILECPICLELIKEPVSTKCDHIFCKFCMLKLLNQKKGPSQCPLCKN+ITKRSLQ STRFSQL EELL+I+ AF+LDTG++  N ++F+KK NNS E L +E SIIQS+GYRNR +RL Q EP N +L++ SL VQLSNLG VR+++  ++ QP+K SVYIEL SDSSE+TV K   CSV DQELLQ  PQ   DE  L SA++AACEFSE  + N EHHQ S+ DLN TE  A ERHPEK Q  S+SN+ VEPCGT+ HASSLQ E SSLLL +DRMN EKAEFCNKSKQPG+A SQ +RWA SK TCNDR+ PST +KV  NAD L +R++W   +  C EN   T DVPWITLNSS+QKVNEWFSR+ E+L SD +     ESNA+ A VL+V NEVD    SS K DL+  DPH  L+CKS R  SK VE NI DKIFGK+Y++K S P+L+HVTE  IIG F+TEPQI QE+P TNKLKRKR  ++ L PEDFIKKAD A VQ+TP+ INQGT+  E N Q ++ T++  ENK  G ++Q EK+ +P ESL KE A    A+ IS+S+S++E+ELN+H+SKAPKKNRLRRKSS R    LE  +SRN SPP C ELQIDSC SSEE KK   NQ P  H R  QL+E  EPA  AKK N+PNE   KR  SD FPE KL N  G  T CS+  + +  VNPS P+    E+LET ++S++A++  D +L GE   + T+RS ES+S+SLV  TDY TQ S+S+L+  T+  A+T   +C++Q  A ENPK L+HG S +  + TEG K PL H +N S+E  +EME+SELD QYLQNTF+VSKRQSFA FS P + +++C    AHS   K+ SPKVT + +QKE  QG+ E  I  VQ V  T G PV  Q+ K   +  C    G R C SS +R  E GL    K G+ QN +    + PI+S +KT  +K L E  FE H+ S E  +GNENI  STV T+S NN R N  +EA S               SI+E+ S+ ++   +LGRNRGPK+N +  L  +QP V +QS+P S+ K+ EIKKQE E V      DFSP L SD+LEQ M S    QVCSETPDDLLDD EI+  TSF E DI E SAVF+ S+ + E SRSPSP TH   +Q   R ++KLESSEE+ S+EDE+LPCFQHLL  +++N P + TR S+  T+ + +  E      K S +DC+N+VI+ +ASQEH  SE+ +CS S+FSSQ S  +  TAN N+QD   I  SKQ  HQ  ++   LSDKEL+SD+EE  T LEE+N +E+  DS + ++ ASG ESET++SEDC    SQSDILTTQQR TM++NLIKLQQEMA LEAVLEQ G+QPS   PS+++D  ALEDL + E + S  A+LTS+  +E P+SQN +    DKF++   +  TS + E G+ R +P</Hsp_midline>\\n    </Hsp>\\n  </Hit_hsps>\\n</Hit>\\n<Hit>\\n  <Hit_num>4</Hit_num>\\n  <Hit_id>ref|XP_006532131.1|</Hit_id>\\n  <Hit_def>breast cancer type 1 susceptibility protein homolog isoform X4 [Mus musculus]</Hit_def>\\n  <Hit_accession>XP_006532131</Hit_accession>\\n  <Hit_len>707</Hit_len>\\n  <Hit_hsps>\\n    <Hsp>\\n      <Hsp_num>1</Hsp_num>\\n      <Hsp_bit-score>530.406</Hsp_bit-score>\\n      <Hsp_score>1365</Hsp_score>\\n      <Hsp_evalue>5.77857e-168</Hsp_evalue>\\n      <Hsp_query-from>1367</Hsp_query-from>\\n      <Hsp_query-to>1858</Hsp_query-to>\\n      <Hsp_hit-from>222</Hsp_hit-from>\\n      <Hsp_hit-to>695</Hsp_hit-to>\\n      <Hsp_query-frame>0</Hsp_query-frame>\\n      <Hsp_hit-frame>0</Hsp_hit-frame>\\n      <Hsp_identity>281</Hsp_identity>\\n      <Hsp_positive>354</Hsp_positive>\\n      <Hsp_gaps>20</Hsp_gaps>\\n      <Hsp_align-len>493</Hsp_align-len>\\n      <Hsp_qseq>EAASGCESETSVSEDCSGLSSQSDILTTQQRDTMQHNLIKLQQEMAELEAVLEQHGSQPSNSYPSIISDSSALEDLRNPEQSTSEKAVLTSQKSSEYPISQNPEGLSADKFEVS-ADSSTSKNKEPGVERSSPSKCPSLDDRWYMHSCSGSLQNRNYPSQEELIKVVDVEEQQLEESGPHDLTETSYLPRQDLEGTPYLESGISLFSDDPESDPSEDRAPESARVGNIPSSTSALKVPQLKVAESAQSPAAAHTTDTAGYNAMEESVSREKPELTASTERVNKRMSMVVSGLTPEEFMLVYKFARKHHITLTNLITEETTHVVMKTDAEFVCERTLKYFLGIAGGKWVVSYFWVTQSIKERKMLNEHDFEVRGDVVNGRNHQGPKRARESQDRKIFRGLEICCYGPFTNMPTDQLEWMVQLCGASVVKELSSFTLGTGVHPIVVVQPDAWTEDNGFHAIGQMCEAPVVTREWVLDSVALYQCQELDTYLIPQI</Hsp_qseq>\\n      <Hsp_hseq>EEASGYESETNLSEDCS----QSDILTTQQRATMKYNLIKLQQEMAHLEAVLEQRGNQPSGHSPSLLADPCALEDLPDLEPNMSGAAILTSKNINENPVSQNLKSACDDKFQLQHLEGPTSGDDESGMGRPSPFKSPLAGSRGSAHGCSRHLQKRNSPSQEELLQPAGSEAS----SEPHNSTGQSCLPRRELEGTPYLGSGISLFSS---RDPESESPKEPAHIGTTPASTSALKIPQGQVAFRSAA-AAGADKAVVGI------VSKIKPELTSSEERADRDISMVVSGLTPKEVMTVQKFAEKYRLTLTDAITEETTHVIIKTDAEFVCERTLKYFLGIAGGKWIVSYSWVVRSIQERRLLNVHEFEVKGDVVTGRNHQGPRRSRESRE-KLFKGLQVYCCEPFTNMPKDELERMLQLCGASVVKELPSLTHDTGAHLVVIVQPSAWTEDSNCPDIGQLCKARLVMWDWVLDSLSSYRCRDLDAYLVQNI</Hsp_hseq>\\n      <Hsp_midline>E ASG ESET++SEDCS    QSDILTTQQR TM++NLIKLQQEMA LEAVLEQ G+QPS   PS+++D  ALEDL + E + S  A+LTS+  +E P+SQN +    DKF++   +  TS + E G+ R SP K P    R   H CS  LQ RN PSQEEL++    E      S PH+ T  S LPR++LEGTPYL SGISLFS     DP  +   E A +G  P+STSALK+PQ +VA  + + AA       G       VS+ KPELT+S ER ++ +SMVVSGLTP+E M V KFA K+ +TLT+ ITEETTHV++KTDAEFVCERTLKYFLGIAGGKW+VSY WV +SI+ER++LN H+FEV+GDVV GRNHQGP+R+RES++ K+F+GL++ C  PFTNMP D+LE M+QLCGASVVKEL S T  TG H +V+VQP AWTED+    IGQ+C+A +V  +WVLDS++ Y+C++LD YL+  I</Hsp_midline>\\n    </Hsp>\\n    <Hsp>\\n      <Hsp_num>2</Hsp_num>\\n      <Hsp_bit-score>325.865</Hsp_bit-score>\\n      <Hsp_score>834</Hsp_score>\\n      <Hsp_evalue>4.98635e-95</Hsp_evalue>\\n      <Hsp_query-from>1</Hsp_query-from>\\n      <Hsp_query-to>257</Hsp_query-to>\\n      <Hsp_hit-from>1</Hsp_hit-from>\\n      <Hsp_hit-to>253</Hsp_hit-to>\\n      <Hsp_query-frame>0</Hsp_query-frame>\\n      <Hsp_hit-frame>0</Hsp_hit-frame>\\n      <Hsp_identity>166</Hsp_identity>\\n      <Hsp_positive>206</Hsp_positive>\\n      <Hsp_gaps>6</Hsp_gaps>\\n      <Hsp_align-len>258</Hsp_align-len>\\n      <Hsp_qseq>MDLSALRVEEVQNVINAMQKILECPICLELIKEPVSTKCDHIFCKFCMLKLLNQKKGPSQCPLCKNDITKRSLQESTRFSQLVEELLKIICAFQLDTGLEYANSYNFAKKENNSPEHLKDEVSIIQSMGYRNRAKRLLQSEPENPSLQETSLSVQLSNLGTVRTLRTKQRIQPQKTSVYIELGSDSSEDTVNKATYCSVGDQELLQITPQGTRDEISLDSAKKAACEF-SETDVTNTEHHQPSNNDLNTTEKRAAERH</Hsp_qseq>\\n      <Hsp_hseq>MDLSAVQIQEVQNVLHAMQKILECPICLELIKEPVSTKCDHIFCKFCMLKLLNQKKGPSQCPLCKNEITKRSLQGSTRFSQLAEELLRIMAAFELDTGMQLTNGFSFSKKRNNSCERLNEEASIIQSVGYRNRVRRLPQVEPGNATLKD-SLGVQLSNLGIVRSVKKNRQTQPRKKSVYIELDSDSSEETVTKPGDCSVRDQELLQTAPQEAGDEGKLHSAEEEASGYESETNLS----EDCSQSDILTTQQRATMKY</Hsp_hseq>\\n      <Hsp_midline>MDLSA++++EVQNV++AMQKILECPICLELIKEPVSTKCDHIFCKFCMLKLLNQKKGPSQCPLCKN+ITKRSLQ STRFSQL EELL+I+ AF+LDTG++  N ++F+KK NNS E L +E SIIQS+GYRNR +RL Q EP N +L++ SL VQLSNLG VR+++  ++ QP+K SVYIEL SDSSE+TV K   CSV DQELLQ  PQ   DE  L SA++ A  + SET+++       S +D+ TT++RA  ++</Hsp_midline>\\n    </Hsp>\\n  </Hit_hsps>\\n</Hit>\\n<Hit>\\n  <Hit_num>5</Hit_num>\\n  <Hit_id>ref|XP_011240255.1|</Hit_id>\\n  <Hit_def>tripartite motif-containing protein 30A-like isoform X3 [Mus musculus]</Hit_def>\\n  <Hit_accession>XP_011240255</Hit_accession>\\n  <Hit_len>266</Hit_len>\\n  <Hit_hsps>\\n    <Hsp>\\n      <Hsp_num>1</Hsp_num>\\n      <Hsp_bit-score>58.5362</Hsp_bit-score>\\n      <Hsp_score>140</Hsp_score>\\n      <Hsp_evalue>3.3666e-08</Hsp_evalue>\\n      <Hsp_query-from>14</Hsp_query-from>\\n      <Hsp_query-to>86</Hsp_query-to>\\n      <Hsp_hit-from>5</Hsp_hit-from>\\n      <Hsp_hit-to>81</Hsp_hit-to>\\n      <Hsp_query-frame>0</Hsp_query-frame>\\n      <Hsp_hit-frame>0</Hsp_hit-frame>\\n      <Hsp_identity>29</Hsp_identity>\\n      <Hsp_positive>48</Hsp_positive>\\n      <Hsp_gaps>8</Hsp_gaps>\\n      <Hsp_align-len>79</Hsp_align-len>\\n      <Hsp_qseq>VINAMQKILECPICLELIKEPVSTKCDHIFCKFCMLKLLNQKKGPSQ------CPLCKNDITKRSLQESTRFSQLVEEL</Hsp_qseq>\\n      <Hsp_hseq>ILEMIKDEVTCPICLELLKEPVSTDCDHSFCRACI--TLNYESSKSRGTEEGSCPVCRVRVPFGNLRTNRQMANIVERL</Hsp_hseq>\\n      <Hsp_midline>++  ++  + CPICLEL+KEPVST CDH FC+ C+   LN +   S+      CP+C+  +   +L+ + + + +VE L</Hsp_midline>\\n    </Hsp>\\n  </Hit_hsps>\\n</Hit>\\n<Hit>\\n  <Hit_num>6</Hit_num>\\n  <Hit_id>ref|XP_006508443.1|</Hit_id>\\n  <Hit_def>tripartite motif-containing protein 30A-like isoform X2 [Mus musculus]</Hit_def>\\n  <Hit_accession>XP_006508443</Hit_accession>\\n  <Hit_len>290</Hit_len>\\n  <Hit_hsps>\\n    <Hsp>\\n      <Hsp_num>1</Hsp_num>\\n      <Hsp_bit-score>58.151</Hsp_bit-score>\\n      <Hsp_score>139</Hsp_score>\\n      <Hsp_evalue>5.28179e-08</Hsp_evalue>\\n      <Hsp_query-from>14</Hsp_query-from>\\n      <Hsp_query-to>86</Hsp_query-to>\\n      <Hsp_hit-from>5</Hsp_hit-from>\\n      <Hsp_hit-to>81</Hsp_hit-to>\\n      <Hsp_query-frame>0</Hsp_query-frame>\\n      <Hsp_hit-frame>0</Hsp_hit-frame>\\n      <Hsp_identity>29</Hsp_identity>\\n      <Hsp_positive>48</Hsp_positive>\\n      <Hsp_gaps>8</Hsp_gaps>\\n      <Hsp_align-len>79</Hsp_align-len>\\n      <Hsp_qseq>VINAMQKILECPICLELIKEPVSTKCDHIFCKFCMLKLLNQKKGPSQ------CPLCKNDITKRSLQESTRFSQLVEEL</Hsp_qseq>\\n      <Hsp_hseq>ILEMIKDEVTCPICLELLKEPVSTDCDHSFCRACI--TLNYESSKSRGTEEGSCPVCRVRVPFGNLRTNRQMANIVERL</Hsp_hseq>\\n      <Hsp_midline>++  ++  + CPICLEL+KEPVST CDH FC+ C+   LN +   S+      CP+C+  +   +L+ + + + +VE L</Hsp_midline>\\n    </Hsp>\\n  </Hit_hsps>\\n</Hit>\\n<Hit>\\n  <Hit_num>7</Hit_num>\\n  <Hit_id>ref|XP_006508442.1|</Hit_id>\\n  <Hit_def>tripartite motif-containing protein 30A-like isoform X1 [Mus musculus]</Hit_def>\\n  <Hit_accession>XP_006508442</Hit_accession>\\n  <Hit_len>315</Hit_len>\\n  <Hit_hsps>\\n    <Hsp>\\n      <Hsp_num>1</Hsp_num>\\n      <Hsp_bit-score>58.151</Hsp_bit-score>\\n      <Hsp_score>139</Hsp_score>\\n      <Hsp_evalue>6.37042e-08</Hsp_evalue>\\n      <Hsp_query-from>14</Hsp_query-from>\\n      <Hsp_query-to>86</Hsp_query-to>\\n      <Hsp_hit-from>5</Hsp_hit-from>\\n      <Hsp_hit-to>81</Hsp_hit-to>\\n      <Hsp_query-frame>0</Hsp_query-frame>\\n      <Hsp_hit-frame>0</Hsp_hit-frame>\\n      <Hsp_identity>29</Hsp_identity>\\n      <Hsp_positive>48</Hsp_positive>\\n      <Hsp_gaps>8</Hsp_gaps>\\n      <Hsp_align-len>79</Hsp_align-len>\\n      <Hsp_qseq>VINAMQKILECPICLELIKEPVSTKCDHIFCKFCMLKLLNQKKGPSQ------CPLCKNDITKRSLQESTRFSQLVEEL</Hsp_qseq>\\n      <Hsp_hseq>ILEMIKDEVTCPICLELLKEPVSTDCDHSFCRACI--TLNYESSKSRGTEEGSCPVCRVRVPFGNLRTNRQMANIVERL</Hsp_hseq>\\n      <Hsp_midline>++  ++  + CPICLEL+KEPVST CDH FC+ C+   LN +   S+      CP+C+  +   +L+ + + + +VE L</Hsp_midline>\\n    </Hsp>\\n  </Hit_hsps>\\n</Hit>\\n</Iteration_hits>\\n  <Iteration_stat>\\n    <Statistics>\\n      <Statistics_db-num>62281</Statistics_db-num>\\n      <Statistics_db-len>43971106</Statistics_db-len>\\n      <Statistics_hsp-len>0</Statistics_hsp-len>\\n      <Statistics_eff-space>0</Statistics_eff-space>\\n      <Statistics_kappa>0.041</Statistics_kappa>\\n      <Statistics_lambda>0.267</Statistics_lambda>\\n      <Statistics_entropy>0.14</Statistics_entropy>\\n    </Statistics>\\n  </Iteration_stat>\\n</Iteration>\\n</BlastOutput_iterations>\\n</BlastOutput>\\n'"
      ]
     },
     "execution_count": 104,
     "metadata": {},
     "output_type": "execute_result"
    }
   ],
   "source": [
    "blast_results."
   ]
  },
  {
   "cell_type": "code",
   "execution_count": null,
   "metadata": {},
   "outputs": [],
   "source": [
    "# save a blast file\n",
    "\n",
    "\n",
    "id = '8332116'\n",
    "file = f'blastn-nr-{id}.xml'\n",
    "result_handle = NCBIWWW.qblast(\n",
    "    'blastn',\n",
    "    'nr',\n",
    "    id\n",
    "    #entrez_query='\"Mus musculus\"[Organism]'\n",
    ")\n",
    "blast_results = result_handle.read()\n",
    "result_handle.close()\n",
    "\n",
    "save_file = open(file, 'w')\n",
    "save_file.write(blast_results)\n"
   ]
  }
 ],
 "metadata": {
  "kernelspec": {
   "display_name": "524_env",
   "language": "python",
   "name": "524_env"
  },
  "language_info": {
   "codemirror_mode": {
    "name": "ipython",
    "version": 3
   },
   "file_extension": ".py",
   "mimetype": "text/x-python",
   "name": "python",
   "nbconvert_exporter": "python",
   "pygments_lexer": "ipython3",
   "version": "3.7.3"
  }
 },
 "nbformat": 4,
 "nbformat_minor": 4
}
