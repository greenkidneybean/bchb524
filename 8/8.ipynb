{
 "cells": [
  {
   "cell_type": "markdown",
   "metadata": {},
   "source": [
    "# Exercise 8.1 - 3 methods to create reverse complement sequence"
   ]
  },
  {
   "cell_type": "code",
   "execution_count": 1,
   "metadata": {},
   "outputs": [],
   "source": [
    "seq = 'ATGCATTCGTATTTTT'\n"
   ]
  },
  {
   "cell_type": "code",
   "execution_count": 2,
   "metadata": {},
   "outputs": [
    {
     "data": {
      "text/plain": [
       "'AAAAATACGAATGCAT'"
      ]
     },
     "execution_count": 2,
     "metadata": {},
     "output_type": "execute_result"
    }
   ],
   "source": [
    "# original method\n",
    "def rev_seq(seq):\n",
    "    return seq[::-1]\n",
    "def complement_seq(nuc):\n",
    "    if nuc == \"A\":\n",
    "        comp = \"T\"\n",
    "    elif nuc == \"T\":\n",
    "        comp = \"A\"\n",
    "    elif nuc == \"C\":\n",
    "        comp = \"G\"\n",
    "    elif nuc == \"G\":\n",
    "        comp = \"C\"\n",
    "    else:\n",
    "        comp = nuc\n",
    "    return comp\n",
    "def rev_comp_1(seq):\n",
    "    rev_comp = \"\"\n",
    "    for i in rev_seq(seq.upper()):\n",
    "        rev_comp = rev_comp + (complement_seq(i))\n",
    "    return rev_comp\n",
    "rev_comp_1(seq)"
   ]
  },
  {
   "cell_type": "code",
   "execution_count": 3,
   "metadata": {},
   "outputs": [
    {
     "data": {
      "text/plain": [
       "'AAAAATACGAATGCAT'"
      ]
     },
     "execution_count": 3,
     "metadata": {},
     "output_type": "execute_result"
    }
   ],
   "source": [
    "# zip two lists\n",
    "def rev_comp_2(seq):\n",
    "    nuc_list = ['A','T','C','G']\n",
    "    trans_list = ['T','A','G','C']\n",
    "    rev_comp = \"\"\n",
    "    for n in seq[::-1].upper():\n",
    "        for x,y in zip(nuc_list, trans_list):\n",
    "            if x == n:\n",
    "                rev_comp += y\n",
    "    return rev_comp\n",
    "rev_comp_2(seq)"
   ]
  },
  {
   "cell_type": "code",
   "execution_count": 4,
   "metadata": {},
   "outputs": [
    {
     "data": {
      "text/plain": [
       "'AAAAATACGAATGCAT'"
      ]
     },
     "execution_count": 4,
     "metadata": {},
     "output_type": "execute_result"
    }
   ],
   "source": [
    "def rev_comp_3(seq):\n",
    "    \"\"\"Returns the reverse complement using dictionary\"\"\"\n",
    "    trans_dict = {'A':'T', 'T':'A', 'G':'C', 'C':'G'}\n",
    "    rev_comp = \"\"\n",
    "    for i in seq[::-1].upper():\n",
    "        nuc = trans_dict[i]\n",
    "        rev_comp = rev_comp + nuc\n",
    "    return rev_comp\n",
    "rev_comp_3(seq)"
   ]
  },
  {
   "cell_type": "code",
   "execution_count": 5,
   "metadata": {},
   "outputs": [
    {
     "data": {
      "text/plain": [
       "'AAAAATACGAATGCAT'"
      ]
     },
     "execution_count": 5,
     "metadata": {},
     "output_type": "execute_result"
    }
   ],
   "source": [
    "# tight method\n",
    "def rev_comp_4(seq):\n",
    "    \"\"\"Returns the reverse complement of the input codon\"\"\"\n",
    "    trans_dict = {'A':'T', 'T':'A', 'G':'C', 'C':'G'}\n",
    "    return \"\".join([trans_dict[i.upper()] for i in seq[::-1]])\n",
    "rev_comp_4(seq)"
   ]
  },
  {
   "cell_type": "markdown",
   "metadata": {},
   "source": [
    "# Exercise 8.2 - Translate using codon table and sequence file"
   ]
  },
  {
   "cell_type": "code",
   "execution_count": 6,
   "metadata": {},
   "outputs": [],
   "source": [
    "# could incorporate the zip function\n",
    "codon_file = 'standard.code'\n",
    "\n",
    "file = open(codon_file)\n",
    "data = {}\n",
    "for line in file:\n",
    "    split_line = line.split()\n",
    "    key = split_line[0]\n",
    "    value = split_line[2]\n",
    "    data[key] = value\n",
    "file.close()\n",
    "\n",
    "b1 = data['Base1']\n",
    "b2 = data['Base2']\n",
    "b3 = data['Base3']\n",
    "aa = data['AAs']\n",
    "st = data['Starts']\n",
    "\n",
    "codons = {}\n",
    "init = {}\n",
    "n = len(aa)\n",
    "\n",
    "# could use enumerate function here\n",
    "for i in range(n):\n",
    "    codon = b1[i] + b2[i] + b3[i]\n",
    "    codons[codon] = aa[i]\n",
    "    init[codon] = (st[i] == 'M')\n",
    "        "
   ]
  },
  {
   "cell_type": "code",
   "execution_count": 7,
   "metadata": {},
   "outputs": [],
   "source": [
    "# read sequence file\n",
    "seq_file = 'anthrax_sasp.nuc'\n",
    "\n",
    "file = open(seq_file)\n",
    "seq = \"\"\n",
    "for line in file:\n",
    "    seq += line.strip()\n",
    "file.close()\n"
   ]
  },
  {
   "cell_type": "code",
   "execution_count": 8,
   "metadata": {},
   "outputs": [
    {
     "data": {
      "text/plain": [
       "60.0"
      ]
     },
     "execution_count": 8,
     "metadata": {},
     "output_type": "execute_result"
    }
   ],
   "source": [
    "len(seq) / 3"
   ]
  },
  {
   "cell_type": "code",
   "execution_count": 9,
   "metadata": {},
   "outputs": [
    {
     "data": {
      "text/plain": [
       "'TTGAGTAGACGAAGAGGTGTCATGTCAAATCAATTTAAAGAAGAGCTTGCAAAAGAGCTAGGCTTTTATGATGTTGTTCAGAAAGAAGGATGGGGCGGAATTCGTGCGAAAGATGCTGGTAACATGGTGAAACGTGCTATAGAAATTGCAGAACAGCAATTAATGAAACAAAACCAGTAG'"
      ]
     },
     "execution_count": 9,
     "metadata": {},
     "output_type": "execute_result"
    }
   ],
   "source": [
    "seq"
   ]
  },
  {
   "cell_type": "code",
   "execution_count": 10,
   "metadata": {},
   "outputs": [
    {
     "data": {
      "text/plain": [
       "'LSRRRGVMSNQFKEELAKELGFYDVVQKEGWGGIRAKDAGNMVKRAIEIAEQQLMKQNQ*'"
      ]
     },
     "execution_count": 10,
     "metadata": {},
     "output_type": "execute_result"
    }
   ],
   "source": [
    "# can I use this?\n",
    "# otherwise step thru len of seq and use floor division to construct and reset codons\n",
    "seq_codons = [seq[i:i+3] for i in range(0, len(seq), 3)]\n",
    "trans = \"\"\n",
    "for i in seq_codons:\n",
    "    aa = codons[i.upper()]\n",
    "    trans += aa\n",
    "trans"
   ]
  },
  {
   "cell_type": "code",
   "execution_count": 11,
   "metadata": {},
   "outputs": [
    {
     "data": {
      "text/plain": [
       "'LSRRRGVMSNQFKEELAKELGFYDVVQKEGWGGIRAKDAGNMVKRAIEIAEQQLMKQNQ*'"
      ]
     },
     "execution_count": 11,
     "metadata": {},
     "output_type": "execute_result"
    }
   ],
   "source": [
    "# can I use enumerate? built-in function\n",
    "trans = \"\"\n",
    "curr_codon = \"\"\n",
    "for i,n in enumerate(seq):\n",
    "    curr_codon += n\n",
    "    if (i + 1)%3 == 0:\n",
    "        trans += codons[curr_codon.upper()]\n",
    "        curr_codon = \"\"\n",
    "trans"
   ]
  },
  {
   "cell_type": "code",
   "execution_count": 12,
   "metadata": {},
   "outputs": [
    {
     "data": {
      "text/plain": [
       "'LSRRRGVMSNQFKEELAKELGFYDVVQKEGWGGIRAKDAGNMVKRAIEIAEQQLMKQNQ*'"
      ]
     },
     "execution_count": 12,
     "metadata": {},
     "output_type": "execute_result"
    }
   ],
   "source": [
    "# \"ugh\" method for list iteration\n",
    "trans = \"\"\n",
    "curr_codon = \"\"\n",
    "for i in range(len(seq)):\n",
    "    curr_codon += seq[i]\n",
    "    if (i + 1)%3 == 0:\n",
    "        trans += codons[curr_codon.upper()]\n",
    "        curr_codon = \"\"\n",
    "trans"
   ]
  },
  {
   "cell_type": "code",
   "execution_count": 13,
   "metadata": {},
   "outputs": [
    {
     "data": {
      "text/plain": [
       "True"
      ]
     },
     "execution_count": 13,
     "metadata": {},
     "output_type": "execute_result"
    }
   ],
   "source": [
    "# check if first codon is valid start codon\n",
    "init[seq_codons[0]]"
   ]
  }
 ],
 "metadata": {
  "kernelspec": {
   "display_name": "Python 3",
   "language": "python",
   "name": "python3"
  },
  "language_info": {
   "codemirror_mode": {
    "name": "ipython",
    "version": 3
   },
   "file_extension": ".py",
   "mimetype": "text/x-python",
   "name": "python",
   "nbconvert_exporter": "python",
   "pygments_lexer": "ipython3",
   "version": "3.7.3"
  }
 },
 "nbformat": 4,
 "nbformat_minor": 4
}
