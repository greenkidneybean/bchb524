{
 "cells": [
  {
   "cell_type": "markdown",
   "metadata": {},
   "source": [
    "# Exercise 8.1 - 3 methods to create reverse complement sequence"
   ]
  },
  {
   "cell_type": "code",
   "execution_count": null,
   "metadata": {},
   "outputs": [],
   "source": []
  },
  {
   "cell_type": "code",
   "execution_count": null,
   "metadata": {},
   "outputs": [],
   "source": []
  },
  {
   "cell_type": "code",
   "execution_count": null,
   "metadata": {},
   "outputs": [],
   "source": []
  },
  {
   "cell_type": "markdown",
   "metadata": {},
   "source": [
    "# Exercise 8.2 - Translate using codon table and sequence file"
   ]
  },
  {
   "cell_type": "code",
   "execution_count": 1,
   "metadata": {},
   "outputs": [],
   "source": [
    "# could incorporate the zip function\n",
    "codon_file = 'standard.code'\n",
    "\n",
    "file = open(codon_file)\n",
    "data = {}\n",
    "for line in file:\n",
    "    split_line = line.split()\n",
    "    key = split_line[0]\n",
    "    value = split_line[2]\n",
    "    data[key] = value\n",
    "file.close()\n",
    "\n",
    "b1 = data['Base1']\n",
    "b2 = data['Base2']\n",
    "b3 = data['Base3']\n",
    "aa = data['AAs']\n",
    "st = data['Starts']\n",
    "\n",
    "codons = {}\n",
    "init = {}\n",
    "n = len(aa)\n",
    "\n",
    "# could use enumerate function here\n",
    "for i in range(n):\n",
    "    codon = b1[i] + b2[i] + b3[i]\n",
    "    codons[codon] = aa[i]\n",
    "    init[codon] = (st[i] == 'M')\n",
    "        "
   ]
  },
  {
   "cell_type": "code",
   "execution_count": 3,
   "metadata": {},
   "outputs": [],
   "source": [
    "# read sequence file\n",
    "seq_file = 'anthrax_sasp.nuc'\n",
    "\n",
    "file = open(seq_file)\n",
    "seq = \"\"\n",
    "for line in file:\n",
    "    seq += line.strip()\n",
    "file.close()\n"
   ]
  },
  {
   "cell_type": "code",
   "execution_count": 6,
   "metadata": {},
   "outputs": [
    {
     "data": {
      "text/plain": [
       "60.0"
      ]
     },
     "execution_count": 6,
     "metadata": {},
     "output_type": "execute_result"
    }
   ],
   "source": [
    "len(seq) / 3"
   ]
  },
  {
   "cell_type": "code",
   "execution_count": 8,
   "metadata": {},
   "outputs": [
    {
     "data": {
      "text/plain": [
       "'TTGAGTAGACGAAGAGGTGTCATGTCAAATCAATTTAAAGAAGAGCTTGCAAAAGAGCTAGGCTTTTATGATGTTGTTCAGAAAGAAGGATGGGGCGGAATTCGTGCGAAAGATGCTGGTAACATGGTGAAACGTGCTATAGAAATTGCAGAACAGCAATTAATGAAACAAAACCAGTAG'"
      ]
     },
     "execution_count": 8,
     "metadata": {},
     "output_type": "execute_result"
    }
   ],
   "source": [
    "seq"
   ]
  },
  {
   "cell_type": "code",
   "execution_count": 27,
   "metadata": {},
   "outputs": [
    {
     "data": {
      "text/plain": [
       "'LSRRRGVMSNQFKEELAKELGFYDVVQKEGWGGIRAKDAGNMVKRAIEIAEQQLMKQNQ*'"
      ]
     },
     "execution_count": 27,
     "metadata": {},
     "output_type": "execute_result"
    }
   ],
   "source": [
    "# can I use this?\n",
    "# otherwise step thru len of seq and use floor division to construct and reset codons\n",
    "seq_codons = [seq[i:i+3] for i in range(0, len(seq), 3)]\n",
    "trans = \"\"\n",
    "for i in seq_codons:\n",
    "    aa = codons[i.upper()]\n",
    "    trans += aa\n",
    "trans"
   ]
  },
  {
   "cell_type": "code",
   "execution_count": 29,
   "metadata": {},
   "outputs": [
    {
     "data": {
      "text/plain": [
       "'LSRRRGVMSNQFKEELAKELGFYDVVQKEGWGGIRAKDAGNMVKRAIEIAEQQLMKQNQ*'"
      ]
     },
     "execution_count": 29,
     "metadata": {},
     "output_type": "execute_result"
    }
   ],
   "source": [
    "# can I use enumerate? built-in function\n",
    "trans = \"\"\n",
    "curr_codon = \"\"\n",
    "for i,n in enumerate(seq):\n",
    "    curr_codon += n\n",
    "    if (i + 1)%3 == 0:\n",
    "        trans += codons[curr_codon.upper()]\n",
    "        curr_codon = \"\"\n",
    "trans"
   ]
  },
  {
   "cell_type": "code",
   "execution_count": 30,
   "metadata": {},
   "outputs": [
    {
     "data": {
      "text/plain": [
       "'LSRRRGVMSNQFKEELAKELGFYDVVQKEGWGGIRAKDAGNMVKRAIEIAEQQLMKQNQ*'"
      ]
     },
     "execution_count": 30,
     "metadata": {},
     "output_type": "execute_result"
    }
   ],
   "source": [
    "# \"ugh\" method for list iteration\n",
    "trans = \"\"\n",
    "curr_codon = \"\"\n",
    "for i in range(len(seq)):\n",
    "    curr_codon += seq[i]\n",
    "    if (i + 1)%3 == 0:\n",
    "        trans += codons[curr_codon.upper()]\n",
    "        curr_codon = \"\"\n",
    "trans"
   ]
  },
  {
   "cell_type": "code",
   "execution_count": 18,
   "metadata": {},
   "outputs": [
    {
     "data": {
      "text/plain": [
       "True"
      ]
     },
     "execution_count": 18,
     "metadata": {},
     "output_type": "execute_result"
    }
   ],
   "source": [
    "# check if first codon is valid start codon\n",
    "init[seq_codons[0]]"
   ]
  },
  {
   "cell_type": "code",
   "execution_count": null,
   "metadata": {},
   "outputs": [],
   "source": []
  }
 ],
 "metadata": {
  "kernelspec": {
   "display_name": "Python 3",
   "language": "python",
   "name": "python3"
  },
  "language_info": {
   "codemirror_mode": {
    "name": "ipython",
    "version": 3
   },
   "file_extension": ".py",
   "mimetype": "text/x-python",
   "name": "python",
   "nbconvert_exporter": "python",
   "pygments_lexer": "ipython3",
   "version": "3.7.3"
  }
 },
 "nbformat": 4,
 "nbformat_minor": 4
}
