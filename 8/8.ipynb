{
 "cells": [
  {
   "cell_type": "markdown",
   "metadata": {},
   "source": [
    "# Exercise 8.1 - 3 methods to create reverse complement sequence"
   ]
  },
  {
   "cell_type": "code",
   "execution_count": 12,
   "metadata": {},
   "outputs": [],
   "source": [
    "seq = 'ATGCATTCGTATTTTT'"
   ]
  },
  {
   "cell_type": "code",
   "execution_count": 2,
   "metadata": {},
   "outputs": [
    {
     "data": {
      "text/plain": [
       "'AAAAATACGAATGCAT'"
      ]
     },
     "execution_count": 2,
     "metadata": {},
     "output_type": "execute_result"
    }
   ],
   "source": [
    "# original method\n",
    "def rev_seq(seq):\n",
    "    return seq[::-1]\n",
    "def complement_seq(nuc):\n",
    "    if nuc == \"A\":\n",
    "        comp = \"T\"\n",
    "    elif nuc == \"T\":\n",
    "        comp = \"A\"\n",
    "    elif nuc == \"C\":\n",
    "        comp = \"G\"\n",
    "    elif nuc == \"G\":\n",
    "        comp = \"C\"\n",
    "    else:\n",
    "        comp = nuc\n",
    "    return comp\n",
    "def rev_comp_1(seq):\n",
    "    rev_comp = \"\"\n",
    "    for i in rev_seq(seq.upper()):\n",
    "        rev_comp = rev_comp + (complement_seq(i))\n",
    "    return rev_comp\n",
    "rev_comp_1(seq)"
   ]
  },
  {
   "cell_type": "code",
   "execution_count": 3,
   "metadata": {},
   "outputs": [
    {
     "data": {
      "text/plain": [
       "'AAAAATACGAATGCAT'"
      ]
     },
     "execution_count": 3,
     "metadata": {},
     "output_type": "execute_result"
    }
   ],
   "source": [
    "# zip two lists\n",
    "def rev_comp_2(seq):\n",
    "    nuc_list = ['A','T','C','G']\n",
    "    trans_list = ['T','A','G','C']\n",
    "    rev_comp = \"\"\n",
    "    for n in seq[::-1].upper():\n",
    "        for x,y in zip(nuc_list, trans_list):\n",
    "            if x == n:\n",
    "                rev_comp += y\n",
    "    return rev_comp\n",
    "rev_comp_2(seq)"
   ]
  },
  {
   "cell_type": "code",
   "execution_count": 4,
   "metadata": {},
   "outputs": [
    {
     "data": {
      "text/plain": [
       "'AAAAATACGAATGCAT'"
      ]
     },
     "execution_count": 4,
     "metadata": {},
     "output_type": "execute_result"
    }
   ],
   "source": [
    "def rev_comp_3(seq):\n",
    "    \"\"\"Returns the reverse complement using dictionary\"\"\"\n",
    "    trans_dict = {'A':'T', 'T':'A', 'G':'C', 'C':'G'}\n",
    "    rev_comp = \"\"\n",
    "    for i in seq[::-1].upper():\n",
    "        nuc = trans_dict[i]\n",
    "        rev_comp = rev_comp + nuc\n",
    "    return rev_comp\n",
    "rev_comp_3(seq)"
   ]
  },
  {
   "cell_type": "code",
   "execution_count": 5,
   "metadata": {},
   "outputs": [
    {
     "data": {
      "text/plain": [
       "'AAAAATACGAATGCAT'"
      ]
     },
     "execution_count": 5,
     "metadata": {},
     "output_type": "execute_result"
    }
   ],
   "source": [
    "# tight method\n",
    "def rev_comp_4(seq):\n",
    "    \"\"\"Returns the reverse complement of the input codon\"\"\"\n",
    "    trans_dict = {'A':'T', 'T':'A', 'G':'C', 'C':'G'}\n",
    "    return \"\".join([trans_dict[i.upper()] for i in seq[::-1]])\n",
    "rev_comp_4(seq)"
   ]
  },
  {
   "cell_type": "code",
   "execution_count": 17,
   "metadata": {},
   "outputs": [
    {
     "data": {
      "text/plain": [
       "'AAAAATACGAATGCAT'"
      ]
     },
     "execution_count": 17,
     "metadata": {},
     "output_type": "execute_result"
    }
   ],
   "source": [
    "def rev_comp_5(seq):\n",
    "    nuc_list = 'ATCG'\n",
    "    trans_list = 'TAGC'\n",
    "    rev_comp = \"\"\n",
    "    for nuc in seq.upper()[::-1]:\n",
    "        for x,y in enumerate(nuc_list):\n",
    "            if y == nuc:\n",
    "                rev_comp += trans_list[x]\n",
    "    return rev_comp\n",
    "rev_comp_5(seq)"
   ]
  },
  {
   "cell_type": "code",
   "execution_count": 6,
   "metadata": {},
   "outputs": [
    {
     "data": {
      "text/plain": [
       "'AAAAATACGAATGCAT'"
      ]
     },
     "execution_count": 6,
     "metadata": {},
     "output_type": "execute_result"
    }
   ],
   "source": [
    "# one line\n",
    "\"\".join({'A':'T', 'T':'A', 'G':'C', 'C':'G'}[i.upper()] for i in seq[::-1])"
   ]
  },
  {
   "cell_type": "markdown",
   "metadata": {},
   "source": [
    "# Exercise 8.2 - Translate using codon table and sequence file"
   ]
  },
  {
   "cell_type": "code",
   "execution_count": 18,
   "metadata": {},
   "outputs": [
    {
     "ename": "AttributeError",
     "evalue": "'int' object has no attribute 'split'",
     "output_type": "error",
     "traceback": [
      "\u001b[0;31m-------------------------------------------------------------\u001b[0m",
      "\u001b[0;31mAttributeError\u001b[0m              Traceback (most recent call last)",
      "\u001b[0;32m<ipython-input-18-4d210c9e7ae8>\u001b[0m in \u001b[0;36m<module>\u001b[0;34m\u001b[0m\n\u001b[1;32m      1\u001b[0m \u001b[0ma\u001b[0m \u001b[0;34m=\u001b[0m \u001b[0;36m123\u001b[0m\u001b[0;34m\u001b[0m\u001b[0;34m\u001b[0m\u001b[0m\n\u001b[0;32m----> 2\u001b[0;31m \u001b[0ma\u001b[0m\u001b[0;34m.\u001b[0m\u001b[0msplit\u001b[0m\u001b[0;34m(\u001b[0m\u001b[0;34m)\u001b[0m\u001b[0;34m\u001b[0m\u001b[0;34m\u001b[0m\u001b[0m\n\u001b[0m",
      "\u001b[0;31mAttributeError\u001b[0m: 'int' object has no attribute 'split'"
     ]
    }
   ],
   "source": [
    "a = 123\n",
    "a.split()"
   ]
  },
  {
   "cell_type": "code",
   "execution_count": 25,
   "metadata": {},
   "outputs": [
    {
     "data": {
      "text/plain": [
       "{'AAs': 'FFLLSSSSYY**CC*WLLLLPPPPHHQQRRRRIIIMTTTTNNKKSSRRVVVVAAAADDEEGGGG',\n",
       " 'Starts': '---M---------------M---------------M----------------------------',\n",
       " 'Base1': 'TTTTTTTTTTTTTTTTCCCCCCCCCCCCCCCCAAAAAAAAAAAAAAAAGGGGGGGGGGGGGGGG',\n",
       " 'Base2': 'TTTTCCCCAAAAGGGGTTTTCCCCAAAAGGGGTTTTCCCCAAAAGGGGTTTTCCCCAAAAGGGG',\n",
       " 'Base3': 'TCAGTCAGTCAGTCAGTCAGTCAGTCAGTCAGTCAGTCAGTCAGTCAGTCAGTCAGTCAGTCAG'}"
      ]
     },
     "execution_count": 25,
     "metadata": {},
     "output_type": "execute_result"
    }
   ],
   "source": [
    "# could incorporate the zip function\n",
    "codon_file = 'standard.code'\n",
    "\n",
    "file = open(codon_file)\n",
    "data = {}\n",
    "for line in file:\n",
    "    split_line = line.split()\n",
    "    #print(split_line)\n",
    "    key = split_line[0]\n",
    "    #print(key)\n",
    "    value = split_line[2]\n",
    "    data[key] = value\n",
    "file.close()"
   ]
  },
  {
   "cell_type": "code",
   "execution_count": 37,
   "metadata": {},
   "outputs": [],
   "source": [
    "b1 = data['Base1']\n",
    "b2 = data['Base2']\n",
    "b3 = data['Base3']\n",
    "aa = data['AAs']\n",
    "st = data['Starts']\n",
    "\n",
    "codons = {}\n",
    "init = {}\n",
    "n = len(aa)\n",
    "\n",
    "# could use enumerate function here\n",
    "for i in range(n):\n",
    "    codon = b1[i] + b2[i] + b3[i]\n",
    "    codons[codon] = aa[i]\n",
    "    init[codon] = (st[i] == 'M')"
   ]
  },
  {
   "cell_type": "code",
   "execution_count": 56,
   "metadata": {},
   "outputs": [
    {
     "data": {
      "text/plain": [
       "'TTGAGTAGACGAAGAGGTGTCATGTCAAATCAATTTAAAGAAGAGCTTGCAAAAGAGCTAGGCTTTTATGATGTTGTTCAGAAAGAAGGATGGGGCGGAATTCGTGCGAAAGATGCTGGTAACATGGTGAAACGTGCTATAGAAATTGCAGAACAGCAATTAATGAAACAAAACCAGTAG'"
      ]
     },
     "execution_count": 56,
     "metadata": {},
     "output_type": "execute_result"
    }
   ],
   "source": [
    "# read sequence file\n",
    "seq_file = 'anthrax_sasp.nuc'\n",
    "\n",
    "file = open(seq_file)\n",
    "seq = \"\".join(file.read().split())\n",
    "file.close()\n",
    "seq"
   ]
  },
  {
   "cell_type": "code",
   "execution_count": 89,
   "metadata": {},
   "outputs": [
    {
     "data": {
      "text/plain": [
       "14"
      ]
     },
     "execution_count": 89,
     "metadata": {},
     "output_type": "execute_result"
    }
   ],
   "source": [
    "len(seq)"
   ]
  },
  {
   "cell_type": "code",
   "execution_count": 90,
   "metadata": {},
   "outputs": [
    {
     "data": {
      "text/plain": [
       "[0, 3, 6, 9, 12]"
      ]
     },
     "execution_count": 90,
     "metadata": {},
     "output_type": "execute_result"
    }
   ],
   "source": [
    "list(range(0,14,3))"
   ]
  },
  {
   "cell_type": "code",
   "execution_count": 86,
   "metadata": {},
   "outputs": [
    {
     "data": {
      "text/plain": [
       "'atc'"
      ]
     },
     "execution_count": 86,
     "metadata": {},
     "output_type": "execute_result"
    }
   ],
   "source": [
    "i = 0\n",
    "seq = 'atctagaccg'\n",
    "seq[i:i+3]"
   ]
  },
  {
   "cell_type": "code",
   "execution_count": 88,
   "metadata": {},
   "outputs": [
    {
     "data": {
      "text/plain": [
       "'ggg'"
      ]
     },
     "execution_count": 88,
     "metadata": {},
     "output_type": "execute_result"
    }
   ],
   "source": [
    "i = 9\n",
    "seq = 'atctagaccgggac'\n",
    "seq[i:i+3]"
   ]
  },
  {
   "cell_type": "code",
   "execution_count": 76,
   "metadata": {},
   "outputs": [
    {
     "name": "stdout",
     "output_type": "stream",
     "text": [
      "0\n",
      "1\n",
      "2\n",
      "3\n",
      "4\n",
      "5\n",
      "6\n",
      "7\n",
      "8\n",
      "9\n"
     ]
    }
   ],
   "source": [
    "for i in range(0,10):\n",
    "    print(i)"
   ]
  },
  {
   "cell_type": "code",
   "execution_count": 73,
   "metadata": {},
   "outputs": [],
   "source": [
    "string = \"123456\""
   ]
  },
  {
   "cell_type": "code",
   "execution_count": 75,
   "metadata": {},
   "outputs": [
    {
     "data": {
      "text/plain": [
       "'45'"
      ]
     },
     "execution_count": 75,
     "metadata": {},
     "output_type": "execute_result"
    }
   ],
   "source": [
    "string[3:5]"
   ]
  },
  {
   "cell_type": "code",
   "execution_count": null,
   "metadata": {},
   "outputs": [],
   "source": []
  },
  {
   "cell_type": "code",
   "execution_count": 59,
   "metadata": {},
   "outputs": [
    {
     "data": {
      "text/plain": [
       "[]"
      ]
     },
     "execution_count": 59,
     "metadata": {},
     "output_type": "execute_result"
    }
   ],
   "source": [
    "list(rangae(len(seq),3))"
   ]
  },
  {
   "cell_type": "code",
   "execution_count": null,
   "metadata": {},
   "outputs": [],
   "source": []
  },
  {
   "cell_type": "code",
   "execution_count": 8,
   "metadata": {},
   "outputs": [
    {
     "data": {
      "text/plain": [
       "60.0"
      ]
     },
     "execution_count": 8,
     "metadata": {},
     "output_type": "execute_result"
    }
   ],
   "source": [
    "len(seq) / 3"
   ]
  },
  {
   "cell_type": "code",
   "execution_count": 9,
   "metadata": {},
   "outputs": [
    {
     "data": {
      "text/plain": [
       "'TTGAGTAGACGAAGAGGTGTCATGTCAAATCAATTTAAAGAAGAGCTTGCAAAAGAGCTAGGCTTTTATGATGTTGTTCAGAAAGAAGGATGGGGCGGAATTCGTGCGAAAGATGCTGGTAACATGGTGAAACGTGCTATAGAAATTGCAGAACAGCAATTAATGAAACAAAACCAGTAG'"
      ]
     },
     "execution_count": 9,
     "metadata": {},
     "output_type": "execute_result"
    }
   ],
   "source": [
    "seq"
   ]
  },
  {
   "cell_type": "code",
   "execution_count": 10,
   "metadata": {},
   "outputs": [
    {
     "data": {
      "text/plain": [
       "'LSRRRGVMSNQFKEELAKELGFYDVVQKEGWGGIRAKDAGNMVKRAIEIAEQQLMKQNQ*'"
      ]
     },
     "execution_count": 10,
     "metadata": {},
     "output_type": "execute_result"
    }
   ],
   "source": [
    "# can I use this?\n",
    "# otherwise step thru len of seq and use floor division to construct and reset codons\n",
    "seq_codons = [seq[i:i+3] for i in range(0, len(seq), 3)]\n",
    "trans = \"\"\n",
    "for i in seq_codons:\n",
    "    aa = codons[i.upper()]\n",
    "    trans += aa\n",
    "trans"
   ]
  },
  {
   "cell_type": "code",
   "execution_count": 11,
   "metadata": {},
   "outputs": [
    {
     "data": {
      "text/plain": [
       "'LSRRRGVMSNQFKEELAKELGFYDVVQKEGWGGIRAKDAGNMVKRAIEIAEQQLMKQNQ*'"
      ]
     },
     "execution_count": 11,
     "metadata": {},
     "output_type": "execute_result"
    }
   ],
   "source": [
    "# can I use enumerate? built-in function\n",
    "trans = \"\"\n",
    "curr_codon = \"\"\n",
    "for i,n in enumerate(seq):\n",
    "    curr_codon += n\n",
    "    if (i + 1)%3 == 0:\n",
    "        trans += codons[curr_codon.upper()]\n",
    "        curr_codon = \"\"\n",
    "trans"
   ]
  },
  {
   "cell_type": "code",
   "execution_count": 12,
   "metadata": {},
   "outputs": [
    {
     "data": {
      "text/plain": [
       "'LSRRRGVMSNQFKEELAKELGFYDVVQKEGWGGIRAKDAGNMVKRAIEIAEQQLMKQNQ*'"
      ]
     },
     "execution_count": 12,
     "metadata": {},
     "output_type": "execute_result"
    }
   ],
   "source": [
    "# \"ugh\" method for list iteration\n",
    "trans = \"\"\n",
    "curr_codon = \"\"\n",
    "for i in range(len(seq)):\n",
    "    curr_codon += seq[i]\n",
    "    if (i + 1)%3 == 0:\n",
    "        trans += codons[curr_codon.upper()]\n",
    "        curr_codon = \"\"\n",
    "trans"
   ]
  },
  {
   "cell_type": "code",
   "execution_count": 13,
   "metadata": {},
   "outputs": [
    {
     "data": {
      "text/plain": [
       "True"
      ]
     },
     "execution_count": 13,
     "metadata": {},
     "output_type": "execute_result"
    }
   ],
   "source": [
    "# check if first codon is valid start codon\n",
    "init[seq_codons[0]]"
   ]
  }
 ],
 "metadata": {
  "kernelspec": {
   "display_name": "Python 3",
   "language": "python",
   "name": "python3"
  },
  "language_info": {
   "codemirror_mode": {
    "name": "ipython",
    "version": 3
   },
   "file_extension": ".py",
   "mimetype": "text/x-python",
   "name": "python",
   "nbconvert_exporter": "python",
   "pygments_lexer": "ipython3",
   "version": "3.7.3"
  }
 },
 "nbformat": 4,
 "nbformat_minor": 4
}
